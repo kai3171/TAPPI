{
 "cells": [
  {
   "cell_type": "code",
   "execution_count": null,
   "metadata": {},
   "outputs": [
    {
     "name": "stdout",
     "output_type": "stream",
     "text": [
      "(19699, 2)\n"
     ]
    },
    {
     "data": {
      "text/html": [
       "<div>\n",
       "<style scoped>\n",
       "    .dataframe tbody tr th:only-of-type {\n",
       "        vertical-align: middle;\n",
       "    }\n",
       "\n",
       "    .dataframe tbody tr th {\n",
       "        vertical-align: top;\n",
       "    }\n",
       "\n",
       "    .dataframe thead th {\n",
       "        text-align: right;\n",
       "    }\n",
       "</style>\n",
       "<table border=\"1\" class=\"dataframe\">\n",
       "  <thead>\n",
       "    <tr style=\"text-align: right;\">\n",
       "      <th></th>\n",
       "      <th>id</th>\n",
       "      <th>sequence</th>\n",
       "    </tr>\n",
       "  </thead>\n",
       "  <tbody>\n",
       "    <tr>\n",
       "      <th>0</th>\n",
       "      <td>9606.ENSP00000000233</td>\n",
       "      <td>MGLTVSALFSRIFGKKQMRILMVGLDAAGKTTILYKLKLGEIVTTI...</td>\n",
       "    </tr>\n",
       "    <tr>\n",
       "      <th>1</th>\n",
       "      <td>9606.ENSP00000000412</td>\n",
       "      <td>MFPFYSCWRTGLLLLLLAVAVRESWQTEEKTCDLVGEKGKESEKEL...</td>\n",
       "    </tr>\n",
       "    <tr>\n",
       "      <th>2</th>\n",
       "      <td>9606.ENSP00000001008</td>\n",
       "      <td>MTAEEMKATESGAQSAPLPMEGVDISPKQDEGVLKVIKREGTGTEM...</td>\n",
       "    </tr>\n",
       "    <tr>\n",
       "      <th>3</th>\n",
       "      <td>9606.ENSP00000001146</td>\n",
       "      <td>MLFEGLDLVSALATLAACLVSVTLLLAVSQQLWQLRWAATRDKSCK...</td>\n",
       "    </tr>\n",
       "    <tr>\n",
       "      <th>4</th>\n",
       "      <td>9606.ENSP00000002125</td>\n",
       "      <td>MSVLLRSGLGPLCAVARAAIPFIWRGKYFSSGNEPAENPVTPMLRH...</td>\n",
       "    </tr>\n",
       "  </tbody>\n",
       "</table>\n",
       "</div>"
      ],
      "text/plain": [
       "                     id                                           sequence\n",
       "0  9606.ENSP00000000233  MGLTVSALFSRIFGKKQMRILMVGLDAAGKTTILYKLKLGEIVTTI...\n",
       "1  9606.ENSP00000000412  MFPFYSCWRTGLLLLLLAVAVRESWQTEEKTCDLVGEKGKESEKEL...\n",
       "2  9606.ENSP00000001008  MTAEEMKATESGAQSAPLPMEGVDISPKQDEGVLKVIKREGTGTEM...\n",
       "3  9606.ENSP00000001146  MLFEGLDLVSALATLAACLVSVTLLLAVSQQLWQLRWAATRDKSCK...\n",
       "4  9606.ENSP00000002125  MSVLLRSGLGPLCAVARAAIPFIWRGKYFSSGNEPAENPVTPMLRH..."
      ]
     },
     "execution_count": 1,
     "metadata": {},
     "output_type": "execute_result"
    }
   ],
   "source": [
    "import pandas as pd\n",
    "from Bio import SeqIO\n",
    "\n",
    "# download from String database\n",
    "file_path = '/data4/lyk/manything/9606.protein.sequences.v12.0.fa'\n",
    "\n",
    "\n",
    "data = []\n",
    "\n",
    "\n",
    "for record in SeqIO.parse(file_path, \"fasta\"):\n",
    "    data.append({\"id\": record.id, \"sequence\": str(record.seq)})\n",
    "\n",
    "\n",
    "df = pd.DataFrame(data)\n",
    "print(df.shape)\n",
    "df.head()"
   ]
  },
  {
   "cell_type": "code",
   "execution_count": null,
   "metadata": {},
   "outputs": [
    {
     "data": {
      "text/html": [
       "<div>\n",
       "<style scoped>\n",
       "    .dataframe tbody tr th:only-of-type {\n",
       "        vertical-align: middle;\n",
       "    }\n",
       "\n",
       "    .dataframe tbody tr th {\n",
       "        vertical-align: top;\n",
       "    }\n",
       "\n",
       "    .dataframe thead th {\n",
       "        text-align: right;\n",
       "    }\n",
       "</style>\n",
       "<table border=\"1\" class=\"dataframe\">\n",
       "  <thead>\n",
       "    <tr style=\"text-align: right;\">\n",
       "      <th></th>\n",
       "      <th>#string_protein_id</th>\n",
       "      <th>preferred_name</th>\n",
       "      <th>protein_size</th>\n",
       "      <th>annotation</th>\n",
       "    </tr>\n",
       "  </thead>\n",
       "  <tbody>\n",
       "    <tr>\n",
       "      <th>0</th>\n",
       "      <td>9606.ENSP00000000233</td>\n",
       "      <td>ARF5</td>\n",
       "      <td>180</td>\n",
       "      <td>ADP-ribosylation factor 5; GTP-binding protein...</td>\n",
       "    </tr>\n",
       "    <tr>\n",
       "      <th>1</th>\n",
       "      <td>9606.ENSP00000000412</td>\n",
       "      <td>M6PR</td>\n",
       "      <td>277</td>\n",
       "      <td>Cation-dependent mannose-6-phosphate receptor;...</td>\n",
       "    </tr>\n",
       "    <tr>\n",
       "      <th>2</th>\n",
       "      <td>9606.ENSP00000001008</td>\n",
       "      <td>FKBP4</td>\n",
       "      <td>459</td>\n",
       "      <td>Peptidyl-prolyl cis-trans isomerase FKBP4, N-t...</td>\n",
       "    </tr>\n",
       "    <tr>\n",
       "      <th>3</th>\n",
       "      <td>9606.ENSP00000001146</td>\n",
       "      <td>CYP26B1</td>\n",
       "      <td>512</td>\n",
       "      <td>Cytochrome P450 26B1; Involved in the metaboli...</td>\n",
       "    </tr>\n",
       "    <tr>\n",
       "      <th>4</th>\n",
       "      <td>9606.ENSP00000002125</td>\n",
       "      <td>NDUFAF7</td>\n",
       "      <td>441</td>\n",
       "      <td>Protein arginine methyltransferase NDUFAF7, mi...</td>\n",
       "    </tr>\n",
       "  </tbody>\n",
       "</table>\n",
       "</div>"
      ],
      "text/plain": [
       "     #string_protein_id preferred_name  protein_size  \\\n",
       "0  9606.ENSP00000000233           ARF5           180   \n",
       "1  9606.ENSP00000000412           M6PR           277   \n",
       "2  9606.ENSP00000001008          FKBP4           459   \n",
       "3  9606.ENSP00000001146        CYP26B1           512   \n",
       "4  9606.ENSP00000002125        NDUFAF7           441   \n",
       "\n",
       "                                          annotation  \n",
       "0  ADP-ribosylation factor 5; GTP-binding protein...  \n",
       "1  Cation-dependent mannose-6-phosphate receptor;...  \n",
       "2  Peptidyl-prolyl cis-trans isomerase FKBP4, N-t...  \n",
       "3  Cytochrome P450 26B1; Involved in the metaboli...  \n",
       "4  Protein arginine methyltransferase NDUFAF7, mi...  "
      ]
     },
     "execution_count": 2,
     "metadata": {},
     "output_type": "execute_result"
    }
   ],
   "source": [
    "import pandas as pd\n",
    "# download from String database\n",
    "pros = pd.read_csv('/data4/lyk/manything/9606.protein.info.v12.0.txt', sep='\\t')\n",
    "pros.head()"
   ]
  },
  {
   "cell_type": "code",
   "execution_count": null,
   "metadata": {},
   "outputs": [
    {
     "data": {
      "text/html": [
       "<div>\n",
       "<style scoped>\n",
       "    .dataframe tbody tr th:only-of-type {\n",
       "        vertical-align: middle;\n",
       "    }\n",
       "\n",
       "    .dataframe tbody tr th {\n",
       "        vertical-align: top;\n",
       "    }\n",
       "\n",
       "    .dataframe thead th {\n",
       "        text-align: right;\n",
       "    }\n",
       "</style>\n",
       "<table border=\"1\" class=\"dataframe\">\n",
       "  <thead>\n",
       "    <tr style=\"text-align: right;\">\n",
       "      <th></th>\n",
       "      <th>protein1</th>\n",
       "      <th>protein2</th>\n",
       "      <th>combined_score</th>\n",
       "    </tr>\n",
       "  </thead>\n",
       "  <tbody>\n",
       "    <tr>\n",
       "      <th>0</th>\n",
       "      <td>ARF5</td>\n",
       "      <td>RALGPS2</td>\n",
       "      <td>173</td>\n",
       "    </tr>\n",
       "    <tr>\n",
       "      <th>1</th>\n",
       "      <td>ARF5</td>\n",
       "      <td>FHDC1</td>\n",
       "      <td>154</td>\n",
       "    </tr>\n",
       "    <tr>\n",
       "      <th>2</th>\n",
       "      <td>ARF5</td>\n",
       "      <td>ATP6V1E1</td>\n",
       "      <td>151</td>\n",
       "    </tr>\n",
       "    <tr>\n",
       "      <th>3</th>\n",
       "      <td>ARF5</td>\n",
       "      <td>CYTH2</td>\n",
       "      <td>471</td>\n",
       "    </tr>\n",
       "    <tr>\n",
       "      <th>4</th>\n",
       "      <td>ARF5</td>\n",
       "      <td>PSD3</td>\n",
       "      <td>201</td>\n",
       "    </tr>\n",
       "  </tbody>\n",
       "</table>\n",
       "</div>"
      ],
      "text/plain": [
       "  protein1  protein2  combined_score\n",
       "0     ARF5   RALGPS2             173\n",
       "1     ARF5     FHDC1             154\n",
       "2     ARF5  ATP6V1E1             151\n",
       "3     ARF5     CYTH2             471\n",
       "4     ARF5      PSD3             201"
      ]
     },
     "execution_count": 3,
     "metadata": {},
     "output_type": "execute_result"
    }
   ],
   "source": [
    "# download from String database\n",
    "ppis = pd.read_csv('/data4/lyk/manything/9606.protein.links.v12.0.txt', sep=' ')\n",
    "df_merged = ppis.merge(pros[['#string_protein_id', 'preferred_name']], \n",
    "                                   left_on='protein1', \n",
    "                                   right_on='#string_protein_id', \n",
    "                                   how='left')\n",
    "\n",
    "\n",
    "df_merged['protein1'] = df_merged['preferred_name']\n",
    "\n",
    "\n",
    "df_merged.drop(columns=['#string_protein_id', 'preferred_name'], inplace=True)\n",
    "\n",
    "\n",
    "df_merged = df_merged.merge(pros[['#string_protein_id', 'preferred_name']], \n",
    "                                   left_on='protein2', \n",
    "                                   right_on='#string_protein_id', \n",
    "                                   how='left')\n",
    "\n",
    "\n",
    "df_merged['protein2'] = df_merged['preferred_name']\n",
    "\n",
    "\n",
    "df_merged.drop(columns=['#string_protein_id', 'preferred_name'], inplace=True)\n",
    "\n",
    "ppis = df_merged\n",
    "ppis.head()"
   ]
  },
  {
   "cell_type": "code",
   "execution_count": null,
   "metadata": {},
   "outputs": [],
   "source": [
    "import sys\n",
    "\n",
    "def display_progress(current, total):\n",
    "    bar_length = 40  \n",
    "    progress = current / total\n",
    "    arrow = '█' * int(round(progress * bar_length) - 1)\n",
    "    spaces = ' ' * (bar_length - len(arrow))\n",
    "\n",
    "    sys.stdout.write(f'\\rProgress: |{arrow}{spaces}| {current}/{total} ({progress:.2%})')\n",
    "    sys.stdout.flush()"
   ]
  },
  {
   "cell_type": "code",
   "execution_count": 5,
   "metadata": {},
   "outputs": [
    {
     "data": {
      "text/html": [
       "<div>\n",
       "<style scoped>\n",
       "    .dataframe tbody tr th:only-of-type {\n",
       "        vertical-align: middle;\n",
       "    }\n",
       "\n",
       "    .dataframe tbody tr th {\n",
       "        vertical-align: top;\n",
       "    }\n",
       "\n",
       "    .dataframe thead th {\n",
       "        text-align: right;\n",
       "    }\n",
       "</style>\n",
       "<table border=\"1\" class=\"dataframe\">\n",
       "  <thead>\n",
       "    <tr style=\"text-align: right;\">\n",
       "      <th></th>\n",
       "      <th>protein1</th>\n",
       "      <th>protein2</th>\n",
       "      <th>combined_score</th>\n",
       "    </tr>\n",
       "  </thead>\n",
       "  <tbody>\n",
       "    <tr>\n",
       "      <th>0</th>\n",
       "      <td>ARF5</td>\n",
       "      <td>RALGPS2</td>\n",
       "      <td>173</td>\n",
       "    </tr>\n",
       "    <tr>\n",
       "      <th>1</th>\n",
       "      <td>ARF5</td>\n",
       "      <td>FHDC1</td>\n",
       "      <td>154</td>\n",
       "    </tr>\n",
       "    <tr>\n",
       "      <th>2</th>\n",
       "      <td>ARF5</td>\n",
       "      <td>ATP6V1E1</td>\n",
       "      <td>151</td>\n",
       "    </tr>\n",
       "    <tr>\n",
       "      <th>3</th>\n",
       "      <td>ARF5</td>\n",
       "      <td>CYTH2</td>\n",
       "      <td>471</td>\n",
       "    </tr>\n",
       "    <tr>\n",
       "      <th>4</th>\n",
       "      <td>ARF5</td>\n",
       "      <td>PSD3</td>\n",
       "      <td>201</td>\n",
       "    </tr>\n",
       "  </tbody>\n",
       "</table>\n",
       "</div>"
      ],
      "text/plain": [
       "  protein1  protein2  combined_score\n",
       "0     ARF5   RALGPS2             173\n",
       "1     ARF5     FHDC1             154\n",
       "2     ARF5  ATP6V1E1             151\n",
       "3     ARF5     CYTH2             471\n",
       "4     ARF5      PSD3             201"
      ]
     },
     "execution_count": 5,
     "metadata": {},
     "output_type": "execute_result"
    }
   ],
   "source": [
    "df_merged.head()"
   ]
  },
  {
   "cell_type": "code",
   "execution_count": null,
   "metadata": {},
   "outputs": [],
   "source": [
    "import networkx as nx\n",
    "# G = nx.read_gml('graph_ppi.gml')\n",
    "G = nx.read_gexf('../mippi_variation/ppi_network.gexf')\n",
    "\n",
    "G = nx.Graph()\n",
    "\n",
    "\n",
    "for protein in pros['preferred_name']:\n",
    "    G.add_node(protein)\n",
    "\n",
    "\n",
    "num_now = 0\n",
    "for _, row in df_merged.iterrows():\n",
    "    G.add_edge(row['protein1'], row['protein2'], weight=row['combined_score'])\n",
    "    if num_now % 1000 == 0:\n",
    "        display_progress(num_now, len(df_merged))\n",
    "    num_now = num_now + 1\n",
    "\n",
    "source = 'ARF5'\n",
    "target = 'FHDC1'\n",
    "shortest_path = nx.shortest_path(G, source=source, target=target, weight='weight')\n",
    "shortest_path_length = nx.shortest_path_length(G, source=source, target=target, weight='weight')\n",
    "\n",
    "\n",
    "print(f\"最短路径从 {source} 到 {target}: {shortest_path}\")\n",
    "print(f\"最短路径长度: {shortest_path_length}\")"
   ]
  },
  {
   "cell_type": "code",
   "execution_count": 9,
   "metadata": {},
   "outputs": [],
   "source": [
    "def get_min(source_node, target_nodes, G):\n",
    "    shortest_distances = {}\n",
    "    for target in target_nodes:\n",
    "        if target in G:\n",
    "            distance = nx.shortest_path_length(G, source=source_node, target=target)\n",
    "            shortest_distances[target] = distance\n",
    "\n",
    "    if shortest_distances:\n",
    "        min_distance = min(shortest_distances.values())\n",
    "        # closest_nodes = [node for node, distance in shortest_distances.items() if distance == min_distance]\n",
    "    else:\n",
    "        min_distance = None\n",
    "    return min_distance"
   ]
  },
  {
   "cell_type": "code",
   "execution_count": null,
   "metadata": {},
   "outputs": [
    {
     "name": "stdout",
     "output_type": "stream",
     "text": [
      "表格名称: Sheet1\n",
      "73\n",
      "表格名称: Sheet2\n",
      "51\n"
     ]
    }
   ],
   "source": [
    "import pandas as pd\n",
    "\n",
    "# download from https://static-content.springer.com/esm/art%3A10.1038%2Fs41588-018-0130-z/MediaObjects/41588_2018_130_MOESM6_ESM.xlsx\n",
    "file_path = 'protein_net/41588_2018_130_MOESM6_ESM.xlsx'\n",
    "sheets = pd.read_excel(file_path, sheet_name=None, header=None)\n",
    "\n",
    "\n",
    "dataframes = {sheet_name: df for sheet_name, df in sheets.items()}\n",
    "importants = []\n",
    "\n",
    "for name, df in dataframes.items():\n",
    "    print(f\"name: {name}\")\n",
    "    # print(len(set(df[0].tolist()) & set(pros['preferred_name'].tolist())), len(df[0].tolist()))  \n",
    "    print(len([node for node in df[0].tolist() if node in G.nodes]))\n",
    "    importants.append([node for node in df[0].tolist() if node in G.nodes])\n"
   ]
  },
  {
   "cell_type": "code",
   "execution_count": 4,
   "metadata": {},
   "outputs": [
    {
     "data": {
      "text/plain": [
       "NodeView(('MAP2K4', 'FLNC', 'GATA2', 'PML', 'RPA2', 'STAT3', 'ARF1', 'GGA3', 'ARF3', 'ARFIP2', 'ARFIP1', 'APP', 'APPBP2', 'APLP1', 'DAB1', 'CITED2', 'TFAP2A', 'EP300', 'APOB', 'MTTP', 'ARRB2', 'RALGDS', 'CSF1R', 'GRB2', 'PRRC2A', 'SLC4A1', 'SLC4A1AP', 'BCL3', 'BARD1', 'ADRB1', 'GIPC1', 'BRCA1', 'ATF1', 'MSH2', 'MSH6', 'ARVCF', 'CDH15', 'PSEN2', 'CAPN1', 'CAPN3', 'TTN', 'ITPR1', 'CA8', 'MAGI1', 'CTNNB1', 'RB1', 'CUX1', 'TSG101', 'CDKN1A', 'MCM5', 'MCM2', 'CDC7', 'ORC2', 'DBF4', 'AKAP8', 'RPA1', 'RPA3', 'ORC5', 'MCM3', 'YWHAZ', 'CDC25A', 'DOCK8', 'CDC42', 'TRIP10', 'CDKN3', 'CDK2', 'RBBP8', 'RBL1', 'CLTC', 'HGS', 'IGFBP3', 'COL1A1', 'TXN', 'ATF2', 'SMAD3', 'SMAD4', 'CCND3', 'EIF3K', 'RALBP1', 'CCNB1', 'CSRP1', 'CSK', 'IGF1R', 'DCN', 'EGFR', 'SIM2', 'ARNT', 'SIM1', 'NPAS4', 'HBEGF', 'ZBTB16', 'PCNA', 'GADD45A', 'LSM3', 'SNRPE', 'LSM4', 'LSM5', 'EGR1', 'CREBBP', 'NUMA1', 'EPB41', 'PLCG1', 'EEF1A1', 'KTN1', 'EEF1D', 'KDR', 'ANXA5', 'PPARGC1B', 'ESR1', 'SMARCA4', 'DDX54', 'DNTTIP2', 'FGFR1', 'FDPS', 'SUMO1', 'FAS', 'FLNA', 'ITGB1', 'GABRG2', 'GABARAP', 'SLC2A2', 'KPNA2', 'SLC2A4', 'DAXX', 'GRIK2', 'SDCBP', 'PICK1', 'GRIK1', 'CCNT1', 'GRN', 'RGS19', 'GNAZ', 'GNAO1', 'GNAI3', 'HSF2', 'UBE2I', 'LIMK1', 'NRG1', 'FGF7', 'HSPG2', 'C1QBP', 'DDX20', 'UBAP2L', 'XRN1', 'BAG6', 'HTT', 'SETD2', 'HAP1', 'ZDHHC17', 'HYPK', 'MEF2D', 'YWHAQ', 'TCF3', 'HAND2', 'ID3', 'IRS1', 'YWHAE', 'SOCS1', 'PTK2', 'MAPK8', 'INSR', 'IL1A', 'NDN', 'JAK2', 'PRMT5', 'KRT18', 'DNAJB6', 'LMNA', 'LMNB1', 'SREBF1', 'NARF', 'MLLT4', 'BCR', 'BNIPL', 'BCL2', 'BNIP2', 'SMN1', 'TP53BP2', 'RTN4', 'BECN1', 'NFKB1', 'LYL1', 'SKAP1', 'PTPRC', 'ALOX5', 'COTL1', 'VAV1', 'XRCC6', 'NCF4', 'XRCC5', 'MRE11A', 'PIAS4', 'LEF1', 'MITF', 'YBX1', 'SRSF9', 'ATF7IP', 'MBD1', 'CHAF1A', 'PIAS3', 'PATZ1', 'ANP32A', 'MAP1B', 'MCM7', 'ORC3', 'KMT2A', 'PPIE', 'PPP1R15A', 'RAP1GAP', 'PVRL1', 'PFN1', 'NEB', 'MYPN', 'NGFR', 'PRKACB', 'SNCAIP', 'SNCA', 'EPB41L1', 'MAP3K8', 'RELA', 'RNF25', 'PPP1R13L', 'HNRNPA1', 'FEN1', 'NOP2', 'MCRS1', 'ETS1', 'AKT2', 'APPL1', 'ETS2', 'CDK10', 'SHANK2', 'CTTN', 'WIPF1', 'SNW1', 'SKI', 'NRAS', 'RAP1GDS1', 'GLMN', 'MET', 'KDM5B', 'FOXG1', 'EZH2', 'REL', 'PPP4C', 'OPRD1', 'GPRASP1', 'MYO1C', 'CBL', 'RHOA', 'PAX5', 'TLE4', 'PAX9', 'PIK3R3', 'PIK3CA', 'SNX17', 'SELP', 'PKD1', 'PKD2', 'TRPC1', 'KCNA4', 'DLG1', 'HUS1', 'PTPRB', 'MAGI3', 'PRKAR1A', 'PRKAR1B', 'AKAP1', 'FER', 'TMF1', 'MAPK1', 'NEK2', 'HABP4', 'GNB2L1', 'NSMAF', 'AR', 'ITGB2', 'PDPK1', 'PRKCZ', 'WWC1', 'MAF', 'CD2AP', 'RAB4A', 'RABEP1', 'RAB5A', 'RIN3', 'RAB5B', 'PDE6D', 'RAP1A', 'RGL2', 'RAP1B', 'BRCA2', 'RAD51', 'RAD51AP1', 'DMC1', 'HBP1', 'TRAP1', 'AATF', 'THOC1', 'RXRA', 'BRD8', 'ANK1', 'RHAG', 'LMO2', 'KDM5A', 'TAL1', 'RPLP1', 'RPLP2', 'CYTH1', 'ARFRP1', 'SNRPA', 'OBSCN', 'SOX9', 'NR5A1', 'NRIP1', 'CLU', 'TGFBR2', 'UNC13B', 'STX1A', 'CD27', 'SIVA1', 'FKBP1A', 'TGFBR1', 'FKBP2', 'ARFGEF1', 'MYO7A', 'AKAP10', 'TCAP', 'APBB1', 'TFCP2', 'CEBPZ', 'NFYB', 'E2F1', 'ATM', 'ABL1', 'NTRK1', 'HRAS', 'HSH2D', 'FES', 'KRAS', 'SRC', 'EPHB2', 'TNFAIP3', 'TAX1BP1', 'TP53', 'WWOX', 'CDC14A', 'TNFRSF1A', 'PSMD2', 'SHC2', 'DDR2', 'SHC1', 'CDH1', 'CTNND1', 'CBLL1', 'FLI1', 'GATA1', 'VHL', 'VBP1', 'JADE1', 'XRCC1', 'LIG3', 'PNKP', 'ZNF24', 'ZNF174', 'ZNF10', 'TRIM28', 'VEZT', 'XPA', 'RPA4', 'XPC', 'RAD23A', 'CMIP', 'TRIO', 'CASR', 'HCFC1', 'GABPA', 'AGTR2', 'MTUS1', 'RANBP9', 'USP11', 'SFPQ', 'NONO', 'PRKCI', 'BMX', 'PTPN21', 'TBR1', 'CASK', 'ID1', 'NCS1', 'IL1RAPL1', 'ARHGEF11', 'PLXNB3', 'UNC5A', 'MAGED1', 'CBX5', 'SUV39H1', 'UBE3A', 'UBQLN2', 'RAB9A', 'RABEPK', 'CTBP2', 'KLF8', 'UPF3B', 'UPF2', 'CDC6', 'PPP2R3B', 'TIMM8A', 'STAM', 'SH3GL3', 'SH3KBP1', 'DTNA', 'DMD', 'WAS', 'GPHN', 'ARHGEF9', 'PQBP1', 'TXNL4A', 'WBP11', 'ZFPM2', 'F8', 'PHYH', 'SH2D1A', 'SLAMF1', 'FMR1', 'FXR1', 'NUFIP1', 'MAP2K2', 'ARAF', 'POLA1', 'RBMS1', 'RPGR', 'RPGRIP1', 'HTR2C', 'MPDZ', 'SYP', 'AP1G1', 'TAF1', 'UBTF', 'RAN', 'NR2C2', 'NCOA3', 'RNF4', 'NCOA4', 'PAK6', 'RCHY1', 'PIAS2', 'BPY2', 'SORBS1', 'INSM1', 'CBX3', 'LBR', 'MAPK8IP3', 'KLC1', 'BCL2L1', 'AVEN', 'BNIP3', 'RTN1', 'BAX', 'BCL2A1', 'ABCA1', 'FADD', 'LRP2', 'ANKRA2', 'LRP2BP', 'DAB2', 'TAF13', 'TBP', 'PTPN12', 'PSTPIP1', 'PXN', 'TUFT1', 'TFIP11', 'PDE4DIP', 'PDE4D', 'HNF4A', 'NFE2L2', 'TDG', 'AIRE', 'AP1B1', 'PPP1R9B', 'CDKN2A', 'JAK3', 'TIAF1', 'STAT5A', 'EIF5A', 'RPL5', 'PTRH2', 'AES', 'TLE1', 'HES6', 'FOXA2', 'IL6ST', 'EPS8', 'DVL1', 'NFU1', 'HIRA', 'PKN2', 'PTPN13', 'ATXN1', 'COIL', 'PEX16', 'PEX19', 'ZNHIT3', 'IARS', 'GARS', 'HTRA2', 'MAPK14', 'DUSP10', 'BBS4', 'PCM1', 'BCAR1', 'RAPGEF1', 'LSM1', 'PSMB5', 'S100A7', 'TRAIP', 'FLII', 'CSTF2', 'SUB1', 'CSTF1', 'XRCC2', 'RAD51D', 'ID2', 'TCF12', 'TCF4', 'PEX12', 'PEX5', 'PEX13', 'ARF6', 'NCBP2', 'NCBP1', 'PMF1', 'EIF2AK3', 'DLG4', 'KCNJ4', 'NCK1', 'EPHB1', 'MINK1', 'RECQL', 'KPNA4', 'ERBB4', 'YAP1', 'PIAS1', 'STAT1', 'MAPKAPK2', 'S100P', 'KCNJ2', 'TIAM1', 'PTBP1', 'HNRNPL', 'IFI35', 'NMI', 'KCNIP3', 'CDKN1B', 'NUP50', 'BMPR2', 'INPPL1', 'NCOR2', 'SPEN', 'CDKN1C', 'UGCG', 'NEUROD1', 'DCTN1', 'COPB1', 'COPG1', 'COPG2', 'MYO6', 'DCP1A', 'BPTF', 'MAZ', 'F11R', 'TJP1', 'ADAM17', 'DHDDS', 'NPC2', 'PLXNB1', 'BAD', 'LSM6', 'SNRPD2', 'LSM7', 'SNRPD3', 'PDZK1', 'ABCC2', 'CADM1', 'MPP3', 'RANBP1', 'TGFB1I1', 'PTK2B', 'UBQLN1', 'MTOR', 'BIN1', 'SNX4', 'BMPR1A', 'SF3B4', 'RGS7', 'HECW1', 'VPS37A', 'KAT5', 'ETV6', 'MYBL2', 'ZNF622', 'CACYBP', 'SKP1', 'MAD2L1', 'ESR2', 'PPARG', 'BAG1', 'HSPA8', 'GRB10', 'GIGYF2', 'PROX1', 'UBQLN4', 'USP7', 'EED', 'KHDRBS1', 'RAPSN', 'TFAP2C', 'MRAS', 'PGR', 'PSMD4', 'RAD23B', 'THRB', 'PSMC5', 'TRAF1', 'HIVEP3', 'RNF7', 'CUL5', 'SETDB1', 'PEX7', 'PEX10', 'MCM6', 'RFXAP', 'RFX5', 'TRAF2', 'BCL2L2', 'BCL2L11', 'STAP2', 'PTK6', 'IL16', 'PPP1R12A', 'RING1', 'CBX4', 'RAC1', 'TRPV1', 'SYT9', 'TACC1', 'YEATS4', 'CLNS1A', 'SIAH1', 'KIF22', 'PEG10', 'SIAH2', 'ATXN7', 'CRX', 'NEDD4', 'UBE2D2', 'ILK', 'ILKAP', 'LIMS1', 'DNM2', 'SHANK1', 'BLMH', 'PPP2R5D', 'CFTR', 'GOPC', 'SCAMP1', 'ITSN1', 'IPCEF1', 'CYTH2', 'NR0B1', 'HEXIM1', 'RGS4', 'COPB2', 'MAP3K3', 'MAP2K5', 'SNAP23', 'SNAPIN', 'RANBP3', 'XPO1', 'GOLGA2', 'GORASP2', 'MAGOH', 'RBM8A', 'ASIC3', 'IL1RAP', 'TOLLIP', 'PPP1R8', 'RND1', 'ARHGAP5', 'RND3', 'HNRNPAB', 'TP63', 'NR1H4', 'NCOA1', 'CDC45', 'ORC4', 'APBA2', 'CLSTN1', 'FYB', 'PRKAB1', 'PRKAG1', 'PRKAG2', 'PRKAB2', 'RGPD5', 'TNPO1', 'DNMT3A', 'TTF2', 'CDC5L', 'PPL', 'KAZN', 'SAFB', 'SAFB2', 'MAPK10', 'MAPK11', 'HDAC3', 'SMAD7', 'TRIP6', 'LPAR2', 'LHX2', 'E2F6', 'RYBP', 'POLE2', 'SAP18', 'BTG1', 'PRMT1', 'RNF216', 'TLR4', 'ENAH', 'ABI1', 'NEDD9', 'CUL1', 'SRRM2', 'PNN', 'MCL1', 'MVD', 'BTAF1', 'FANCA', 'ARHGEF7', 'FNBP1', 'TNKS', 'BIRC5', 'AURKB', 'TNFRSF25', 'TRADD', 'RIPK3', 'RIPK1', 'MALT1', 'BCL10', 'C9orf89', 'AP1S1', 'AP1G2', 'AP1S2', 'VAMP4', 'AP1M1', 'MBD2', 'GPN1', 'MBD3L1', 'MBD3', 'TOP3B', 'CHD8', 'UBOX5', 'UBE2L3', 'SLC22A4', 'PDZK1IP1', 'SLC22A12', 'DNM1L', 'GSK3B', 'CCNT2', 'CUL4A', 'CUL2', 'RAB27A', 'SYTL4', 'BYSL', 'TROAP', 'RGS6', 'DMAP1', 'PLCB2', 'TRPM7', 'PKP4', 'ERBB2IP', 'PLXNB2', 'VPS37C', 'GNA13', 'AKAP3', 'GRAP2', 'GAB1', 'CCNDBP1', 'ANAPC5', 'PABPC1', 'TOM1', 'TNIP1', 'PDCD6IP', 'CLPB', 'STK16', 'NAGK', 'NCKAP1', 'GADD45G', 'GADD45GIP1', 'PACSIN2', 'PACSIN3', 'SPTBN2', 'KCNJ1', 'SLC9A3R1', 'NBL1', 'P4HB', 'TARBP2', 'EEA1', 'RAB22A', 'URI1', 'CNKSR1', 'RASSF1', 'PARP4', 'MVP', 'HDAC2', 'DISC1', 'FEZ1', 'SNX9', 'ADAM15', 'RAB11FIP4', 'RAB11A', 'RHOQ', 'EXOC7', 'PINX1', 'PRDX4', 'PACSIN1', 'TXNIP', 'ZBTB32', 'CSPG5', 'TNK2', 'IPO13', 'PAX6', 'PLCB1', 'ORC6', 'AP4E1', 'AP4B1', 'CENPK', 'SOX6', 'LSM2', 'LSM8', 'LSM10', 'ECT2', 'PARD6A', 'LRPPRC', 'MAP1S', 'HSPB8', 'HSPB1', 'THEG', 'CCT5', 'PPFIA1', 'GIT1', 'RARA', 'UFD1L', 'NPLOC4', 'TRIB3', 'ATF4', 'ARNT2', 'NCOA2', 'GFI1', 'ITCH', 'TGS1', 'MYCBP', 'MYCBPAP', 'LOXL1', 'FBLN5', 'MT2A', 'PRKD1', 'ND2', 'RNF11', 'EPS15', 'SLC9A3R2', 'DIO2', 'USP33', 'TOPORS', 'PER1', 'CRY1', 'PER2', 'ARNTL', 'THAP1', 'PAWR', 'SERBP1', 'CHD3', 'HSF1', 'SYMPK', 'DTNB', 'KIF5A', 'MCM4', 'LMO4', 'CCNE1', 'CUL3', 'EPB41L2', 'GRIA1', 'PDZD2', 'CTNND2', 'GNG5', 'GNB5', 'GNG3', 'GNG7', 'PIKFYVE', 'GGA2', 'SORT1', 'EXOSC6', 'EXOSC8', 'EXOSC7', 'ZNF496', 'NSD1', 'PUM2', 'NANOS1', 'POLR1C', 'POLR1D', 'SYNE1', 'ING4', 'COPZ1', 'COPZ2', 'LRRC7', 'CNKSR2', 'EXOC8', 'EXOC2', 'LIN7B', 'TCP10L', 'MXD4', 'UBXN11', 'XRN2', 'ZHX1', 'ZHX3', 'PHC2', 'ARPC5', 'ARPC4', 'PHACTR3', 'PPP1CA', 'ARID1B', 'PRPF6', 'TXNL4B', 'ERC2', 'PPFIA4', 'EVL', 'DNMBP', 'VPS28', 'PKD2L1', 'TNNI3', 'TNNI3K', 'KLHL20', 'TAF10', 'EXOSC1', 'CDK14', 'SEPT8', 'TLK1', 'ASF1A', 'ASF1B', 'GOLGA7', 'GOLGA3', 'CDHR2', 'MAST2', 'NELFE', 'NELFB', 'CLIC1', 'ABHD16A', 'RNF5', 'TMEM147', 'CSNK2B', 'CSNK2A2', 'ATP6V1G2', 'ATP6V1E1', 'TRIM39', 'CALCOCO2', 'TP53RK', 'KRT81', 'KXD1', 'ACTB', 'CFL1', 'MAPRE2', 'ZBTB25', 'MEAF6', 'L3MBTL2', 'RBM10', 'PTBP2', 'PLSCR1', 'CPSF6', 'ZBED1', 'SPEF1', 'LGALS8', 'FBF1', 'STK24', 'PDCD10', 'CEBPG', 'MLLT6', 'CCDC85B', 'KANSL1', 'MAP1LC3B', 'GPS2', 'FBXO28', 'RBPMS', 'STRBP', 'DTX2', 'GYG1', 'GYS1', 'MVK', 'HMG20A', 'TESC', 'LDOC1', 'LNX1', 'SFN', 'VIM', 'KAT7', 'TCHP', 'HOXA1', 'MDFI', 'CTPS2', 'DCTN2', 'ZSCAN32', 'ZNF446', 'KRT6B', 'KRT15', 'NOL3', 'TRIM23', 'PCBD1', 'NUP62', 'NUP54', 'PRC1', 'USHBP1', 'NAV2', 'KLHL12', 'KIAA0408', 'SORBS3', 'APPL2', 'FOXS1', 'CCNH', 'SSSCA1', 'BLOC1S6', 'CCDC53', 'MAPK1IP1L', 'STX8', 'VTI1B', 'GPSM1', 'CCDC158', 'HK2', 'CFL2', 'MAGEA11', 'DNAJC10', 'PDCD6', 'HEBP2', 'TRIM37', 'FAM124B', 'PSME2', 'FAM127B', 'CYTH3', 'RASSF8', 'FRMD6', 'FHIT', 'EMC2', 'EMC8', 'ABLIM1', 'DRAP1', 'SKA1', 'SGTA', 'SPP1', 'TCEANC', 'MAGEB18', 'TYMSOS', 'CREB3', 'HNRNPC', 'KPNA3', 'CNOT8', 'HOXA9', 'SRPK2', 'U2AF2', 'DNAL4', 'DYNLL2', 'PLOD3', 'RHOXF2', 'ZC3H10', 'RFX3', 'SQSTM1', 'GABARAPL2', 'AKAP17A', 'SEC24C', 'SEC23B', 'PAFAH1B2', 'PAFAH1B3', 'KRT19', 'ACTG1', 'BSCL2', 'USE1', 'XRCC4', 'IFFO1', 'SPG21', 'AKIRIN2', 'DYNC1I2', 'DYNLT3', 'CNOT2', 'CNOT3', 'TADA3', 'CCDC101', 'MAGEA4', 'UQCRB', 'UBA2', 'SAE1', 'GNAI2', 'ASMTL', 'COMT', 'TRIP13', 'XIAP', 'WDYHV1', 'TDO2', 'KHDRBS3', 'BAHD1', 'UBE2D1', 'TRAPPC3', 'TRAPPC6A', 'WWP1', 'COX17', 'KATNAL1', 'VCL', 'ABI2', 'SIX1', 'BEGAIN', 'C19orf57', 'SATB1', 'PIN1', 'RAI1', 'FXR2', 'PSME3', 'TRIM17', 'PSMF1', 'EWSR1', 'WWP2', 'C1orf94', 'RALYL', 'PSMC4', 'SET', 'THAP7', 'CIAO1', 'FAM96B', 'C10orf62', 'HNRNPK', 'MEF2BNB-MEF2B', 'TEX11', 'CLUAP1', 'EFEMP2', 'SGTB', 'AP2M1', 'FAM107A', 'DACH1', 'LRCH4', 'IFT20', 'TRIM27', 'MAD2L1BP', 'RBMX', 'GFAP', 'PDLIM1', 'HSPA2', 'HSPBP1', 'GABRD', 'H3F3B', 'EHMT2', 'RAB3IL1', 'AP2B1', 'SUFU', 'GLIS3', 'ING5', 'NECAB2', 'CENPO', 'MLH1', 'TRIM29', 'EMILIN1', 'MTMR9', 'LDB1', 'SSBP4', 'LRSAM1', 'TRAF3IP2', 'DVL2', 'ANKRD36BP1', 'NME1', 'NME4', 'C19orf43', 'PRRC2B', 'POLE3', 'MEA1', 'XPO6', 'EIF3L', 'STX4', 'SDCBP2', 'TIFA', 'ASH2L', 'DPY30', 'KRT20', 'NIF3L1', 'CCDC120', 'BAIAP2', 'NCKIPSD', 'IFIT1', 'IFIT3', 'DSTN', 'AQP1', 'ZFP36L1', 'CHCHD3', 'KARS', 'AIMP2', 'SRSF6', 'RNPS1', 'CCNB1IP1', 'IKZF1', 'AFF4', 'CCDC33', 'HIF1A', 'SSX4', 'ZNF581', 'LZTS2', 'ARR3', 'PRMT8', 'RBM41', 'HIF1AN', 'ASB9', 'MATR3', 'GAGE5', 'GMCL1P1', 'KHDRBS2', 'ZNF165', 'CCDC130', 'BRE', 'BABAM1', 'SH3GL1', 'RGR', 'KIAA1279', 'ZSCAN20', 'SCAND1', 'IQUB', 'CDK4', 'CDKN2D', 'CDC42EP1', 'SPOP', 'DPPA2', 'SEPT1', 'SEPT6', 'SF1', 'DDX17', 'TSC22D4', 'EEF1G', 'EEF1DP3', 'C10orf12', 'ENKD1', 'KCNRG', 'CBS', 'NASP', 'HIST1H3G', 'RCBTB2', 'COL20A1', 'SALL2', 'CEP76', 'MBIP', 'NDEL1', 'PLK4', 'IFIT2', 'RAI2', 'YY1AP1', 'PUF60', 'DARS', 'RILPL2', 'CCDC112', 'TEX9', 'PNKD', 'COPS4', 'EIF4E2', 'EIF4ENIF1', 'WDR24', 'RABL2B', 'CEP19', 'SHFM1', 'PCID2', 'ISG15', 'USP18', 'ZBTB43', 'LMO3', 'BNIP3L', 'RCOR3', 'SNAP25', 'STX11', 'HSPB7', 'QARS', 'KRTAP4-12', 'TPM1', 'RHEBL1', 'NINL', 'ZNF559', 'EIF3E', 'GPBP1L1', 'MARK3', 'CKB', 'FANCG', 'RBM42', 'CCNK', 'NUDT21', 'CPSF7', 'CDC23', 'RAD54B', 'EIF4EBP3', 'NEU4', 'GABARAPL1', 'ARRB1', 'GNMT', 'NDC80', 'PAICS', 'RPS26', 'TSR2', 'KLHL2', 'RBM7', 'ZMYND10', 'IFT27', 'HSPB11', 'WDR5', 'GSE1', 'KRT6A', 'RFX6', 'PRPSAP1', 'ZNF607', 'OTX1', 'IKZF3', 'EMD', 'RUNDC3A', 'RPL31', 'DCTN5', 'SNAP29', 'LURAP1', 'SORBS2', 'VPS72', 'MRI1', 'BCL2L13', 'ASB13', 'TSPYL4', 'USP2', 'GCC1', 'RNF126', 'USO1', 'GINS2', 'GINS4', 'C1orf216', 'TRAF6', 'CALML3', 'KIAA1683', 'ZNF263', 'RXRG', 'RHOC', 'ARHGAP1', 'TRAPPC2L', 'NOL4', 'ELF5', 'SIRT6', 'DVL3', 'LCMT1', 'PARVA', 'GTPBP3', 'NAA10', 'LOH12CR1', 'MLF1', 'DIEXF', 'FBXL18', 'SNF8', 'VPS25', 'NT5C2', 'NME7', 'RPS14', 'TAF9', 'TEAD4', 'WWTR1', 'TANK', 'ZC3H12A', 'FTH1', 'LDLRAP1', 'NCK2', 'RTN3', 'UBE2D4', 'EIF4A3', 'CCDC174', 'KRT17', 'CFDP1', 'TPM3', 'RABAC1', 'RAB3IP', 'DYNC1I1', 'CHMP4A', 'SYT17', 'ZC4H2', 'FAM208B', 'DHPS', 'EIF5A2', 'SELENBP1', 'SEPT2', 'PARK2', 'ZNF707', 'PIH1D1', 'PRR14', 'RCN3', 'PKN1', 'S100A1', 'RPL9', 'HACL1', 'ZMIZ2', 'PITX1', 'STMN2', 'ACTN4', 'MYOZ2', 'EMC9', 'COL4A3BP', 'DAZAP2', 'RBFOX2', 'CSNK1G2', 'MAGEA1', 'TRIM31', 'HOMER3', 'ZC3H11A', 'TNNT1', 'MYO15B', 'ADAMTSL4', 'RXRB', 'SERTAD3', 'SERF2', 'RABL6', 'ZFAND6', 'HSBP1', 'IGLC1', 'RORA', 'AAR2', 'EAPP', 'DTNBP1', 'SAT1', 'SAT2', 'SMAD9', 'CRK', 'DPPA4', 'CCND2', 'SEC24D', 'DDX39A', 'SARNP', 'AKR7A2', 'AKR7A3', 'SRSF4', 'LIN37', 'DCAF8', 'MORF4L1', 'MRFAP1L1', 'BUB1', 'DRG1', 'RWDD1', 'ZNF232', 'VPS33B', 'VIPAS39', 'NOC4L', 'PTS', 'SF3B2', 'UBA5', 'TRIM41', 'SH3YL1', 'NECAP2', 'ARL6IP1', 'INPP5K', 'RUNX1T1', 'BET1', 'HYI', 'BEX2', 'NME5', 'DYDC2', 'HOOK2', 'RPIA', 'HPCAL1', 'EXOC3-AS1', 'SNIP1', 'CSNK1E', 'C19orf25', 'METTL17', 'EEF1B2', 'ILF2', 'PGLS', 'VAMP3', 'SCGN', 'PDLIM7', 'CUTC', 'TMEM11', 'DPEP1', 'GLIDR', 'LOXL4', 'TGIF1', 'PSMA1', 'SH3GLB2', 'CHMP4B', 'NCALD', 'AGGF1', 'TFDP1', 'NRBP1', 'PSMC6', 'RPL23', 'BCCIP', 'STK25', 'STAC3', 'ACMSD', 'ZNF471', 'SEC13', 'SEC16B', 'SSBP2', 'ZNF764', 'BAG3', 'RIC8A', 'TRIM69', 'AMOTL2', 'RUVBL2', 'DPCD', 'TCL1A', 'UBLCP1', 'AKTIP', 'CLK2', 'CLK3', 'NXT1', 'NXF3', 'TRPV6', 'CEP70', 'VASP', 'TRIM9', 'GALE', 'FAM27E3', 'MRPS18B', 'SMARCD1', 'MID1IP1', 'TPRKB', 'IL36RN', 'SERPINI2', 'CCDC67', 'CUEDC2', 'XAGE2', 'C1QTNF1', 'RGS2', 'RABGEF1', 'PLEKHF2', 'DR1', 'STX5', 'NAPA', 'AHSP', 'RSG1', 'FUZ', 'ZNF417', 'FAM160A2', 'REEP6', 'C20orf195', 'CEP55', 'RADIL', 'SIGLEC5', 'SNX15', 'DYNLRB1', 'UGP2', 'FAM124A', 'METTL1', 'WDR4', 'SRI', 'C5orf22', 'GLRX3', 'CIAPIN1', 'CPSF4', 'FIP1L1', 'HHLA3', 'DRG2', 'MTMR8', 'PBLD', 'DDX19A', 'MIF4GD', 'MCM10', 'PRPS1', 'CIRBP', 'DMRTB1', 'CBLB', 'XAB2', 'ALX1', 'ITGB3BP', 'EIF1AD', 'OTULIN', 'POM121', 'BIRC2', 'GPRIN2', 'KLF12', 'TBL3', 'GALT', 'UBE2D3', 'TFG', 'SMUG1', 'ASS1', 'MIEF2', 'MAPRE3', 'STAM2', 'HSPA13', 'CSRP2BP', 'SH2D4A', 'GMPPB', 'GMPPA', 'MED7', 'DDIT3', 'TEAD3', 'RNF40', 'ILF3', 'ERCC1', 'UBL7', 'PSMD9', 'ETF1', 'KEAP1', 'SEPHS1', 'CCDC14', 'SEMA4G', 'SLU7', 'PPIL3', 'HEYL', 'TCEA2', 'GABPB1', 'TDRD7', 'CHAC1', 'SP100', 'CPSF3L', 'KCTD17', 'YIPF3', 'YIPF4', 'CBFA2T2', 'GLUL', 'FTL', 'HOMER1', 'C1orf116', 'MAP3K7CL', 'QKI', 'INVS', 'KIAA1217', 'ZNF250', 'ZSCAN9', 'HOXB9', 'TFPT', 'APIP', 'CTDSP1', 'CDCA3', 'DCTPP1', 'ZKSCAN7', 'CSNK1D', 'GAGE2E', 'MYD88', 'CEP72', 'TADA2A', 'SAP30BP', 'PDE9A', 'PBK', 'CALCOCO1', 'BTRC', 'OPTN', 'TBC1D17', 'SFMBT1', 'ZNF451', 'SRSF1', 'CEP63', 'KCTD4', 'UBA7', 'OGT', 'NUP62CL', 'HPRT1', 'PRTFDC1', 'HIST1H3H', 'USP5', 'PHC1', 'SNX7', 'TTR', 'PEX26', 'FAM96A', 'PRPH', 'MAPK9', 'WDR62', 'SPRY2', 'CEP44', 'SPERT', 'TUBA3C', 'PRPF3', 'PRPF19', 'PSMC1', 'NXT2', 'NME3', 'PSMC2', 'PSMD5', 'RFC4', 'RFC5', 'DCTD', 'IKZF5', 'RALB', 'PEX3', 'ALDH1A1', 'PSME1', 'PSMD10', 'GYG2', 'RAB1A', 'S100A2', 'MAX', 'MXI1', 'BIK', 'CDKN2B', 'AP1M2', 'TFDP2', 'STAMBP', 'EIF4E', 'EIF4EBP1', 'GEMIN7', 'GEMIN6', 'RAB2A', 'CASP9', 'JUNB', 'FOSL1', 'BHMT', 'S100B', 'BATF', 'ARL2', 'U2AF1', 'BAK1', 'TCEB1', 'TCEB2', 'RRAGA', 'RRAGC', 'JUP', 'CTNNBIP1', 'NXF1', 'FBP1', 'IMPA1', 'POT1', 'ACD', 'S100A4', 'LCP2', 'MAD1L1', 'MAGOHB', 'EIF3C', 'EIF3G', 'RAD9A', 'TXNRD2', 'PSMC3', 'GOLGA1', 'ARL1', 'GOLGA4', 'JMY', 'ITGA2B', 'ZBTB8A', 'CEP170P1', 'FRYL', 'GGA1', 'TRAK2', 'MAPT', 'POLR2C', 'ATP7A', 'GLRX', 'ATP7B', 'NHEJ1', 'LIG4', 'PLAU', 'SERPINE1', 'SERPINE2', 'LACRT', 'SDC1', 'FGF2', 'SDC2', 'SDC4', 'HRK', 'BID', 'PMAIP1', 'BMF', 'BBC3', 'MAFA', 'PDX1', 'AKIP1', 'PRKACA', 'MYC', 'ZBTB17', 'STK11', 'CAB39', 'STRADA', 'APTX', 'PARP1', 'NF2', 'SGSM3', 'LIN9', 'JUN', 'FOS', 'NUTF2', 'NUP153', 'POLB', 'TAF1D', 'CCK', 'CCKBR', 'MIS12', 'SPC24', 'SPC25', 'CASC5', 'ZWINT', 'DSN1', 'NUF2', 'PTPN11', 'ERBB2', 'ERBB3', 'PIK3R2', 'NSL1', 'PPID', 'HSP90AB1', 'RET', 'ZAK', 'RP9', 'MPRIP', 'PPP1R12C', 'RAPH1', 'MED28', 'HDAC1', 'HDAC4', 'HDAC5', 'HDAC6', 'RICTOR', 'RPTOR', 'TCERG1', 'SF3A1', 'SF3A3', 'SF3B1', 'HNRNPM', 'RBBP7', 'RBBP4', 'MTA1', 'MTA2', 'CRTC2', 'SIK2', 'SART3', 'PRPF4', 'CD2BP2', 'SNRNP200', 'EIF4A2', 'EIF4G1', 'PRPF8', 'YWHAG', 'KIF5B', 'CNOT1', 'IPO4', 'DBNL', 'HERC2', 'SNRNP40', 'CDAN1', 'EFTUD2', 'SMNDC1', 'SF3B3', 'PAAF1', 'PSMD13', 'TLK2', 'YWHAB', 'TCEAL1', 'PSMD12', 'FBXO4', 'PSMD1', 'RANGAP1', 'PSMD6', 'PI4KB', 'TLE3', 'PSMD3', 'MLF2', 'MMS19', 'TUSC2', 'HSPA4L', 'MAGEB2', 'PSMD11', 'LGALS9', 'ASB3', 'CDKN2C', 'SNRPB', 'EEF1A2', 'VARS', 'EIF3A', 'TROVE2', 'LARP1', 'IRS2', 'RUVBL1', 'IQGAP1', 'STRN', 'DDX23', 'NEK6', 'NEK9', 'RAI14', 'PLRG1', 'SAMD4B', 'SMEK1', 'BRAF', 'STRN3', 'EIF6', 'PDCD4', 'ACTR3B', 'ARPC2', 'LUC7L2', 'C2orf44', 'DDX56', 'MYBBP1A', 'PRPF4B', 'PPP1CB', 'PPP1R7', 'EML3', 'RANBP2', 'SMYD2', 'EPB41L3', 'EIF4A1', 'SSB', 'UBAC1', 'RNF123', 'ARPC1A', 'PTP4A2', 'CNNM3', 'PRPF40A', 'NOLC1', 'EDC3', 'CDK6', 'OSBPL3', 'UQCRC1', 'UQCRC2', 'PPP2R1A', 'PTP4A3', 'CLASP1', 'TIPRL', 'USP8', 'USF2', 'PPFIBP1', 'MNAT1', 'TCOF1', 'SMEK2', 'KLC4', 'EIF3D', 'PARD3', 'EIF3H', 'RBM25', 'ACTR2', 'DYNLL1', 'TJP2', 'ARHGDIA', 'LYAR', 'RPL23A', 'CNBP', 'RPL3', 'CAMK2A', 'CAMK2B', 'CAMK2D', 'HOOK1', 'CNNM4', 'PSMD14', 'FNTA', 'PAK2', 'UBE2M', 'NAE1', 'ERC1', 'PSMD7', 'SEPT7', 'ELAC2', 'KIF5C', 'CDC37', 'RAB11FIP1', 'STRN4', 'EIF2B1', 'EIF2B3', 'SH3BP4', 'ATG12', 'ATG5', 'SIRT2', 'CHAF1B', 'LUC7L', 'FIBP', 'C2CD5', 'MOB4', 'PAK4', 'OAZ2', 'AZIN1', 'FNTB', 'RGS20', 'USF1', 'MARK2', 'SRPK1', 'EIF3M', 'ARPC1B', 'EIF3I', 'EIF3F', 'RACGAP1', 'BCAS2', 'KIF23', 'CNOT10', 'EIF4G3', 'RAB10', 'RAB8A', 'SUSD2', 'LGALS1', 'LUC7L3', 'STRIP1', 'PPP1R2', 'USP39', 'NFKBIL1', 'PPP2CB', 'BZW1', 'BZW2', 'DDX3X', 'PSMD8', 'ATG4B', 'PPP4R1', 'NELFCD', 'PPM1B', 'EIF4G2', 'TTBK1', 'TTBK2', 'PPP1R11', 'WDR33', 'ULK1', 'RPS11', 'TBPL1', 'GTF2A1', 'PTP4A1', 'NPRL2', 'GSTK1', 'CYCS', 'MCC', 'RPN2', 'GSKIP', 'HNF1A', 'BRIX1', 'DFFA', 'RPS3A', 'BCAS1', 'SHCBP1', 'BAG2', 'CDK5RAP3', 'UFC1', 'GTF2A2', 'TIMM13', 'TIMM8B', 'NEK7', 'FOXK1', 'DENND4A', 'PNMA2', 'UBR5', 'PCBD2', 'SUMO3', 'DFFB', 'SLC4A7', 'SNRPB2', 'DDRGK1', 'FANCI', 'ARPC5L', 'ATG3', 'OSGEP', 'LAGE3', 'UBA3', 'RAB5C', 'SUN2', 'TIMM50', 'GTPBP4', 'STK38L', 'MOB1A', 'C15orf41', 'PLOD2', 'AIFM1', 'SFSWAP', 'THRAP3', 'SLMAP', 'ATG10', 'RPL18A', 'UBE2G2', 'AMFR', 'ZRANB2', 'MMS22L', 'BOLA1', 'VDAC2', 'KCNIP4', 'KCNIP2', 'TWF2', 'CAPZB', 'ARPC3', 'VCP', 'SRRM1', 'RPL36', 'SPIRE1', 'TRA2B', 'RAD50', 'GEMIN4', 'RAF1', 'PHB2', 'USP15', 'CPSF2', 'PFDN2', 'BRCC3', 'EIF2B5', 'ERCC6L', 'PSMA2', 'SRSF11', 'ANKS1A', 'PSMA3', 'CAPZA2', 'KPNA6', 'SREK1', 'CDC20', 'YARS2', 'RBX1', 'KIAA0930', 'RSU1', 'NPEPPS', 'NEDD8', 'AKAP13', 'GIT2', 'WRAP73', 'CEP135', 'TSC2', 'NUAK1', 'FBL', 'EIF1B', 'YARS', 'TSC22D1', 'PARVB', 'PPP4R2', 'RTF1', 'FAM175B', 'SNRNP70', 'KLC3', 'HTATSF1', 'SRSF3', 'RALGPS2', 'HNRNPR', 'SNRPG', 'RPL35A', 'NPM1', 'RPL34', 'TONSL', 'ATG16L1', 'HIST1H3F', 'GNL2', 'PGRMC1', 'DDOST', 'SNRPF', 'AUP1', 'TPT1', 'TFE3', 'DDX27', 'KPTN', 'ITFG2', 'RPL28', 'DDX41', 'TXLNA', 'CCDC6', 'PSMA6', 'CGN', 'VDAC1', 'DCD', 'SON', 'EBNA1BP2', 'DHX38', 'NADK', 'RMDN3', 'KPNA1', 'EML4', 'RNF219', 'SRSF7', 'ACLY', 'PRKRA', 'PSMA7', 'ACVR2A', 'SYNJ2BP', 'PIK3R1', 'ITK', 'TERT', 'NCL', 'NFKB2', 'PAPOLA', 'TRAF3', 'MAP3K1', 'DCAF7', 'TRAF7', 'SPAG9', 'FBXW7', 'SEC16A', 'RELB', 'GLG1', 'RPL30', 'RPL6', 'IQGAP2', 'AKAP8L', 'DPF2', 'SMARCC1', 'SMARCC2', 'TAB2', 'TAB1', 'TBK1', 'TBKBP1', 'TNF', 'TNFRSF1B', 'HDGFRP2', 'UFL1', 'STRAP', 'DDX21', 'HEATR1', 'METTL13', 'NUP205', 'POLE', 'NUP93', 'GCN1L1', 'DDX24', 'ARHGEF2', 'EXOC4', 'GTF3C3', 'MYO1B', 'PDS5A', 'CCAR2', 'NME2', 'STIP1', 'POLR1E', 'PKIG', 'CSNK2A1', 'SARS', 'KLC2', 'GBF1', 'PANK2', 'RSL1D1', 'FANCC', 'HSPA1A', 'EIF2AK2', 'BLM', 'TOP3A', 'HCFC2', 'MEN1', 'RBBP5', 'NCOA6', 'ASCL2', 'KMT2C', 'TP53BP1', 'APC', 'CTNNA1', 'FANCE', 'BRIP1', 'HMG20B', 'JAK1', 'AKT1', 'C11orf30', 'AXIN1', 'CALM1', 'CTBP1', 'LAMTOR5', 'NR3C1', 'THRA', 'HCK', 'FANCD2', 'SMC1A', 'SMC3', 'SMARCA2', 'ATR', 'H2AFX', 'PTPN6', 'RASA1', 'DOK1', 'PSEN1', 'TUBA4A', 'MSH3', 'POLR2A', 'MED21', 'TUBG1', 'FHL2', 'ELK4', 'JUND', 'NBN', 'CDK16', 'BUB1B', 'BUB3', 'FANCF', 'ZAP70', 'CDK1', 'ERCC3', 'CDK7', 'CHEK2', 'CHEK1', 'KDM1A', 'RCOR1', 'PHF21A', 'SMAD6', 'NR1H2', 'ACVR1', 'XIST', 'MUC1', 'CLSPN', 'SP1', 'RBM39', 'TNFRSF10B', 'CASP10', 'CASP8', 'MSN', 'EZR', 'FASLG', 'GAB2', 'GSTP1', 'MDC1', 'CBX1', 'GSN', 'LYN', 'HIST2H3C', 'HIST3H3', 'MAD2L2', 'MED17', 'HSP90AA1', 'UXT', 'CAV1', 'KIF4A', 'RBL2', 'CSE1L', 'PRKDC', 'CREB1', 'MDM2', 'KAT2B', 'CEBPA', 'NCOR1', 'CCND1', 'CRKL', 'FOXO1', 'USH1C', 'FOXA1', 'RNF14', 'ZMYND11', 'CDK9', 'FYN', 'LCK', 'PDGFRA', 'RASGRF1', 'PLK1', 'RAD52', 'DIABLO', 'PAXIP1', 'ACACA', 'DCC', 'PARD3B', 'ARHGAP21', 'ARHGEF16', 'ARHGEF5', 'ERRFI1', 'SRSF10', 'GAN', 'HDAC7', 'AJUBA', 'LSR', 'MAP3K2', 'MARK1', 'MYCBP2', 'NEDD4L', 'PIK3C2B', 'PKP2', 'ARHGAP32', 'SASH1', 'SHROOM3', 'SIPA1L1', 'SIPA1L3', 'ST5', 'SYNJ2', 'TNK1', 'TRIM32', 'WEE1', 'RAD51B', 'RAD51C', 'XRCC3', 'PTEN', 'N4BP2', 'BMP2', 'CDH3', 'HDAC9', 'ZMIZ1', 'TERF2', 'WRN', 'RAD17', 'BMPR1B', 'BMP7', 'H2AFY', 'ABL2', 'SPTAN1', 'ERCC4', 'KIFAP3', 'DLG3', 'CDC27', 'ANAPC1', 'ANAPC10', 'ANAPC11', 'ANAPC4', 'CDC16', 'ANAPC7', 'NR2C1', 'GADD45B', 'MAP3K5', 'RMI1', 'CCNA2', 'KIT', 'CTDP1', 'CDH5', 'PTPRF', 'CYP2E1', 'INPP5D', 'DOK2', 'TOPBP1', 'SPTA1', 'HSP90B1', 'GTF2B', 'GTF2E1', 'GTF2F1', 'SIN3A', 'CHUK', 'MAP2K7', 'PELP1', 'NELFA', 'TP73', 'FANCL', 'PIK3CG', 'RGL4', 'DHX9', 'RFC1', 'GTF2H4', 'TAF11', 'UBC', 'TNIP2', 'IKBKG', 'IKBKE', 'ANKRD28', 'ELAVL4', 'PPIG', 'SMAD2', 'ZFYVE9', 'RNF41', 'BIRC6', 'ERGIC1', 'ERGIC3', 'PEBP4', 'MAP2K1', 'DDX5', 'RUNX2', 'DOK5', 'SPATC1', 'APAF1', 'FNBP1L', 'CDCA8', 'NEIL1', 'NCSTN', 'APH1A', 'NCLN', 'NOMO1', 'ITGA3', 'DNM1', 'INCENP', 'SUMO4', 'NFKBIA', 'VPS37B', 'HELZ', 'SMYD3', 'SOD1', 'TINF2', 'TERF1', 'CD3EAP', 'POLR1A', 'GTF2H5', 'GTF2H2', 'ERCC2', 'GTF2H1', 'GTF2H3', 'VIMP', 'DERL1', 'HLA-A', 'PRKCB', 'RASGRP3', 'PRKCD', 'RPL11', 'MYB', 'CARM1', 'ANKRD11', 'TXLNB', 'SCP2', 'TERF2IP', 'YTHDC1', 'MED10', 'MED13L', 'MED13', 'MED12', 'MED14', 'MED23', 'MED15', 'MED16', 'MED26', 'CCNC', 'CDK8', 'CDK19', 'MED27', 'MED4', 'MED19', 'MED6', 'MED8', 'MED18', 'MED20', 'MED9', 'MED29', 'MED30', 'MED11', 'MED31', 'MED1', 'MED24', 'MED25', 'MED22', 'POLR2B', 'POLR2E', 'POLR2F', 'POLR2G', 'POLR2H', 'POLR2I', 'POLR2L', 'POLR2K', 'POLR2D', 'POLR2J', 'TMSB4X', 'CCNA1', 'INCA1', 'PROCA1', 'DNMT3B', 'SMC2', 'SMARCA5', 'NCAPG', 'ARHGAP27', 'TOR1A', 'TOR1B', 'SEH1L', 'NUP107', 'NUP85', 'NUP133', 'NUP160', 'NUP43', 'NUP37', 'SEC31A', 'PAX3', 'CABP1', 'CACNA1C', 'VGLL4', 'TEAD1', 'ANKRD2', 'TNNC1', 'CLTCL1', 'SNX5', 'FLOT1', 'ITGA7', 'FHL3', 'TSEN2', 'TSEN34', 'TSEN54', 'TSEN15', 'CLP1', 'MAFB', 'TLR9', 'UBE2L6', 'PHACTR1', 'NLRC4', 'NOD2', 'CASP1', 'ZDHHC23', 'NOS1', 'BLOC1S1', 'BLOC1S2', 'BLOC1S3', 'BLOC1S5', 'BLOC1S4', 'POP1', 'POP4', 'POP7', 'RPP25', 'POP5', 'RPP38', 'RPP40', 'RPP14', 'RPP30', 'RPP21', 'FOXO3', 'CASP2', 'CRADD', 'PIDD1', 'OPRK1', 'ARHGEF25', 'TAF15', 'TSPYL2', 'SERTAD1', 'TICAM1', 'AURKA', 'MLPH', 'MYO5A', 'AKAP9', 'ALYREF', 'DDX39B', 'COG4', 'COG1', 'COG2', 'COG5', 'COG7', 'TSSK2', 'TSKS', 'RIN1', 'RASIP1', 'STX18', 'ZW10', 'RINT1', 'SCFD1', 'SEC22B', 'MYOD1', 'KCNJ12', 'APBA1', 'DLG2', 'LIN7A', 'LIN7C', 'SNTA1', 'GPR124', 'SOSTDC1', 'BMP4', 'MYOCD', 'SRF', 'SYNGAP1', 'ZYX', 'NEBL', 'LASP1', 'SCNN1G', 'NGF', 'RNF8', 'NR4A1', 'AGO2', 'PAK1', 'NUP214', 'ZFP36', 'TRPC6', 'CEBPB', 'NUB1', 'UBD', 'UNC119', 'CD247', 'CD4', 'DET1', 'DDB1', 'RFWD2', 'RIMS1', 'HSPH1', 'KLF7', 'FBXO38', 'PPARGC1A', 'RASD2', 'SMURF2', 'SMURF1', 'CALCRL', 'RAMP1', 'GABBR1', 'JAKMIP1', 'SS18L1', 'CBFA2T3', 'MCF2L', 'FOXP2', 'FOXP1', 'FOXP4', 'CLOCK', 'ARNTL2', 'STARD13', 'TUBA1A', 'COMMD1', 'MAPK7', 'HIPK2', 'PLD2', 'ELANE', 'NOTCH2NL', 'MAP3K7', 'TAB3', 'DNAJC1', 'SERPINA3', 'ATF3', 'ING1', 'NECAP1', 'GRM3', 'PPM1A', 'EXOC5', 'RNF128', 'OTUB1', 'RIMS2', 'RAPGEF4', 'NOL8', 'NIP7', 'SSRP1', 'ZHX2', 'SRCIN1', 'RNF111', 'GNAI1', 'GPSM3', 'TWIST2', 'CBX7', 'GLE1', 'NUP155', 'NOTCH1', 'DLAT', 'PDHX', 'PDHB', 'RYR1', 'TRDN', 'PHB', 'CCL5', 'CCR5', 'GNAQ', 'RGS16', 'ARHGEF1', 'GNA12', 'PFDN1', 'PFDN5', 'PFDN6', 'E2F7', 'MAP2K6', 'FCHSD2', 'CDH2', 'AHNAK', 'BTK', 'GTF2I', 'DYRK1A', 'S100A11', 'ZNF423', 'ARIH1', 'ZFYVE16', 'PYGO1', 'BCL9', 'EID2', 'KLF5', 'RAD1', 'HUS1B', 'TIMELESS', 'TIPIN', 'TDP2', 'PRKG1', 'TXNDC17', 'RFC2', 'RFC3', 'SS18', 'CKAP5', 'DYNC1H1', 'SNX2', 'NTNG1', 'LRRC4C', 'MARK4', 'HSPB2', 'NDNL2', 'DYRK1B', 'RPH3AL', 'SKP2', 'TRPC4AP', 'IKBKB', 'UBE2B', 'UBR2', 'PAN2', 'PAN3', 'RRM1', 'RRM2', 'RRM2B', 'ANKRD23', 'ANKRD1', 'DST', 'PNISR', 'SNCG', 'FHOD1', 'PSENEN', 'CACNA1A', 'CA9', 'EPS8L1', 'EPS8L2', 'SOS1', 'MKL1', 'STK39', 'AATK', 'BAG4', 'APOBEC1', 'SEPT5', 'IL6', 'IL6R', 'PRKCA', 'FSCN1', 'FARP2', 'SLK', 'AGAP2', 'APBB2', 'KDM4A', 'CORO2A', 'TBL1XR1', 'KIF11', 'ZBTB33', 'TRIM33', 'UPF1', 'DCP2', 'EXOSC2', 'EXOSC4', 'PARN', 'EXOSC10', 'UPF3A', 'RALA', 'EXOC3', 'NRXN1', 'NLGN1', 'CEACAM1', 'ANXA2', 'IGF1', 'IGFBP7', 'EIF3B', 'EIF3J', 'MAP7', 'TRPV4', 'ASCL4', 'TCF23', 'OCLN', 'LHCGR', 'MIB2', 'ACTA1', 'MORF4L2', 'MRFAP1', 'PHOX2A', 'TRPC4', 'SH3RF1', 'MAP3K11', 'CETN2', 'SFI1', 'CTSB', 'CSTA', 'CSTB', 'CST3', 'HSPA4', 'TTC1', 'DNAJB1', 'DRD3', 'CLIC6', 'CANX', 'KSR2', 'CNTN2', 'CNTNAP2', 'GCC2', 'SPDYA', 'SPINK7', 'MT1H', 'MT1G', 'EPB42', 'MRPS12', 'KCNA5', 'TUBB', 'STXBP1', 'DNTT', 'CD200', 'CD200R1', 'TYK2', 'XBP1', 'JAM2', 'JAM3', 'APOE', 'LRP8', 'NFATC2', 'CDYL', 'SERPINB2', 'ATXN3', 'MDFIC', 'PPARD', 'PTMA', 'DPYSL2', 'AP2A1', 'NUMB', 'IGF2R', 'CREG1', 'POU4F1', 'RIT2', 'CIITA', 'OGG1', 'GRIN2A', 'HLA-DRA', 'HLA-DMB', 'CHTF18', 'DSCC1', 'HCN1', 'HCN2', 'HCN4', 'HCN3', 'CD84', 'NIN', 'GPSM2', 'SYT11', 'PPFIA2', 'PPFIA3', 'GRIP2', 'PPP1R12B', 'POU5F1', 'SOX2', 'CTSL', 'ZNF653', 'CHD4', 'CYTH4', 'CAMLG', 'RUNX1', 'AHR', 'SMARCE1', 'DAPK3', 'EPM2A', 'TCEA1', 'YY1', 'TBCD', 'STAR', 'CCHCR1', 'NR1I2', 'PMEPA1', 'DICER1', 'AGO1', 'AGO3', 'AGO4', 'LRPAP1', 'VLDLR', 'RELN', 'TFB1M', 'TFAM', 'MKNK2', 'GPX1', 'ZCCHC17', 'ADAP1', 'EEF2', 'MTMR7', 'MTMR6', 'DGKZ', 'KCNQ3', 'KCNQ2', 'CHD1', 'CLK1', 'POU2F1', 'GAPDH', 'CFLAR', 'BCAP29', 'BCAP31', 'CD79A', 'CD79B', 'ADRBK1', 'GNA15', 'SEMA4D', 'CD72', 'UBE2N', 'MAP3K10', 'RHOG', 'ELMOD2', 'DOCK1', 'NHLH1', 'SMAD1', 'HLA-G', 'YWHAH', 'NDUFA13', 'DNMT1', 'GSPT1', 'BIRC3', 'KIRREL', 'NPHS1', 'FIS1', 'ACTN2', 'TRPC5', 'STMN3', 'GRIN2B', 'TRPC3', 'VAMP7', 'AP3D1', 'PFKFB2', 'NUDC', 'LY6G6F', 'GRB7', 'TP53INP1', 'PIP5K1C', 'GATA4', 'NKX2-5', 'TBX5', 'ERN1', 'RHEB', 'INSIG1', 'SCAP', 'SREBF2', 'RND2', 'CDT1', 'GORASP1', 'FABP5', 'NUFIP2', 'CYFIP2', 'CDK5', 'LMTK2', 'NES', 'KIF3B', 'RN7SK', 'RPS6KA1', 'MAPK3', 'RPS6KA2', 'STXBP5', 'STXBP3', 'BMI1', 'SYNJ1', 'STX2', 'VAMP8', 'STX3', 'VAMP2', 'MYLIP', 'CNPY2', 'OSTM1', 'UBL5', 'CLK4', 'CALCR', 'LRP1', 'PDK2', 'KCNA2', 'AGRP', 'MC4R', 'CKS1B', 'ATF5', 'TRAF3IP1', 'MAP1A', 'SPTBN4', 'DGKH', 'NTN1', 'NSFL1C', 'PSPC1', 'SLC9A1', 'PTPN14', 'GJA8', 'GJA3', 'SNAP91', 'GCA', 'PYGM', 'GJA1', 'ATP2A2', 'PLB1', 'ADORA2A', 'DRD2', 'TPR', 'NUP98', 'TRAF4', 'RPS6KB1', 'CHRM3', 'FZR1', 'PAFAH1B1', 'FLT1', 'PEA15', 'RPS6KA3', 'NDFIP2', 'NOTCH2', 'SAP30', 'MICAL1', 'RABIF', 'F3', 'F7', 'WDR7', 'DMXL2', 'CXCR3', 'CXCL9', 'CD74', 'MIF', 'CAT', 'BCOR', 'MLLT3', 'EPN1', 'ROCK1', 'DIAPH1', 'CIT', 'RHPN2', 'GIGYF1', 'ITGB5', 'CHTF8', 'REC8', 'KIN', 'EBF1', 'E2F3', 'SUGT1', 'S100A6', 'GHR', 'IL27RA', 'RASSF2', 'DNAJC6', 'SGK1', 'TGFB3', 'ARID4B', 'SUDS3', 'SAP130', 'NMD3', 'TRAK1', 'TNFSF13B', 'TNFRSF17', 'TNFRSF13C', 'MUS81', 'EME1', 'SUPT5H', 'SUPT4H1', 'PEX1', 'PEX6', 'SPRY4', 'MCFD2', 'LMAN1', 'ADAMTS1', 'VEGFA', 'CBY1', 'TOP2A', 'PKP3', 'DSG1', 'DSG2', 'DSG3', 'DSC3', 'CNTFR', 'LIFR', 'HIPK1', 'MBD4', 'COPS5', 'CABIN1', 'SMG6', 'SEPT4', 'TES', 'EDNRB', 'HMGA2', 'SLN', 'ATP2A1', 'PLN', 'UBE3C', 'CD47', 'CD2', 'CAPZA1', 'TRIM24', 'ZNF74', 'CALB1', 'NACA', 'CAST', 'ZNF197', 'GFER', 'TRAPPC2', 'FERMT2', 'FBLIM1', 'NOS3', 'GUCY1B3', 'PRKAR2A', 'AKAP7', 'AKAP5', 'AKAP6', 'AKAP2', 'AKAP11', 'RAB32', 'KLF9', 'NFKBIB', 'SLC6A3', 'MAT2A', 'MAT2B', 'PARP9', 'DTX3L', 'SETD1A', 'ACTG2', 'PRLR', 'PPIA', 'MTMR2', 'SBF1', 'GEMIN2', 'SOX10', 'GTF2E2', 'HMGA1', 'TAF4', 'TAF6', 'TAF7', 'TAF7L', 'PRKCE', 'TRRAP', 'SUPT3H', 'H2AFZ', 'S100A10', 'TRPV5', 'DLG5', 'GOLGA5', 'IMP3', 'MPHOSPH10', 'IMP4', 'VAPB', 'SCYL3', 'ATP6V0A4', 'PFKM', 'HSPA9', 'RBPJ', 'ADRA1B', 'CNTF', 'HOXA5', 'OTX2', 'UBE2A', 'YES1', 'PARP3', 'HSPA5', 'TBL1X', 'HIST2H2BE', 'SHANK3', 'RFX1', 'NFIX', 'NFIB', 'NFIC', 'PDE6G', 'TACC2', 'TIMM44', 'RRAS', 'CCT3', 'SH3D19', 'ORC1', 'PARK7', 'EFCAB6', 'EDEM1', 'CUL4B', 'CAND1', 'STEAP3', 'PKMYT1', 'AKAP4', 'ADCY5', 'DEK', 'GABRB3', 'ELK1', 'PLD1', 'RTKN', 'MSH4', 'MSH5', 'SYTL1', 'SYTL5', 'MYRIP', 'SYTL2', 'SYTL3', 'RAB3A', 'NUP88', 'TAT', 'PRPF40B', 'FICD', 'UBE2K', 'HYPM', 'KAT6B', 'ZMYM3', 'ZMYM2', 'ZNF217', 'PIR', 'PLA2G4A', 'EDNRA', 'SNRPD1', 'WDR77', 'GTF3C2', 'GTF3C5', 'POLR3C', 'GTF3C4', 'MEF2A', 'MEF2C', 'TOMM34', 'GATAD2A', 'GATAD2B', 'GTF2IRD1', 'KAT8', 'HSPD1', 'BCL6', 'TCP1', 'TOP2B', 'SP3', 'CIR1', 'SND1', 'CDK11A', 'STX1B', 'GRID2', 'GRID2IP', 'CCNL2', 'CCNL1', 'NCF1', 'BAZ2A', 'GTF3C1', 'TAF5', 'BAZ1A', 'CHRAC1', 'HDAC10', 'BRD7', 'HNRNPUL1', 'KAT2A', 'EP400', 'ACTL6A', 'CDK2AP1', 'SMARCB1', 'ARID4A', 'FKBP3', 'KLF1', 'MLLT10', 'MXD1', 'E2F4', 'FKBP5', 'FKBP4', 'PTGES3', 'ARID1A', 'STAT2', 'MIER1', 'BAZ1B', 'SIN3B', 'MECOM', 'KLF11', 'KLF16', 'KLF10', 'FOXH1', 'DNMT3L', 'HIPK3', 'ZBTB18', 'ACTL6B', 'SRCAP', 'PHF12', 'CDX2', 'E2F5', 'TWIST1', 'HES1', 'SIRT1', 'HEY2', 'DTX1', 'RAD21', 'HNRNPU', 'MAML1', 'EID1', 'RBM14', 'CITED4', 'MDM4', 'BRF1', 'MGMT', 'PLEKHO1', 'HNRNPA2B1', 'SPIB', 'HIST1H2BK', 'FGF1', 'CDC25B', 'CCT2', 'HOXB7', 'LRRFIP1', 'MSX1', 'GLI3', 'FOXO4', 'CITED1', 'STAT6', 'ONECUT1', 'TRIP4', 'NFE2', 'IRF3', 'TRERF1', 'KLF4', 'NEUROG1', 'NFATC4', 'CBX8', 'PCGF6', 'RPS6KA5', 'RPS6KA4', 'IRF2', 'IRF1', 'KLF13', 'PRDM2', 'UBE2E1', 'UBE2E2', 'UBE2E3', 'CBX2', 'IFNAR1', 'BTG2', 'SYNCRIP', 'CAPRIN1', 'FUS', 'ATRX', 'PHF1', 'PPARA', 'TNRC6B', 'ADAM22', 'LGI1', 'REM1', 'PPP1CC', 'CNOT7', 'TOB1', 'RYR2', 'PRKACG', 'PMS2', 'TLX1', 'PPP2CA', 'PIGK', 'PIGT', 'CTSH', 'ASIC1', 'VAV2', 'VAV3', 'KRT8', 'RHOD', 'DIAPH2', 'CHP2', 'SLC9A3', 'CHP1', 'SLC9A5', 'RAB7A', 'CHM', 'TNRC6A', 'PDK1', 'ARFGEF2', 'IMMT', 'ATP5C1', 'FAM219A', 'CALM2', 'ARAP1', 'ENY2', 'MCM3AP', 'TPI1', 'EFNA1', 'PPBP', 'EGFL6', 'SH3GL2', 'ATP1A1', 'PSMB6', 'WDR61', 'FBXO34', 'FGFR3', 'RNF130', 'FMNL1', 'FUBP1', 'CELF1', 'HMOX2', 'CCDC106', 'PAM16', 'PNMA6A', 'PNMA1', 'PTN', 'NAP1L1', 'NKAP', 'NUDT3', 'RPL7', 'POLR3F', 'WDR74', 'LRFN1', 'NIPSNAP1', 'VPS29', 'RNF2', 'RPL15', 'COPS6', 'RPS10', 'SCG5', 'LAMC1', 'CCDC90B', 'MEX3B', 'UTP14A', 'C10orf88', 'YAE1D1', 'DNAJB11', 'FABP4', 'C8orf33', 'GOLGB1', 'PFN2', 'HBA1', 'HBB', 'LRIF1', 'RPS4X', 'MCTS1', 'DENR', 'MRPL44', 'MYH9', 'MYL9', 'DLST', 'PDCD7', 'PLEKHA4', 'PPP1R16A', 'REG1B', 'PRKCSH', 'RNF10', 'RPS3', 'S100A8', 'SDCCAG3', 'SETMAR', 'GDF9', 'SYN1', 'TAC1', 'TK1', 'PTPRK', 'UCHL1', 'UCK1', 'ZCCHC10', 'TXNDC9', 'ARL15', 'ARL3', 'SRRT', 'BTBD2', 'KIAA1377', 'DLEU1', 'UBR1', 'POLA2', 'IK', 'KBTBD7', 'MRPL42', 'PDCD5', 'SCMH1', 'PRDX1', 'PTPN4', 'DDR1', 'RPS21', 'RPSA', 'SERPINB9', 'SUMO2', 'C14orf1', 'RBM48', 'TUBB2A', 'ARIH2', 'RPL8', 'ATP6V1G1', 'GET4', 'ECH1', 'EIF2S2', 'LAMA4', 'IKBKAP', 'CRMP1', 'COPE', 'COPA', 'HSPE1', 'TOMM20', 'CUL9', 'GFRA1', 'GDNF', 'NRTN', 'GFRA2', 'CSF2RB', 'TSC1', 'CTLA4', 'CD80', 'CD28', 'HFE', 'TFRC', 'CEACAM8', 'GLS', 'IRAK1', 'CAPN2', 'CAPNS1', 'TIA1', 'FASTK', 'CRYAB', 'CS', 'SRP9', 'SRP14', 'FGFR2', 'KIF1C', 'IL12RB2', 'PTPRD', 'PTPRS', 'IRF4', 'FGR', 'CAP1', 'PDGFA', 'PDGFB', 'LRP5', 'EPOR', 'MRVI1', 'GEM', 'GMIP', 'NET1', 'NRF1', 'MAP4K1', 'FRS2', 'SNX1', 'F2R', 'THBS1', 'FOSL2', 'ITGB1BP1', 'CDC42EP3', 'GDI1', 'RAB1B', 'GEMIN5', 'FBLN1', 'MAFK', 'SLC3A2', 'SLC7A5', 'LMO1', 'BLNK', 'CD63', 'CD9', 'CD81', 'WASL', 'AGFG1', 'IL1R1', 'CDH8', 'NCF2', 'STK11IP', 'CASP3', 'CPLX1', 'KDELR1', 'ARFGAP1', 'AGPS', 'GNPAT', 'HGF', 'PGF', 'COPS8', 'GPS1', 'COPS2', 'COPS3', 'COPS7A', 'COPS7B', 'PTPRE', 'KCNB1', 'CD8A', 'APBA3', 'IMPDH2', 'HCLS1', 'C3', 'CFP', 'SYNM', 'DES', 'NEFL', 'NEFH', 'WASF2', 'ACTR3', 'CSNK1A1', 'PPP1R14A', 'IGSF8', 'CD22', 'AMPH', 'MYH10', 'ELL', 'C5', 'C6', 'COX5B', 'CACNG2', 'GRIA4', 'GRIA2', 'BRF2', 'GRM7', 'INHBA', 'IL2RB', 'E4F1', 'RAB11FIP3', 'AIP', 'S100Z', 'CSTF3', 'CPSF1', 'NFKBIE', 'UTY', 'PDGFC', 'AP3B1', 'ARF5', 'AP3S2', 'HNRNPF', 'HNRNPH1', 'PDGFRB', 'PDCD2', 'ARCN1', 'MYCN', 'MYCL', 'LAMA3', 'STAT5B', 'EPRS', 'RARS', 'PTPRJ', 'KNG1', 'KLKB1', 'TNFRSF13B', 'GLDC', 'IKZF4', 'CACNB4', 'OXCT2', 'FCGR2A', 'GOSR1', 'GOSR2', 'MAGEH1', 'CFI', 'SF3B6', 'RERE', 'ATN1', 'SYK', 'SOCS3', 'KPNB1', 'MAP3K14', 'NCAM1', 'PSKH1', 'SH2B2', 'MUSK', 'SFTPA1', 'DMBT1', 'SFTPD', 'FN1', 'COL7A1', 'IL4R', 'NPHP1', 'NOSTRIN', 'COL2A1', 'LY96', 'MAPK8IP1', 'NOS1AP', 'MAPK8IP2', 'LDLR', 'PF4', 'ITGB3', 'ITGAV', 'MMP2', 'TIMP2', 'DNAJC3', 'HIST1H1A', 'SHOC2', 'RRAS2', 'KRT5', 'GP1BA', 'VWF', 'CTCF', 'LMX1A', 'F2', 'FGA', 'TSC22D3', 'BRD2', 'E2F2', 'ZPR1', 'CAV2', 'PLCG2', 'TNKS2', 'NECAB3', 'MAP2K3', 'GNG13', 'GNB4', 'GNB1', 'EHD1', 'FLNB', 'PA2G4', 'S100A13', 'SYT1', 'IFNAR2', 'IFNA2', 'TPBG', 'SRP19', 'IPO5', 'IPO7', 'IPO8', 'RHOB', 'BET1L', 'YKT6', 'XRCC6BP1', 'NR0B2', 'MLX', 'MLXIP', 'PTPN7', 'TEC', 'ACVR2B', 'ACVR1B', 'GANAB', 'NOS2', 'GAR1', 'ELF1', 'GPAA1', 'DAZL', 'DAZ1', 'RIPK2', 'MELK', 'ITGB4', 'ADRB3', 'EGF', 'MATK', 'NOG', 'PVRL2', 'LY86', 'CD180', 'SH3BP5', 'MSTN', 'FSTL3', 'AXL', 'TENC1', 'SRSF5', 'SSX2IP', 'ACTN1', 'DDX1', 'FBXL4', 'FBXL5', 'GTF2F2', 'MSR1', 'AKAP12', 'CBFB', 'NID2', 'KCNQ1', 'PEX14', 'POU2F2', 'SIL1', 'M6PR', 'APC2', 'GRHL3', 'GRHL1', 'GRHL2', 'PSMB4', 'TMPO', 'ACP1', 'MPP6', 'ICAM5', 'TOP1', 'PLXNA1', 'RARB', 'IL10RA', 'AMBP', 'ARHGEF12', 'ITGA8', 'CD44', 'CALR', 'PDIA3', 'CD46', 'ALB', 'FCGRT', 'UTRN', 'SNTB2', 'BRD4', 'HERC5', 'ROS1', 'PCLO', 'CDC25C', 'FHL5', 'CREM', 'PCNT', 'ADAM9', 'TRAF5', 'CHRNA1', 'CHRND', 'WASF1', 'PYCARD', 'MEFV', 'KIF3A', 'HPCA', 'DPM1', 'DPM3', 'SPARC', 'ICAM1', 'PPP5C', 'IL5RA', 'MMP7', 'ENG', 'POLH', 'CTGF', 'SKIL', 'CAND2', 'MEIS1', 'APOD', 'APOA2', 'TNFRSF12A', 'TRPC2', 'TRPC7', 'SPI1', 'SLA', 'TNKS1BP1', 'CDH23', 'PTPRCAP', 'ABCD3', 'ABCD1', 'PPEF1', 'PPEF2', 'F12', 'CD40', 'ADRB2', 'DYNLT1', 'SH3BP2', 'LAT', 'SSTR2', 'STK4', 'KCNJ3', 'KCNJ5', 'CAMK2G', 'FLT3', 'ATP2B4', 'NRP1', 'LATS1', 'PTPRA', 'SOCS2', 'ZNF148', 'PTRF', 'GNG10', 'GNB2', 'GNG4', 'GNG11', 'SRP54', 'CXCL8', 'CFH', 'KCNG3', 'KCNH1', 'KCNV2', 'EPHA2', 'POLDIP2', 'EIF5', 'HAX1', 'CHMP3', 'LGALS3', 'A1CF', 'MLH3', 'PMS1', 'GRIN3B', 'GRIN1', 'DAP3', 'MKI67', 'KIF15', 'DLGAP1', 'CDC42SE1', 'CDC42SE2', 'PRKCQ', 'GRIN2C', 'IL10', 'KHSRP', 'TEAD2', 'PRF1', 'EDF1', 'NR1H3', 'DAG1', 'IKZF2', 'SERPINA5', 'ZNF335', 'CBLC', 'LNPEP', 'L1CAM', 'CLINT1', 'BCL2L10', 'MAP2', 'NR2F1', 'ETHE1', 'LTA', 'ATOX1', 'SYNRG', 'PEBP1', 'HNRNPD', 'MAP4K4', 'CRIPT', 'SCNN1A', 'SCNN1B', 'RYR3', 'RAD18', 'PMPCB', 'FXN', 'VGLL1', 'PTCH1', 'SMO', 'TIMP3', 'MST1R', 'HIP1', 'PTPRR', 'PTPN5', 'RASSF5', 'SPHK1', 'RAC2', 'CRHR1', 'UCN', 'ABCD2', 'DDB2', 'IGF2', 'IGFBP1', 'TCF20', 'PCBP2', 'DIAPH3', 'SNTB1', 'NUCB2', 'TAF1A', 'TAF1B', 'TAF1C', 'NFYA', 'MMP9', 'TGFB1', 'PIGP', 'PIGA', 'SH2D2A', 'PBX1', 'MYBL1', 'C1D', 'MAP3K12', 'AMD1', 'AP2A2', 'VAPA', 'VEGFC', 'EIF2S1', 'PER3', 'PVR', 'IL2RG', 'IL3', 'IL3RA', 'KIR2DL1', 'HLA-C', 'RETN', 'RPH3A', 'FRK', 'DNAJA1', 'KRIT1', 'PTPN1', 'STX12', 'CD19', 'CR2', 'A2M', 'PAEP', 'RPS13', 'GDF15', 'WBP1', 'WBP2', 'TPD52', 'MAL2', 'ELMO1', 'POU2AF1', 'ARHGAP35', 'TAF12', 'TAF8', 'RCAN1', 'PPP3CA', 'ACBD3', 'SERPINF2', 'MID1', 'MID2', 'TRIM3', 'TRIM5', 'TRIM6', 'TRIM8', 'TRIM21', 'TRIM25', 'TRIM26', 'CYBA', 'TNFSF14', 'LTBR', 'PLTP', 'APOA1', 'F13A1', 'F13B', 'AANAT', 'PKIA', 'TRIM63', 'IRS4', 'RANGRF', 'RCC1', 'STIM1', 'STIM2', 'PTH1R', 'PTHLH', 'PTH', 'CLPX', 'CLPP', 'DNAJC7', 'RGS18', 'SHB', 'PLG', 'C4BPA', 'APCS', 'HOXC4', 'CD36', 'MAP3K13', 'PRDX3', 'MME', 'GRIA3', 'GRIP1', 'DGAT1', 'RAC3', 'CIB1', 'NPR3', 'NPPA', 'NPPB', 'NPPC', 'NPR2', 'CSF3R', 'SRSF2', 'CHFR', 'PIM1', 'RPS19', 'HMGB1', 'ALCAM', 'CD6', 'C1S', 'C1R', 'ITPR3', 'RAB11FIP2', 'MYO5B', 'PTTG1', 'PRDX6', 'DSP', 'RIPK4', 'DMPK', 'POU1F1', 'PTPN3', 'DLGAP2', 'DLGAP3', 'DLGAP4', 'CLIP2', 'VDR', 'PARD6B', 'RGS10', 'IRAK2', 'IRAK3', 'GATA3', 'ATRIP', 'SSBP3', 'SH2D3C', 'EVPL', 'SOX18', 'MYOG', 'MYF5', 'RAP2A', 'ITGA2', 'MMP1', 'SHH', 'EIF2B2', 'EIF2B4', 'PAH', 'UNG', 'RAX', 'UAP1', 'METAP2', 'TOB2', 'CCNG2', 'PPP2R5C', 'RP2', 'SGCD', 'SGCG', 'APEX1', 'PBX2', 'KLRD1', 'KLRC1', 'KLRC2', 'SMN2', 'ASB8', 'AHCYL1', 'TEP1', 'CA2', 'RRAD', 'JAG1', 'DLL1', 'ARHGEF3', 'NMUR2', 'NMU', 'TLN2', 'ANXA1', 'BICD2', 'ACTR1A', 'MTCP1', 'ADH5', 'MAP3K4', 'EAF1', 'ELL2', 'PTTG1IP', 'STX7', 'BACH1', 'USP9X', 'MYOZ1', 'ASGR1', 'CERS2', 'ASGR2', 'ATP6V0C', 'SLC22A1', 'TNFRSF11A', 'CASP7', 'RABGGTB', 'ITGB7', 'RAG1', 'NFYC', 'AVPR2', 'CDK5R1', 'KITLG', 'OLFM3', 'MYOC', 'FBXW11', 'ITGA6', 'ITGA5', 'CELF2', 'PTPRZ1', 'SERPINB3', 'SNAPC4', 'MTNR1A', 'BCAR3', 'KLF3', 'NID1', 'TNFRSF6B', 'TNFRSF14', 'TEK', 'ANGPT1', 'ANGPT2', 'MCF2', 'STK35', 'PLAT', 'SERPINI1', 'GDI2', 'PLK3', 'LCAT', 'SORL1', 'ITGA4', 'KRT10', 'ZNF638', 'PTGS2', 'PLAUR', 'MAP4K2', 'DUSP16', 'ALK', 'SLPI', 'KCNA3', 'KCNA1', 'KCNAB2', 'PPP2R3A', 'C5AR1', 'ELF3', 'RILP', 'TLR2', 'NLRP1', 'PPP2R2A', 'PPP2R1B', 'DHFR', 'ADAM12', 'PIK3CD', 'CCL7', 'LCN2', 'RAB11FIP5', 'PTPN2', 'LEPR', 'SVIL', 'KCTD13', 'MAPRE1', 'ENPP1', 'TNFSF10', 'FLT4', 'HMGN1', 'COL25A1', 'SMG1', 'VAMP1', 'MXD3', 'CREBZF', 'SPAG4', 'ODF1', 'SOS2', 'CLCF1', 'LDHB', 'KCNE1', 'HSD17B10', 'SALL1', 'ICAM3', 'GDA', 'KCND2', 'SLC26A8', 'TSN', 'POLD3', 'USP10', 'G3BP1', 'CTNNAL1', 'ICAM2', 'SNRPA1', 'PKNOX1', 'HOXB1', 'GPLD1', 'APOA4', 'EFNA5', 'EPHA7', 'PAK7', 'RAPGEF5', 'FGF9', 'GRM1', 'LAMTOR2', 'LAMTOR3', 'WRNIP1', 'EIF4B', 'COL9A1', 'CRY2', 'TMED2', 'BLZF1', 'TMED3', 'TGFA', 'TMED10', 'DUSP19', 'IL5', 'SRA1', 'TNFRSF9', 'CDC34', 'ANAPC2', 'UBE2C', 'FGG', 'FGB', 'ELP3', 'ELP2', 'ELP4', 'ASAP1', 'CD151', 'SP2', 'SP4', 'ERG', 'AMY1A', 'CISH', 'GP1BB', 'KCNK3', 'CCS', 'TNFRSF10A', 'ZNF33A', 'CUL7', 'FBXO3', 'FBXO22', 'TUBA1B', 'FBXW8', 'GLRB', 'GRIK5', 'EXT1', 'EXT2', 'MKNK1', 'PITPNM3', 'PITPNM1', 'PITPNM2', 'MAFF', 'MPL', 'ATXN2L', 'PROC', 'GAB3', 'MSC', 'SNAPC1', 'TNC', 'PPP1R10', 'RRP1B', 'LY9', 'RARG', 'RAB6A', 'BICD1', 'CCNG1', 'SPDEF', 'NKX3-1', 'RASD1', 'UBE2R2', 'RGS3', 'GNA11', 'TNFRSF4', 'AKAP14', 'SKAP2', 'SLC6A4', 'LAIR1', 'SNRPC', 'CD3E', 'CAV3', 'RAE1', 'ARL4A', 'EAF2', 'SH3GLB1', 'SNCB', 'ARHGDIB', 'ZNF239', 'SIX5', 'EYA3', 'EYA2', 'SIX4', 'EIF4EBP2', 'TRIM55', 'TRIM54', 'GMEB1', 'USP13', 'NR5A2', 'DRP2', 'PRX', 'MAPKAP1', 'CLIP1', 'GDI2P1', 'FNIP1', 'PAM', 'PRKAA1', 'RPS6', 'COASY', 'POLDIP3', 'MLST8', 'FLCN', 'SLC6A1', 'GH1', 'IFT172', 'LHX3', 'ATF7', 'SH2B1', 'FST', 'MARCKS', 'INHBB', 'ADD2', 'UCHL3', 'ITGAL', 'STON2', 'EPS15L1', 'SYT2', 'ZDHHC16', 'IFNG', 'IFNGR1', 'TAF2', 'NPHP4', 'BNC1', 'PRKAR2B', 'BANF1', 'KCNJ6', 'KCNJ9', 'POU4F2', 'PLIN3', 'DLX2', 'MSX2', 'SNX6', 'NBR1', 'SNAPC2', 'REXO4', 'PKN3', 'ARHGAP10', 'ARHGAP26', 'UTF1', 'ERCC6', 'POLL', 'PTGFRN', 'TLX2', 'ARL2BP', 'SYNC', 'DAPK1', 'SHARPIN', 'RANBP10', 'LAMA5', 'FMNL3', 'MECP2', 'STX6', 'STX16', 'VTI1A', 'COL17A1', 'SMC4', 'TJAP1', 'SHC3', 'KRT1', 'PI4KA', 'ABCB7', 'FECH', 'CCL3L1', 'THBD', 'NCAPD2', 'ATP6V1H', 'NPDC1', 'SEMA4C', 'PTPRM', 'CENPE', 'NLK', 'TCEB3', 'TOMM22', 'MAPKAPK5', 'KNTC1', 'CD3D', 'ARHGAP17', 'ARHGAP44', 'CYFIP1', 'BMP6', 'BAI1', 'SLC25A4', 'HIP1R', 'OPRL1', 'PNOC', 'ARF4', 'HMGB2', 'DAB2IP', 'ENC1', 'NTRK2', 'TSNAX', 'CD86', 'ATP6AP2', 'REN', 'RGS5', 'ASCL1', 'GPR143', 'SUCLG2', 'CHML', 'TAPBP', 'ARHGEF4', 'BEST1', 'EPHA3', 'EFNB2', 'ISL2', 'VCAM1', 'REPS2', 'SRY', 'EXOSC5', 'GSTA1', 'IER3', 'MCAM', 'NFE2L3', 'CD34', 'SEC23A', 'SEC24B', 'TLN1', 'G6PD', 'SYT7', 'SYT8', 'NR3C2', 'PIGS', 'RAB27B', 'DYNC2H1', 'DYNC2LI1', 'SGK3', 'PECAM1', 'KIR2DL3', 'HR', 'ASAP2', 'ESRRA', 'AHRR', 'REPS1', 'LPA', 'EYA1', 'FCER1G', 'BZRAP1', 'TSPO', 'PSPH', 'HCFC1R1', 'CDH11', 'SCARB1', 'FGFBP1', 'PAG1', 'PCIF1', 'DAPK2', 'CXCR1', 'AP4M1', 'F8A1', 'DUSP1', 'NRD1', 'RDX', 'CSN3', 'BANK1', 'HINFP', 'IBTK', 'FBXO32', 'PODXL', 'ESRRG', 'STOM', 'IRF8', 'RFXANK', 'ITGA9', 'DBF4B', 'HIST4H4', 'HIST2H3A', 'PPP2R5A', 'SF3A2', 'NEU1', 'GLB1', 'GAK', 'CRH', 'PEX11B', 'SLC25A17', 'CREB5', 'SENP3', 'MAP3K6', 'NXF2', 'FBXO2', 'AHSG', 'NOD1', 'TYRO3', 'RAP2B', 'CCNB3', 'MMP14', 'EPHB3', 'TACR1', 'PLAG1', 'TIRAP', 'TMBIM6', 'SLC1A1', 'ARL6IP5', 'INSRR', 'ARHGEF6', 'BGN', 'PAIP1', 'PEG3', 'IL9R', 'IREB2', 'PPP2R4', 'MYOT', 'TNFRSF18', 'HHEX', 'EPHA4', 'EFNB3', 'SNRPN', 'GLI1', 'GLI2', 'ANXA6', 'CD58', 'BIRC7', 'STRADB', 'PAK1IP1', 'CD33', 'MBL2', 'MASP2', 'PRNP', 'C4B', 'C2', 'IRF9', 'ZKSCAN8', 'NKX2-1', 'MYF6', 'TAL2', 'GRIN3A', 'SH2D3A', 'CDC14B', 'CXCR4', 'MAPK13', 'FGF13', 'TBC1D10A', 'RRN3', 'CD59', 'C9', 'MYO9B', 'HOXA10', 'PIGH', 'ALOX12', 'MLLT1', 'PVRL3', 'ERCC8', 'IGFBP6', 'IGFBP4', 'FLOT2', 'CLASRP', 'VEGFB', 'FBLN2', 'OPRM1', 'GAS6', 'MYLK', 'PRKCG', 'STAG1', 'STAG2', 'TCF7L2', 'CDK11B', 'IFI16', 'HOXC8', 'SYNPO', 'CCT6A', 'CCT4', 'IGBP1', 'CCT7', 'PPP4R4', 'CTTNBP2', 'STK26', 'CTTNBP2NL', 'STRIP2', 'SIKE1', 'FGFR1OP2', 'PPP2R2D', 'PPME1', 'PPP2R5E', 'CCT8', 'FGFR1OP', 'PPP2R5B', 'TRAF3IP3', 'PPP2R2C', 'PPP6C', 'BIRC8', 'ZBTB7A', 'CNN1', 'FGF12', 'FCGR1A', 'FCAR', 'CABLES2', 'NTRK3', 'DCX', 'SGCA', 'IRAK1BP1', 'HMMR', 'EFNB1', 'TRA', 'TRB', 'OPHN1', 'LTB', 'LAT2', 'RAG2', 'NPNT', 'CIZ1', 'CASP8AP2', 'CD244', 'GDE1', 'TESK1', 'TESK2', 'TPM2', 'CASP6', 'TIMP4', 'RHOH', 'NFKBIZ', 'PAK3', 'APEX2', 'PDK3', 'PTPN18', 'TPX2', 'HP', 'MPP5', 'INADL', 'CA4', 'NPHS2', 'SCAMP2', 'GPR37', 'UBE2G1', 'UBE2J1', 'TWSG1', 'CHRD', 'ENO1', 'HNF1B', 'FKBP1B', 'DUSP3', 'DNAJA3', 'ACVRL1', 'CD82', 'SNUPN', 'MOAP1', 'LZTS1', 'RNF19A', 'ROPN1', 'BDNF', 'SCAF11', 'NHP2L1', 'TF', 'CYTIP', 'GLP1R', 'GCG', 'NRL', 'FIZ1', 'XPO5', 'SENP1', 'TGM2', 'POLR3A', 'NISCH', 'WIPF2', 'GBP3', 'WT1', 'WTAP', 'SENP2', 'LAMA1', 'EDA2R', 'RGS14', 'RGS12', 'CARD10', 'KLK3', 'PILRA', 'NGFRAP1', 'MAP4K5', 'FAM57A', 'SOX4', 'CCR3', 'CD14', 'LBP', 'MBP', 'PLP1', 'PMP22', 'MPZ', 'ALDH2', 'CASP12', 'NEUROD2', 'KLF2', 'IGFBP5', 'CSRP3', 'NF1', 'TACR2', 'CXCL12', 'PIGQ', 'PIGC', 'PRPS2', 'SYN2', 'SYN3', 'ATF6', 'SCN1A', 'SCN5A', 'MAPK12', 'NTF4', 'NFE2L1', 'MAFG', 'DOC2A', 'FZD7', 'CLDN8', 'BTBD1', 'TAP1', 'TNFRSF8', 'SIX3', 'SIX6', 'G3BP2', 'MTPN', 'IFT57', 'VPS11', 'VPS18', 'VPS16', 'VPS33A', 'PPP1R3D', 'MTBP', 'OSMR', 'RPL10', 'CASQ2', 'FAF1', 'MOS', 'MZF1', 'PHLDA1', 'RPL14', 'PABPC4', 'FGF3', 'NOV', 'NFATC1', 'EXPH5', 'RAPGEF2', 'CARD9', 'ZIC1', 'ZIC2', 'ZIC3', 'STK36', 'SLA2', 'CARD11', 'CARD14', 'DGKQ', 'ROCK2', 'OSBP', 'PAX2', 'PAX1', 'MEOX1', 'MEOX2', 'PAX8', 'CLCN3', 'ARID3A', 'NR2F2', 'NR2F6', 'NSF', 'CCL11', 'SH2D1B', 'TAP2', 'RASSF9', 'CD7', 'PIK3CB', 'DEDD2', 'DEDD', 'PGM1', 'KIF20B', 'IRF7', 'TCF7L1', 'SIRPB1', 'TYROBP', 'WBP4', 'CEP250', 'CLEC4C', 'POLR3G', 'PRDM1', 'SMAD5', 'RUNX3', 'PLCB3', 'GABRB2', 'DAD1', 'JAG2', 'MAPKAPK3', 'ALDOA', 'DUSP4', 'SLC1A2', 'AQP4', 'TPD52L1', 'TPD52L2', 'HERPUD1', 'SSH1', 'CD209', 'RBP4', 'PAPPA', 'PRG2', 'POLD2', 'APLP2', 'APBB3', 'RNH1', 'ANG', 'AGTR1', 'BDKRB2', 'PSMA5', 'PSMB3', 'PSMA4', 'VCAN', 'MPZL1', 'SIRPA', 'PROS1', 'F5', 'CNTN1', 'MAATS1', 'FGF10', 'PDIA4', 'PPIB', 'MUTYH', 'LPL', 'BCL11A', 'BCL11B', 'DARS2', 'AIMP1', 'NR2C2AP', 'TPSB2', 'ARSA', 'EHD3', 'PEF1', 'GUCY2C', 'PDZD3', 'TRIM7', 'PIK3R5', 'CRYAA', 'CRYBB2', 'CRYGC', 'ARL5A', 'PALLD', 'PRMT2', 'VPS39', 'PICALM', 'FCRL3', 'DUSP6', 'PDLIM5', 'SERGEF', 'IRX4', 'SETBP1', 'RRAGD', 'RRAGB', 'LARP4B', 'AGTRAP', 'DAZAP1', 'AKT3', 'SLIT2', 'GPC1', 'BCHE', 'COLQ', 'CNOT4', 'ANXA11', 'GABBR2', 'PARD6G', 'FBXO5', 'COG3', 'COG8', 'COG6', 'EDARADD', 'ERO1L', 'ERP44', 'ERO1LB', 'ATG7', 'SOCS7', 'TUB', 'GRAP', 'TOM1L1', 'ALG2', 'ANXA7', 'DOCK2', 'TAOK2', 'SHKBP1', 'TSHR', 'BSG', 'SLC16A1', 'BACE2', 'PDHA1', 'PDHA2', 'RBSN', 'VPS45', 'KIF20A', 'RIN2', 'RAPGEF6', 'FCN3', 'LIMK2', 'FBXO7', 'FBXW2', 'FBXL3', 'FBXO44', 'STUB1', 'RUFY1', 'CDR2', 'TRIP11', 'REV3L', 'GRB14', 'PHLDB2', 'GRK6', 'FBXO18', 'CDK5R2', 'KIF1B', 'SLC2A1', 'GJD3', 'POLD1', 'LIG1', 'RB1CC1', 'NPAS2', 'SEPT9', 'ICOSLG', 'ICOS', 'PRKRIR', 'PLEKHA1', 'PLEKHA2', 'NR1I3', 'RLIM', 'HOMER2', 'SEMG1', 'SEMG2', 'BCAM', 'PRAM1', 'KCNH2', 'PHF5A', 'SF3B5', 'U2SURP', 'DHX15', 'RBM17', 'CHERP', 'DDX46', 'DNAJC8', 'DDX42', 'NFAT5', 'KIF2C', 'PAIP2', 'SSR2', 'SRPR', 'ADD1', 'SPTB', 'BRAP', 'ZNF350', 'PRL', 'CARS', 'S100A9', 'IL22', 'IL22RA1', 'SPN', 'CLEC4M', 'CENPH', 'SSTR5', 'TNFSF13', 'NMUR1', 'SPTBN1', 'KIF13B', 'CIDEB', 'STX17', 'DUSP14', 'SECTM1', 'COX4I2', 'POR', 'CYP2C19', 'CYP2C9', 'CYP1A2', 'CDH10', 'DDO', 'DSC1', 'PKP1', 'RCAN2', 'FKBP8', 'NQO1', 'OGDH', 'DLD', 'EPAS1', 'RPL29', 'CCR1', 'PITX2', 'POLR3D', 'POLR3B', 'POLR3E', 'POLR3H', 'POLR3K', 'TDGF1', 'TBXA2R', 'LYST', 'DNAJC14', 'DRD1', 'DRD5', 'CAP2', 'NFE4', 'NAB1', 'PRTN3', 'SERPINB1', 'ELN', 'CENPJ', 'LARS', 'HARS', 'FGFR4', 'PSIP1', 'DCLRE1C', 'IL23A', 'IL12B', 'KLF6', 'ZEB1', 'CEBPD', 'XPOT', 'EREG', 'ISL1', 'EPO', 'MATN1', 'MATN4', 'NCOA7', 'PURA', 'BTF3', 'CD163', 'TYRP1', 'NTHL1', 'ERCC5', 'GALNT5', 'CTNNA3', 'AXIN2', 'PTPRU', 'NRG2', 'TGFBRAP1', 'MAML3', 'TNNT2', 'TNNI1', 'TNNI2', 'GNL3', 'PIP4K2B', 'DCT', 'CCNE2', 'MYT1', 'ITGB6', 'TGOLN2', 'FURIN', 'PACS1', 'GP6', 'PABPN1', 'EPHA8', 'ZFPM1', 'NR4A3', 'ZNF675', 'UPP1', 'UPP2', 'PARP2', 'ZNF7', 'ACADVL', 'ASL', 'CTSA', 'SH2B3', 'SRR', 'DZIP3', 'CHMP1A', 'VPS4A', 'PTPRN', 'PLEC', 'PRUNE', 'POMC', 'MNT', 'XAF1', 'ACTN3', 'RAB11B', 'RAB25', 'POU3F2', 'IRAK4', 'PJA2', 'PJA1', 'GRIPAP1', 'ITSN2', 'GMCL1', 'UCHL5', 'HAUS7', 'GCKR', 'GCK', 'STMN1', 'TG', 'GOT2', 'CDC26', 'GSTM2', 'GSTM1', 'ORM1', 'DOCK9', 'CDC42EP5', 'CDC42EP2', 'PLEKHG2', 'ARHGDIG', 'RHOJ', 'CD5', 'RASA3', 'KIF13A', 'MDH2', 'LGALS3BP', 'GSPT2', 'FGD1', 'S1PR1', 'GUCY1A2', 'MS4A3', 'GZMA', 'RBBP9', 'ST13', 'USP4', 'AHSA1', 'AHSA2', 'MARCKSL1', 'MAGI2', 'DCTN4', 'SCHIP1', 'REST', 'ZRANB1', 'SNAPC3', 'AP3M1', 'LIMS2', 'F10', 'TFPI', 'LTK', 'THBS2', 'EXO1', 'ELF4', 'LTBP1', 'LMNB2', 'TOR1AIP1', 'UBE2V1', 'DNAJC5', 'ADAR', 'KRT72', 'KLK2', 'SERPINB6', 'BAIAP3', 'CRABP2', 'REV1', 'CSH2', 'KIR2DS2', 'CCNF', 'IL1RN', 'SNAPC5', 'TNPO2', 'PPM1D', 'CWC15', 'RPL12', 'RPS16', 'RPS25', 'SCAF8', 'RPL13', 'MX1', 'FCGR2B', 'LILRB2', 'IGFALS', 'UCP3', 'MLXIPL', 'TAF6L', 'TAF5L', 'TADA1', 'SUPT7L', 'UBXN6', 'SCAMP3', 'USP14', 'CYP3A4', 'SNAI1', 'RPL26', 'RBBP6', 'ZBTB38', 'APOBEC3G', 'FAF2', 'DCUN1D1', 'DTL', 'SLC11A2', 'NDFIP1', 'ATPAF1', 'ATP5B', 'JDP2', 'IRF2BP1', 'MAP1LC3A', 'CD40LG', 'AP4S1', 'CYLD', 'DDX58', 'KALRN', 'APOC1', 'SAA2', 'KIAA0101', 'SHD', 'TAF1L', 'TLE2', 'LRRFIP2', 'ADAM19', 'TRIP12', 'TTYH3', 'TTYH2', 'PRMT3', 'RPS2', 'KCTD5', 'PRKAA2', 'PRKAG3', 'GID8', 'MKLN1', 'AIPL1', 'BACH2', 'FILIP1', 'GNGT1', 'GNGT2', 'GNB3', 'EXOSC3', 'TRAM1', 'NEO1', 'PKM', 'ABTB2', 'FBXL6', 'CCAR1', 'FBXW5', 'BORA', 'SYVN1', 'RNF180', 'HERC3', 'VPRBP', 'PELI3', 'HLTF', 'UBE2V2', 'IGHM', 'SEL1L', 'RNF43', 'ADRM1', 'RBCK1', 'NUMBL', 'FANCM', 'C17orf70', 'C19orf40', 'LTBP4', 'CKM', 'DERL2', 'ATXN7L3', 'USP22', 'TRIOBP', 'HECTD3', 'ANKRD6', 'GRWD1', 'GMNN', 'OTUD5', 'UBA1', 'USP3', 'PPP3CB', 'UHRF1', 'PELI1', 'PELI2', 'TBC1D7', 'GCM1', 'RNF181', 'CXXC1', 'KMT2D', 'NAP1L4', 'HIST1H2AE', 'VRK1', 'SMC5', 'SMC6', 'STAG3', 'YAF2', 'PADI4', 'WHSC1', 'SETD1B', 'WDR82', 'ASB4', 'L3MBTL1', 'TTK', 'TTF1', 'SUZ12', 'SIPA1', 'CDC73', 'CTR9', 'LEO1', 'PAF1', 'AEBP2', 'HDLBP', 'GMPS', 'NPRL3', 'DOT1L', 'EGLN1', 'HUWE1', 'WDR82P1', 'ING2', 'BRMS1L', 'ING3', 'EPC1', 'EPC2', 'JADE2', 'JADE3', 'KAT6A', 'BRPF3', 'BRD1', 'BRPF1', 'OSR1', 'RPL10A', 'RPL4', 'RPLP0', 'DCLRE1B', 'SVIP', 'PHF14', 'KDM5C', 'FOXP3', 'N4BP1', 'RNF125', 'KDM6A', 'UBE2H', 'OFD1', 'RECQL5', 'PCGF2', 'SETD7', 'HIST2H4A', 'VRK2', 'UBA6', 'ZMYM4', 'IL17RA', 'PHLPP1', 'FIG4', 'VAC14', 'UIMC1', 'DNAJC19', 'TIMM17A', 'USP16', 'AMER1', 'USP36', 'ADSL', 'USP20', 'UBL4A', 'ASNA1', 'USP49', 'CETN1', 'USP44', 'CETN3', 'SPATA2', 'USP12', 'DMWD', 'USP46', 'USP21', 'FARSA', 'OTUD1', 'FUCA1', 'BAP1', 'HIVEP1', 'HIVEP2', 'FOXK2', 'USP1', 'USP45', 'MYO1A', 'USP25', 'MYO10', 'AMOT', 'NFRKB', 'PIK3C2A', 'PPM1G', 'PRIM1', 'PRIM2', 'USP17L9P', 'LGMN', 'ALDH18A1', 'ABCE1', 'RPN1', 'JOSD2', 'SHMT2', 'USP28', 'TFAP4', 'TNFAIP1', 'WDR48', 'VCPIP1', 'PHLPP2', 'USP43', 'WDR20', 'TCEAL4', 'USPL1', 'HAT1', 'SART1', 'OSBPL9', 'TXNL1', 'OTUD4', 'LRRC14', 'STAMBPL1', 'FEM1B', 'SCML2', 'TUBGCP3', 'N4BP2L2', 'PPIH', 'VAT1', 'USP42', 'WDR3', 'NUPL2', 'WDTC1', 'CLASP2', 'MTCL1', 'KLHL18', 'USP37', 'ICE1', 'AHCYL2', 'SCRIB', 'USP19', 'HECTD1', 'ANKRD17', 'DCAF4', 'PRPF31', 'UTP18', 'CRBN', 'ZFR', 'KLHL24', 'YTHDF1', 'USP47', 'C19orf60', 'CEP192', 'RNF220', 'ASXL2', 'SUPT20H', 'OTUD6B', 'OTUD7B', 'KDM3A', 'PARP11', 'RNF114', 'KLHL9', 'KLHL13', 'MEPCE', 'DHX33', 'KLHL42', 'KLHL8', 'BEND3', 'AASDHPPT', 'UBE2O', 'RBM15', 'TUT1', 'FAM129B', 'DDA1', 'MCMBP', 'FBXO11', 'KLHL15', 'DCAF11', 'SNX27', 'KCTD10', 'FAM175A', 'POLR1B', 'USP48', 'FBXW9', 'NEURL4', 'KLHL22', 'SPRYD3', 'NUDCD1', 'PPIL4', 'TADA2B', 'MYL12B', 'BTBD9', 'OSBPL11', 'FBXO17', 'LRR1', 'SPATA2L', 'ATXN7L2', 'RBM45', 'WDR36', 'UBXN2B', 'TCEAL2', 'MPP7', 'MYEOV2', 'AMOTL1', 'UBXN2A', 'ASXL1', 'PGAM5', 'DCP1B', 'KCTD6', 'RPL22L1', 'TYSND1', 'KDM1B', 'INO80E', 'USP38', 'HMX3', 'USP41', 'KIF7', 'CEP85L', 'USP27X', 'EEF1B2P5', 'ATXN7L3B', 'SLX4', 'TSPYL1', 'SLX1B', 'TEX10', 'SLX4IP', 'PPP6R2', 'ANKRD44', 'OSBPL6', 'CEP97', 'ANKRD52', 'RGPD4', 'IGF2BP1', 'LARP7', 'METTL16', 'NOP56', 'RPAP2', 'RPAP3', 'IGF2BP3', 'RPAP1', 'TTI1', 'TUBB4B', 'HEXIM2', 'HNRNPUL2', 'IGF2BP2', 'ZNHIT2', 'LRRC40', 'SRP72', 'HNRNPA0', 'PDRG1', 'HSPA6', 'MRPS27', 'C12orf45', 'TTI2', 'HNRNPH2', 'IPO11', 'SUPT6H', 'ACTR6', 'YTHDF2', 'TAF9B', 'PHGDH', 'NOP58', 'YBX3', 'GPN3', 'TAF3', 'TUBA8', 'TARDBP', 'SRP68', 'KPNA5', 'TELO2', 'C14orf166', 'MOV10', 'HNRNPDL', 'INTS3', 'RPL38', 'ACTR5', 'PCBP3', 'RPS9', 'ACTR8', 'MRPL37', 'USP34', 'WSB1', 'ZC3HC1', 'UBASH3A', 'TCF19', 'LRIG1', 'CHMP2A', 'CDKL5', 'FAN1', 'LAPTM5', 'MICALL1', 'FCHSD1', 'CENPF', 'EPHA1', 'TACC3', 'TOMM40', 'PXMP2', 'GTF3C6', 'HIST1H3E', 'H3F3A', 'HIST1H3A', 'PHF8', 'THAP3', 'INO80', 'IFRD1', 'ELSPBP1', 'DCAF5', 'BRWD1', 'PHIP', 'DCAF6', 'DCAF12', 'DCAF10', 'HIST1H4A', 'FRA10F', 'JARID2', 'MTF2', 'MCPH1', 'PLAGL1', 'EHMT1', 'ORMDL3', 'SPTLC1', 'KCTD11', 'KDM2A', 'MRGBP', 'TSHZ3', 'AMBRA1', 'DCAF13', 'DCAF15', 'DCAF16', 'DCAF17', 'PCGF1', 'KDM2B', 'TRIM11', 'STK38', 'FANCB', 'CHMP1B', 'NPC1', 'UFM1', 'MUL1', 'UBE4A', 'RFWD3', 'RNF13', 'RNF167', 'RNF115', 'ZNRF1', 'ZNRF2', 'MIB1', 'RNF165', 'RNF26', 'LTN1', 'UHRF2', 'RNF186', 'RNF144B', 'RNF103', 'RNF152', 'UBE2U', 'UBE2W', 'ASPM', 'RNF38', 'SMARCD2', 'POLK', 'RNF138', 'BFAR', 'DTX3', 'MARCH7', 'MGRN1', 'MKRN3', 'RC3H2', 'RNF144A', 'RNF166', 'RNF185', 'TRIM35', 'LONRF1', 'RSPRY1', 'UBR3', 'MARCH5', 'TRIM2', 'UBE2J2', 'EN1', 'INSIG2', 'MYBPC1', 'PYHIN1', 'HIST2H2AC', 'RNF19B', 'BTG4', 'EVI5', 'BANP', 'RECQL4', 'VPS36', 'CHMP6', 'FBXO31', 'LRRK2', 'IGKV2D-29', 'RNF20', 'ASB2', 'ASB1', 'ASB6', 'ASB7', 'TECPR1', 'ATG2A', 'WDR45', 'MAP1LC3C', 'PIK3C3', 'PIK3R4', 'UVRAG', 'ATG14', 'KIAA0226', 'NRBF2', 'KIAA0226L', 'ATG101', 'ATG13', 'CAMKK2', 'OBSL1', 'CLN3', 'COX15', 'KIAA0368', 'HSD17B12', 'SLC25A11', 'SLC25A10', 'SLC25A22', 'CPT1A', 'C14orf80', 'LDOC1L', 'PI4K2A', 'STBD1', 'GBAS', 'TBC1D2B', 'KBTBD6', 'RABGAP1', 'RCN2', 'HADHA', 'TEFM', 'RBFA', 'NSUN4', 'LLGL1', 'TMEM160', 'VANGL1', 'KLHDC10', 'FYCO1', 'STK3', 'NAPG', 'TBL2', 'SH3PXD2A', 'PARS2', 'RAB24', 'RABGAP1L', 'SMCR8', 'DIP2B', 'OSBPL8', 'HADHB', 'MRPL38', 'CAB39L', 'SAV1', 'RASSF4', 'ULK2', 'ATG2B', 'HDAC11', 'SUPT16H', 'RNF168', 'SIRT7', 'PITX3', 'HIST1H1E', 'IWS1', 'PAGR1', 'TOR1AIP2', 'AFF1', 'NSUN2', 'HMGCR', 'TMEM189', 'USP6', 'NHLRC1', 'ZNF644', 'WNK1', 'LAMB1', 'MYO9A', 'RPL22', 'SSFA2', 'MAPK6', 'CDC42BPA', 'MAP4K3', 'CDC42BPB', 'FAM65B', 'KIAA0232', 'MPHOSPH9', 'COBLL1', 'SETX', 'POGZ', 'CIC', 'RGL1', 'COBL', 'MGA', 'CRTC1', 'SIK3', 'CDC42EP4', 'PTPN23', 'GLTSCR1', 'FAM53C', 'WDR44', 'WHSC1L1', 'ARHGAP31', 'KIAA1328', 'GAREM', 'CRTC3', 'WNK2', 'KIAA1804', 'CGNL1', 'CEP95', 'ELMSAN1', 'FMNL2', 'TOM1L2', 'ARID2', 'NCKAP5', 'SERTAD2', 'DNAJC9', 'ATAD2', 'CDCA4', 'SALL4', 'NANOG', 'KMT2B', 'LCOR', 'ZNF224', 'MBTPS1', 'EZH1', 'CHD1L', 'ZEB2', 'MRTO4', 'APLF', 'PBRM1', 'PHC3', 'TNP2', 'CTCFL', 'PRMT7', 'NR4A2', 'CDCA5', 'PDS5B', 'MKRN1', 'HELLS', 'ZBTB9', 'PRDM14', 'SOX15', 'LHX4', 'LMX1B', 'MEIS2', 'FUBP3', 'ASCL3', 'UBP1', 'VENTX', 'TLX3', 'ZBTB1', 'ZNF70', 'ZFP64', 'LZTR1', 'ZNF410', 'ZBTB6', 'ZNF397', 'ZNF747', 'HDX', 'NCOA5', 'ZNF408', 'TRIM15', 'OS9', 'EGLN3', 'WDR26', 'WDR76', 'WDR5B', 'SMARCA1', 'BRMS1', 'SENP8', 'SERPINB5', 'HOXA11', 'SYF2', 'FOXN3', 'MLANA', 'REPIN1', 'DNAJC13', 'BCL7C', 'MAGEA2', 'HIC1', 'SUV420H2', 'SAP30L', 'TREX1', 'SIRT3', 'CKS1BP7', 'WIZ', 'SENP6', 'GFI1B', 'DLC1', 'PROP1', 'ETV2', 'RHD', 'CHMP4C', 'MYSM1', 'HSF4', 'ACIN1', 'HIST1H2BM', 'HIST1H2BC', 'PTCD3', 'KLF15', 'UBASH3B', 'MGEA5', 'SCOC', 'FEZ2', 'NR2E1', 'FASN', 'SAP25', 'HIST1H1C', 'ZBTB2', 'ZNF420', 'HSP90AA2P', 'MYEF2', 'SNAI2', 'NKX3-2', 'OXA1L', 'MRPL13', 'GAS7', 'TBPL2', 'DNAJB5', 'PRMT6', 'RSF1', 'NFX1', 'ESCO2', 'MSL1', 'MSL2', 'MSL3', 'TCFL5', 'ETV1', 'MSL3P1', 'PTPRH', 'PTPN9', 'HSD11B2', 'RAD54L2', 'MTA3', 'PROKR2', 'BCL6B', 'TUBB2B', 'PTMS', 'RREB1', 'ENDOG', 'ATXN1L', 'NAA15', 'SETD8', 'LSM11', 'SLBP', 'ZNF516', 'VHLL', 'UBE4B', 'PCNP', 'HIST1H2AB', 'HIST1H2BB', 'SOCS6', 'GSK3A', 'TTC37', 'CDCA7L', 'NIPBL', 'TSSK6', 'HECW2', 'HIST2H2AB', 'MBD3L2', 'ATF7IP2', 'PARP10', 'HERC1', 'ACO2', 'AICDA', 'FAM109A', 'OCRL', 'FAM109B', 'ANKRD12', 'HIF3A', 'SLC5A5', 'SATB2', 'JMJD1C', 'NLRP2', 'CEP164', 'EGLN2', 'KPNA7', 'WDR12', 'BRINP1', 'INO80C', 'INO80B', 'INO80D', 'SSX2', 'RBP1', 'UHRF1BP1', 'TICAM2', 'ZNF76', 'HOXB6', 'HTATIP2', 'ZCCHC12', 'DKC1', 'TERC', 'HBZ', 'PAX7', 'FOXM1', 'CENPA', 'CENPB', 'CENPT', 'CENPN', 'CENPM', 'CENPI', 'GATA6', 'CTNNBL1', 'POLN', 'NR1D2', 'PALB2', 'MAF1', 'BLID', 'MYL6B', 'APITD1', 'STRA13', 'USP12P1', 'ATAD5', 'RMI2', 'BHLHE41', 'NPAT', 'ASH1L', 'ZNF395', 'CCDC71', 'HIST1H1B', 'ADNP', 'HIRIP3', 'BCORL1', 'RPE65', 'SLC27A1', 'TRAPPC8', 'TRAPPC13', 'LMO7', 'HDGF', 'GSG2', 'HDAC8', 'WAC', 'OVOL1', 'PHF20', 'PHF20L1', 'SAMSN1', 'C14orf169', 'IST1', 'BCL7A', 'MBTD1', 'LAS1L', 'H1FX', 'AFF3', 'ELL3', 'DNAJA2', 'CEBPE', 'NUTM1', 'TBX2', 'ZNF711', 'ANP32B', 'CENPV', 'RPS27L', 'RPS27', 'WFS1', 'ACTC1', 'RPL18', 'RPL7A', 'MYL6', 'RPS8', 'TPPP', 'USP26', 'PPP6R3', 'PPP6R1', 'ROBO1', 'UNKL', 'INTS1', 'INTS2', 'INTS4', 'INTS5', 'INTS6', 'INTS7', 'INTS10', 'INTS12', 'INTS9', 'DDX26B', 'INTS8', 'ASUN', 'VWA9', 'C7orf26', 'NABP2', 'NABP1', 'UBE2T', 'PPP1R3C', 'NR1D1', 'TNP1', 'TOX4', 'ZZZ3', 'DCLRE1A', 'SMARCAD1', 'NOC2L', 'PINK1', 'ZNF746', 'DRD4', 'PLCE1', 'BCL2L12', 'MDH1', 'ZGPAT', 'CALD1', 'MC1R', 'AKR1B10', 'BACE1', 'FBXO45', 'TMEM55A', 'VTA1', 'CHMP5', 'RNF31', 'FOXRED2', 'TP53I3', 'RFFL', 'PYGO2', 'IRF5', 'MAVS', 'MIIP', 'ADARB1', 'LAMTOR1', 'RPS27A', 'RPS7', 'RNF6', 'ZBTB7B', 'WSB2', 'MFN1', 'TRIM56', 'TMEM173', 'EGR2', 'NAB2', 'HSPA1B', 'ANKS1B', 'RPS6KB2', 'ZNF668', 'SASS6', 'GDAP1', 'ERLIN2', 'SSU72', 'ETV5', 'ETV4', 'UBTD2', 'RIOK3', 'PYGL', 'KIF21B', 'PCMT1', 'MRPS7', 'MRPS22', 'VDAC3', 'ANKRD13A', 'ASPSCR1', 'ANKIB1', 'RHBDD3', 'RNF213', 'PDE12', 'FAM115A', 'TBC1D15', 'TRAFD1', 'UBR4', 'PSMB2', 'MFN2', 'CAMP', 'ZNF281', 'ZNF143', 'ANAPC15', 'USP50', 'VPS35', 'FAM21C', 'TBC1D5', 'KIAA1033', 'WASH1', 'KIAA0196', 'HIST2H2AA3', 'DNAJC2', 'SIRT4', 'IDE', 'SLC25A5', 'GNL3L', 'UBE2S', 'ZNF274', 'TSPYL5', 'DIMT1', 'DDX52', 'MARS', 'MRPS34', 'PCBP1', 'PELO', 'PSMB1', 'PSME4', 'LONP1', 'RYK', 'GPR125', 'CELSR2', 'PTK7', 'CD276', 'NCR3LG1', 'CELSR1', 'FREM2', 'FAT4', 'CDHR1', 'DCHS1', 'PCDH9', 'NRP2', 'PCDH7', 'PCDHGA11', 'DSC2', 'CELSR3', 'FAT3', 'CYR61', 'SLC25A12', 'SLC25A13', 'IPO9', 'SLC25A1', 'ALDH1B1', 'IDH3B', 'NDUFS3', 'ATP5J2', 'NDUFA5', 'NDUFA8', 'NDUFS1', 'NDUFS2', 'TRMT1L', 'TTC27', 'SSR4', 'BBS1', 'NEURL1', 'CLTA', 'MIP', 'PRR14L', 'SGOL1', 'ANKLE2', 'CEP350', 'SERTAD4', 'ZCCHC8', 'SKIV2L2', 'LPP', 'PPP2R2B', 'SKA2', 'SKA3', 'FAM122A', 'IER5', 'IER2', 'TUBB4A', 'OTUB2', 'ARG1', 'CTSD', 'ICT1', 'ACAD9', 'AFG3L2', 'ATP5F1', 'ATP5H', 'GTPBP10', 'MMAB', 'COX4I1', 'DDX28', 'DHX30', 'ETFA', 'ERAL1', 'FASTKD2', 'GRSF1', 'GRPEL1', 'HARS2', 'MALSU1', 'C6orf203', 'NOA1', 'LETM1', 'NGRN', 'POLRMT', 'MRPL1', 'MRPL10', 'MRPL11', 'MRPL12', 'MRPL14', 'MRPL15', 'MRPL16', 'MRPL17', 'MRPL18', 'MRPL19', 'MRPL2', 'MRPL22', 'MRPL23', 'MRPL24', 'MRPL27', 'MRPL28', 'MRPL3', 'MRPL32', 'MRPL39', 'MRPL4', 'MRPL40', 'MRPL41', 'MRPL43', 'MRPL45', 'MRPL46', 'MRPL47', 'MRPL48', 'MRPL49', 'MRPL50', 'MRPL51', 'MRPL55', 'MRPL9', 'MRPS10', 'MRPS11', 'MRPS14', 'MRPS16', 'MRPS17', 'MRPS18A', 'MRPS2', 'MRPS23', 'MRPS24', 'MRPS25', 'MRPS26', 'MRPS28', 'MRPS30', 'MRPS31', 'MRPS35', 'MRPS5', 'MRPS6', 'MRPS9', 'MRRF', 'MRM1', 'MTIF2', 'MTERF3', 'NDUFA9', 'NDUFS8', 'NDUFV1', 'PMPCA', 'PNPT1', 'MRPL20', 'PYCR2', 'RNMTL1', 'SSBP1', 'SLIRP', 'STOML2', 'SUCLA2', 'SUPV3L1', 'THNSL1', 'TRUB2', 'TUFM', 'C10orf2', 'VARS2', 'WBSCR16', 'PHF19', 'GEMIN8', 'CPSF3', 'PFKL', 'ABCF2', 'TUBB1', 'TAF4B', 'SIK1', 'ANKZF1', 'HOTAIR', 'NKD2', 'OLA1', 'TNIK', 'BAIAP2L1', 'MTMR4', 'ABTB1', 'DNTTIP1', 'RNF139', 'DGCR8', 'DROSHA', 'RNF122', 'ATP6AP1', 'EIF2S3', 'RPS24', 'EIF1AX', 'EIF4E3', 'RNF187', 'HIST1H1D', 'ATP5A1', 'MYLK2', 'EIF2A', 'KATNA1', 'FOXN2', 'ARRDC3', 'SPSB1', 'SPSB4', 'SPSB2', 'TLR3', 'SCNN1D', 'BST2', 'CHD7', 'HIST1H2BA', 'HJURP', 'PNRC2', 'ITGB1BP2', 'MEGF8', 'AMIGO2', 'ARHGAP22', 'LPHN1', 'RBM12B', 'YLPM1', 'PRKD2', 'DUSP23', 'PSD4', 'DYRK2', 'CAMK1D', 'TRIM52', 'CUEDC1', 'HLA-DRB1', 'SFTPC', 'YOD1', 'SPG20', 'DEPTOR', 'CORO7', 'KLHL21', 'TRIM44', 'RPL27A', 'TRIM13', 'RARRES3', 'UBXN7', 'UBXN1', 'UBXN8', 'UBXN4', 'UBXN10', 'KLHDC3', 'WDR11', 'BRWD3', 'JKAMP', 'CBX6', 'ACTA2', 'RBM28', 'PPAN', 'RPL13A', 'UBR7', 'FBXO8', 'DDX6', 'XPNPEP3', 'STAU1', 'RPL21', 'ACO1', 'LIN54', 'LIN52', 'RORB', 'NPY', 'MTCH2', 'KIF1A', 'WAPAL', 'GAPVD1', 'ALS2', 'HNRNPA3', 'ELAVL1', 'CDK17', 'RASAL2', 'BCLAF1', 'SAMD4A', 'TRA2A', 'ZBTB21', 'MIEF1', 'SH3BP5L', 'TMEM102', 'SRGAP2', 'DOCK7', 'TBC1D1', 'CCDC88A', 'LLGL2', 'PNMAL1', 'PRR5', 'PRR5L', 'SLAIN2', 'CENPC', 'ESPL1', 'DECR1', 'RRBP1', 'FBXO42', 'GORAB', 'SOD2', 'KIR2DL4', 'ATXN3L', 'MARCH6', 'TTC3', 'ALPI', 'WDHD1', 'FBXL14', 'ABCB1', 'IFIH1', 'LATS2', 'EDC4', 'NDRG2', 'ATP1B1', 'ERLIN1', 'PGK1', 'PGAM1', 'MVB12A', 'MVB12B', 'HACE1', 'SHQ1', 'MC2R', 'MRAP', 'CDH4', 'MS4A1', 'MACF1', 'CCDC136', 'PPP1R13B', 'CEP170', 'PDE4B', 'ZNF365', 'SYBU', 'CCSER1', 'CCSER2', 'DIXDC1', 'MIS18A', 'CXCL1', 'MINOS1', 'DNAJC11', 'MTX1', 'EXOC1', 'GLIS2', 'ZNHIT1', 'CKMT1B', 'CKMT1A', 'PTOV1', 'ZFP91', 'TMUB1', 'CCDC47', 'NCAPH', 'CLEC4G', 'APOH', 'RPS5', 'GNG2', 'GNAS', 'MTPAP', 'AZI2', 'ZBP1', 'PALD1', 'PLXDC2', 'RHOT1', 'YTHDC2', 'SESTD1', 'STT3A', 'IRF2BPL', 'IRF2BP2', 'CEP152', 'IRF6', 'TRMT61B', 'DHX58', 'STAU2', 'NKRF', 'SAMHD1', 'OAS3', 'FTSJ3', 'IFRD2', 'MPP1', 'ZNF346', 'GLTSCR2', 'NOC3L', 'SARM1', 'GHITM', 'NLRX1', 'MBOAT7', 'SGPL1', 'SURF4', 'ATG9A', 'CDC42BPG', 'TXLNG', 'UNC93B1', 'ABCC1', 'CLPTM1', 'CLPTM1L', 'TM9SF3', 'YIPF5', 'PNO1', 'FAM110A', 'FAM83D', 'ZBTB48', 'KIAA1191', 'BEX1', 'MIDN', 'HSF2BP', 'CCDC85A', 'ITFG1', 'REEP5', 'RDH11', 'DUSP8', 'GBP2', 'NMT2', 'UBA52', 'PLEKHJ1', 'SUV39H2', 'LPXN', 'FHL1', 'SIMC1', 'FLAD1', 'DPYSL4', 'ARMC8', 'PHAX', 'LCORL', 'AIDA', 'COMMD8', 'COMMD3', 'DGCR14', 'SURF2', 'POLE4', 'RUNDC3B', 'RPS6KA6', 'PSMB7', 'CCP110', 'KCNN4', 'ANKRD32', 'RN5S1@', 'LNX2', 'ADCY8', 'GBA', 'ACE2', 'EIF2AK1', 'THAP11', 'LIMA1', 'KIF14', 'TUBB3', 'HMGN2', 'DNLZ', 'ANAPC16', 'HESX1', 'BATF3', 'ELF2', 'ARRDC1', 'ARRDC2', 'CEP131', 'PIWIL1', 'MPG', 'UBE3D', 'CLIC2', 'KCNAB1', 'CACNB1', 'ADAP2', 'NSRP1', 'BAG5', 'CCDC8', 'FKBPL', 'PCK1', 'SHPRH', 'LRRC59', 'SLC25A3', 'IQCB1', 'TRIAP1', 'PLCD1', 'MAGEA2B', 'MAGEA3', 'MAGEA6', 'MAGEC2', 'MAGEE1', 'NSMCE1', 'MAGED4B', 'MAGEL2', 'MAGEF1', 'NSMCE4A', 'COL4A1', 'COL4A2', 'COL4A3', 'RPS15A', 'SLC23A2', 'PRRG1', 'FCHO2', 'NNAT', 'RNF146', 'RBM4', 'JMJD6', 'BRD3', 'ZNF592', 'BRD9', 'AK1', 'CHD5', 'RSRC1', 'CDCA2', 'PHRF1', 'PRPF38A', 'RBM23', 'RSRC2', 'ZNF460', 'ZNF689', 'SRSF8', 'UBN1', 'COPRS', 'RCAN3', 'DDN', 'AGR2', 'LYPD3', 'SETD6', 'SSTR3', 'CECR2', 'HAUS4', 'HAUS6', 'HAUS3', 'HAUS1', 'HAUS2', 'HAUS5', 'HAUS8', 'KDM4B', 'NDRG1', 'LDHA', 'COX14', 'NCAPH2', 'NCAPD3', 'NCAPG2', 'CSRNP1', 'CNST', 'TPRN', 'PPP1R18', 'PPP1R3E', 'PPP1R15B', 'RIF1', 'SH3RF2', 'SPRED1', 'HIST1H3C', 'HIST1H2BG', 'CENPQ', 'CENPU', 'CENPP', 'CSN2', 'ZC3H15', 'PHF10', 'SMARCD3', 'MEGF10', 'PDIA2', 'B2M', 'BIN3', 'STAC', 'URM1', 'CTU1', 'MBNL1', 'UVSSA', 'ZFHX3', 'CEP290', 'XPO7', 'MTUS2', 'FBXL7', 'H1F0', 'KDM5D', 'FBXL2', 'NLRP4', 'DTX4', 'ZBTB46', 'DESI1', 'OIP5', 'ADNP2', 'ZNF280D', 'ZNF8', 'MERTK', 'LARP6', 'MAPK4', 'MAP9', 'RHOF', 'SCAF4', 'C12orf75', 'FOXC1', 'RAVER1', 'PTBP3', 'RBM47', 'PPHLN1', 'C9orf72', 'RIOK1', 'RBM33', 'TXNRD1', 'GMDS', 'BRSK2', 'KLHL25', 'FBXL19', 'NACC1', 'ZC3H18', 'SAG', 'EIF2AK4', 'CALM3', 'AP3B2', 'NGLY1', 'SPRTN', 'HINT1', 'HIST3H2A', 'RRP9', 'USP24', 'CLEC7A', 'POMP', 'PSMB8', 'PSMB9', 'ANGPTL4', 'POLI', 'PPP3R1', 'KDM4D', 'PSMB10', 'DDIT4L', 'SUGP2', 'HNRNPH3', 'RBM12', 'PTCD1', 'ZNF326', 'PDC', 'ATP6V0D2', 'PLAA', 'TNIP3', 'FGF23', 'OSTF1', 'DOK3', 'ANLN', 'SYDE1', 'GAS2L1', 'SRGAP1', 'SERPINH1', 'ATXN2', 'RPL36A', 'NPM3', 'ID4', 'NHLH2', 'ARAP3', 'DPF3', 'DPF1', 'SGIP1', 'ZBTB7C', 'SCML1', 'PCGF3', 'AUTS2', 'FBRS', 'FBRSL1', 'PCGF5', 'ND6', 'NDUFB6', 'SYNE2', 'VPS4B', 'TRIML1', 'RXFP3', 'RLN3', 'UBE2Q1', 'ATCAY', 'FAM8A1', 'UBAC2', 'SARAF', 'RNF169', 'ANKRD27', 'DNAJB2', 'MPHOSPH8', 'FOXL2', 'RAPGEF3', 'RWDD3', 'TRIM10', 'TRIM50', 'TRIM45', 'HIST3H2BB', 'SETD3', 'GABRA1', 'CSDE1', 'CSN1S1', 'RASSF6', 'HIST1H4F', 'TNRC6C', 'GINS3', 'GINS1', 'GABRR1', 'GALNT2', 'SHISA5', 'TDRD3', 'UBAP1', 'CD38', 'MAFIP', 'HIST1H4I', 'RABEP2', 'TBC1D3', 'CCDC91', 'TAZ', 'C1orf86', 'MOB1B', 'SCD', 'MYOF', 'GPI', 'PGD', 'TKT', 'TMOD3', 'WARS', 'SERPINA1', 'PRAME', 'LAPTM4A', 'LAPTM4B', 'TBC1D25', 'ZFAND5', 'FBXO25', 'WDFY3', 'VPS26A', 'FBXO46', 'FBXL8', 'FBXL15', 'RAB40B', 'EEF2K', 'FBXO6', 'WNK4', 'SPAST', 'FBXW4', 'NLRP3', 'TBC1D9B', 'TBC1D2', 'TBC1D9', 'TBC1D10B', 'TBC1D16', 'VPS26B', 'GPKOW', 'C9orf78', 'LITAF', 'GJB2', 'MAK', 'LAMP2', 'ERLEC1', 'TBCB', 'RHOBTB2', 'LRP6', 'FBXO33', 'ZYG11B', 'ZER1', 'KCTD7', 'EPN3', 'MYBPC3', 'PCMTD2', 'KLHDC2', 'LRRC41', 'ZNRF3', 'RSPO1', 'LGR4', 'RNF182', 'MYH7', 'CKAP2', 'PDE6B', 'INA', 'FBXO27', 'LIMD1', 'PGP', 'PWP1', 'MEPE', 'DDI2', 'PSMG1', 'PSMG2', 'PSMG3', 'KIAA1598', 'PLEKHG5', 'RPL17', 'EPN2', 'CCDC50', 'ZFAND3', 'UBFD1', 'ATP1A2', 'KLHL7', 'DHCR24', 'TRIM59', 'ECSIT', 'PID1', 'LRP4', 'ECI2', 'SEC23IP', 'NOTCH4', 'HOPX', 'CCM2', 'NFIA', 'IPP', 'KBTBD2', 'KCTD9', 'KLHL17', 'KLHL5', 'ZSWIM8', 'RHOBTB3', 'KLHL36', 'KLHL11', 'BTBD10', 'KCTD2', 'KCTD20', 'KLHL28', 'KLHL4', 'LRRC42', 'KLHL26', 'KBTBD4', 'PGM3', 'KBTBD8', 'KCTD18', 'ARMC5', 'NUDCD3', 'KLHL23', 'ABCA13', 'ANKRD39', 'PHF6', 'KCTD3', 'RHOBTB1', 'FBXL17', 'GLUD1', 'EMC1', 'RPS28', 'MLLT11', 'WDR6', 'DYNC1LI1', 'SDF4', 'SRPRB', 'P4HA1', 'ZC3HAV1', 'ATP6V1A', 'BTBD7', 'NYAP1', 'KCTD21', 'METTL15', 'MTMR3', 'PTPRT', 'SCO2', 'ZBTB10', 'ZFP36L2', 'SDF2L1', 'BTBD8', 'FAR1', 'MSI2', 'NOSIP', 'RBM22', 'RTEL1', 'THADA', 'ALDH3A2', 'DIS3', 'MCCC2', 'ASPH', 'ATXN10', 'TMEM165', 'TRMT10C', 'CAD', 'CLCC1', 'PWP2', 'RCBTB1', 'SSR1', 'OPA1', 'SPATA5L1', 'TFB2M', 'FARS2', 'GCAT', 'SARS2', 'CKAP4', 'FAM120B', 'ANKFY1', 'RTCB', 'EIF3CL', 'MAGED2', 'RPL35', 'TARS2', 'BOLA2', 'PLOD1', 'EPPK1', 'GALK1', 'ILVBL', 'LANCL1', 'NT5DC2', 'RPS17', 'AGK', 'AHCY', 'SDHA', 'TARS', 'TUBA1C', 'AK2', 'NTPCR', 'DDX50', 'GART', 'MTHFD1L', 'PTPLAD1', 'RPS12', 'SLC1A5', 'ACAT1', 'CTPS1', 'TECR', 'KRT2', 'MTHFD1', 'NDUFA4', 'RPS15', 'RRP12', 'ATAD3A', 'RPS20', 'RPL19', 'RPL24', 'RPL27', 'RPS18', 'SDHB', 'SLC25A6', 'PDIA6', 'DCAF4L1', 'SFXN1', 'ACTBL2', 'KRT9', 'RBM3', 'RBMXL2', 'PCMTD1', 'RAB40C', 'SOCS4', 'SPSB3', 'TULP4', 'FEM1A', 'FEM1C', 'PRDX2', 'TPM4', 'FBXO9', 'FBXO30', 'FBXO21', 'FBXO10', 'FBXL12', 'HIST1H2BL', 'ZNF131', 'NUDT1', 'HLA-B', 'FAM98A', 'GTPBP1', 'HSPA1L', 'CIPC', 'UBE2Z', 'LSM12', 'ENO2', 'GPRASP2', 'ANAPC13', 'WNT3A', 'MUT', 'MMAA', 'TENM1', 'EFS', 'KSR1', 'CYBRD1', 'ARHGEF28', 'TEX14', 'NAF1', 'NHP2', 'NOP10', 'SEC61B', 'ANXA13', 'TRIM36', 'CLIP3', 'DMTF1', 'CLDN17', 'GIPR', 'HTR2B', 'ADRA2A', 'DGKI', 'WWC2', 'LRWD1', 'C14orf142', 'ZCCHC11', 'GZMK', 'MTRNR2L1', 'SMG5', 'MARCH8', 'TRPS1', 'PSMA8', 'CD99', 'FAM64A', 'RNPC3', 'MYL2', 'BCL2L14', 'RGS7BP', 'RGS9', 'WDR92', 'CKS2', 'TRIM34', 'HIST2H3D', 'HIST1H3D', 'HIST1H3I', 'HIST1H3J', 'HIST1H3B', 'SELPLG', 'AGXT', 'SNX33', 'F2RL1', 'NUPR1', 'CDKN2AIP', 'CNOT6', 'RGS11', 'HTR6', 'DHX16', 'RNF34', 'CHMP2B', 'MITD1', 'GNG12', 'NAIP', 'HOOK3', 'GZF1', 'RNF24', 'HERC4', 'ICK', 'TAX1BP3', 'ZBTB47', 'AKT1S1', 'ZBTB14', 'CSF2RA', 'BRAT1', 'COMMD2', 'COMMD4', 'COMMD5', 'COMMD6', 'COMMD7', 'COMMD10', 'KCTD1', 'CHPF', 'SACM1L', 'PDCD1', 'PTGER4', 'TRIM4', 'BTBD6', 'ZNF382', 'KCNIP1', 'KIAA0907', 'PRCC', 'TNAP', 'AFP', 'IGHG1', 'RFPL4A', 'CSNK2A3', 'DHRS2', 'ARID5A', 'CDK20', 'THOC2', 'THOC5', 'THOC3', 'THOC6', 'THOC7', 'KIAA1429', 'FSHR', 'SH3RF3', 'TIMP1', 'KATNB1', 'BOP1', 'ITGA1', 'SLX1A', 'KCNE4', 'TCF25', 'SEC61A1', 'NDE1', 'PES1', 'PDCL', 'TMPRSS11A', 'KCNA10', 'DPP10', 'DPP6', 'IVNS1ABP', 'MEX3A', 'MEX3C', 'WDR83', 'BDP1', 'MTDH', 'TAGLN', 'NEK1', 'INIP', 'KCNG4', 'KCNB2', 'SPAG1', 'RAB7B', 'ZNF140', 'SOCS5', 'NUDCD2', 'SNX3', 'ZNF205', 'RBFOX1', 'LENG8', 'FAM46A', 'FAM46B', 'C16orf70', 'PSAP', 'FAM127A', 'ZG16', 'ZNF488', 'GMEB2', 'LRP3', 'USP54', 'ELP5', 'ZNF277', 'NELL2', 'HNRNPLL', 'PCBP4', 'RALY', 'FKBP15', 'KIAA1244', 'ZBTB4', 'YEATS2', 'NBPF11', 'SPRED2', 'FYTTD1', 'RHO', 'RBM15B', 'KLHL14', 'LRRK1', 'SH3BP1', 'CRYGD', 'MYO1D', 'SERP1', 'ITGAM', 'AVP', 'PRRC2C', 'NAA20', 'RAB33B', 'RAB33A', 'BIN2', 'NSMCE2', 'EID3', 'TRO', 'HSPB6', 'TUBB6', 'LBH', 'TMEM67', 'CHRNA5', 'ATP6V1D', 'STK33', 'GRK5', 'LEMD3', 'CDH16', 'RAB14', 'FBXL22', 'MAEA', 'RMND5A', 'SMARCAL1', 'DNAJB14', 'SLC6A2', 'TRAPPC10', 'TRAPPC9', 'TRAPPC12', 'TRAPPC11', 'TRAPPC1', 'TRAPPC4', 'TRAPPC5', 'TRAPPC6B', 'MMACHC', 'MMADHC', 'VPS53', 'VPS52', 'VPS51', 'VPS54', 'SPRY1', 'TOMM70A', 'DNM3', 'PSTPIP2', 'PEAK1', 'ASAP3', 'AP2S1', 'BMP2K', 'AAK1', 'MOB2', 'EXOSC9', 'DIS3L', 'HBS1L', 'KRTCAP2', 'CDK5RAP2', 'TUBGCP5', 'TUBGCP2', 'TUBGCP4', 'ROR2', 'BAMBI', 'ND1', 'CYBB', 'ATP13A2', 'YIF1A', 'ERVK-6', 'DOCK4', 'ODF3L2', 'MPHOSPH6', 'UBE2F', 'SWI5', 'SFR1', 'IP6K2', 'CRYBA1', 'DNAJB9', 'HTRA1', 'PTPLB', 'TNFRSF21', 'AIG1', 'FGD3', 'SLC18A2', 'PAIP2B', 'COLGALT1', 'GNS', 'GUSB', 'H6PD', 'LAMB2', 'NAGLU', 'HYOU1', 'PRCP', 'CNTNAP1', 'GGCX', 'NUP210', 'PLD3', 'PXDN', 'SGSH', 'RAB21', 'JOSD1', 'MAGEC1', 'CTAG1B', 'PGLYRP1', 'GCH1', 'ENSA', 'BDH2', 'USB1', 'RNU6-1', 'MRPS15', 'HK1', 'CISD1', 'PLK2', 'CXCR2', 'AHCTF1', 'ERH', 'DUSP26', 'SELL', 'SSTR1', 'PACRG', 'DBNDD2', 'RHOT2', 'ATP6V1B1', 'ATP6V0D1', 'ATP6V0A1', 'ATP6V1B2', 'ATP6V1C1', 'RAB35', 'GCDH', 'KANK2', 'RNF32', 'ZFC3H1', 'SULF1', 'CHTOP', 'TMEM97', 'JAGN1', 'EBP', 'VTN', 'CLEC2B', 'CRIPAK', 'IFIT5', 'MAST1', 'ADIPOR1', 'ADIPOR2', 'DCTN3', 'RPS23', 'PFDN4', 'NDUFV2', 'SEPT11', 'EEF1E1', 'RPL37A', 'PIGU', 'ATP5D', 'EXOC6', 'NDUFA2', 'NDUFA12', 'NDUFS6', 'NDUFB9', 'NDUFB11', 'TIMM10', 'TIMM9', 'SUCLG1', 'RQCD1', 'TRMT61A', 'TRMT6', 'RPL32', 'FAU', 'STT3B', 'NDUFS7', 'RPS29', 'NDUFS4', 'NDUFB5', 'ATP5O', 'NDUFB4', 'NDUFV3', 'NDUFB8', 'NDUFB10', 'NDUFA10', 'ATP5J', 'NDUFB7', 'RPL37', 'SSR3', 'FARSB', 'CRCP', 'ETFB', 'PFKP', 'KRT14', 'DBT', 'RPL3L', 'PURB', 'EIF4H', 'CRNKL1', 'AP3S1', 'IMPDH1', 'NAA16', 'ACTR1B', 'METTL3', 'METTL14', 'ENO3', 'DYNC1LI2', 'CYC1', 'CIRH1A', 'UTP15', 'CCT6B', 'UQCRFS1', 'SEC24A', 'TALDO1', 'SEPT10', 'COX5A', 'SMU1', 'MAGT1', 'DHX8', 'ISY1', 'BUD31', 'WIBG', 'MRPL21', 'MRPL52', 'MRPS21', 'ATP6V1F', 'VPS41', 'CSTF2T', 'ECD', 'NARS', 'TMED9', 'AARS', 'FAM98B', 'MAT1A', 'TCIRG1', 'SURF1', 'TOMM7', 'NIFK', 'TSR1', 'ACTR10', 'HSD17B4', 'MCAT', 'ACSL3', 'ACSL4', 'RIOK2', 'SAMM50', 'UBAP2', 'ACAA2', 'ATP6V0A2', 'FBXL20', 'WDR18', 'ZNF207', 'EIF2D', 'NEMF', 'RPL10L', 'MRPL53', 'RRS1', 'GRHPR', 'TTC4', 'XPNPEP1', 'RNASEH2A', 'RNASEH2C', 'ALDOC', 'RNASEH2B', 'LOC255308', 'NAA25', 'PRDX5', 'SCARB2', 'FAM3C', 'SPCS2', 'PATL1', 'NDUFA7', 'HIST1H2AD', 'TSFM', 'TXNDC5', 'HP1BP3', 'C18orf8', 'MPV17', 'SLC25A46', 'BCS1L', 'NENF', 'PFAS', 'HSP90AB3P', 'KYNU', 'SMS', 'CDK13', 'CDK12', 'TNPO3', 'KRT3', 'DBN1', 'NDUFAF3', 'TMED4', 'NACA2', 'PPIF', 'OXCT1', 'C2orf49', 'IFT81', 'IFT88', 'CALU', 'TMEM14B', 'DHX36', 'SPDL1', 'UNK', 'NOP16', 'THUMPD1', 'THUMPD3', 'UNC45A', 'SLC38A2', 'MYO1E', 'MMGT1', 'HMGXB4', 'CORO1C', 'PCF11', 'WRAP53', 'FAM21A', 'DHX37', 'NAT10', 'API5', 'LSM14A', 'MRPL57', 'NUBP2', 'CHCHD4', 'DNAJB12', 'ZNF598', 'ASNS', 'FAM162A', 'BASP1', 'MAP4', 'UQCR10', 'ZFYVE19', 'SFXN3', 'PRR3', 'TMEM126A', 'BTF3L4', 'TIMM17B', 'TM9SF2', 'PPA1', 'NUDT5', 'GNL1', 'ADSS', 'RPUSD4', 'CYB5R3', 'PGM2', 'LIMCH1', 'OCIAD1', 'PIP5K1A', 'PSRC1', 'NNT', 'DHX29', 'PLEK2', 'APRT', 'UMPS', 'IFT46', 'NOP14', 'HSP90AA5P', 'RBMS2', 'EIF1', 'THOP1', 'CPOX', 'IARS2', 'HNRNPA1L2', 'RPLP0P6', 'UACA', 'SOAT1', 'EHD4', 'HNRNPCL1', 'ABCF3', 'RC3H1', 'HIST1H2AA', 'PSAT1', 'DNAJB4', 'PUM1', 'MPI', 'FOLR1', 'HSP90AB2P', 'ESD', 'SLC27A2', 'MTCH1', 'TTLL12', 'IDH3A', 'DNAJC12', 'ESYT1', 'TRMT112', 'AKR1B1', 'SORD', 'POTEKP', 'CHCHD6', 'HM13', 'HLCS', 'ACACB', 'NDUFAF1', 'CENPL', 'WDR34', 'CDK2AP2', 'RNU1-1', 'IL1B', 'SMG8', 'SMG9', 'BUD13', 'RPL36AL', 'ATP9A', 'BRI3BP', 'EPB41L5', 'GLYR1', 'SCYL2', 'UTP3', 'THEM6', 'ARHGAP9', 'SMG7', 'GPR50', 'NLRP12', 'CCNY', 'PIP4K2C', 'ZNF212', 'ZNF3', 'LGALS2', 'HLA-E', 'CHN2', 'TMEM248', 'RBMY2BP', 'ALDH9A1', 'INPP1', 'MAN2C1', 'TULP2', 'EIF5B', 'CRYZL1', 'HIBADH', 'CNRIP1', 'GGN', 'LDHC', 'ALMS1', 'GGH', 'LAP3', 'AFTPH', 'OXR1', 'UFSP2', 'CCDC176', 'CABYR', 'SCCPDH', 'ATHL1', 'SELV', 'LOC653602', 'ACR', 'ZNF462', 'CHAMP1', 'SENP7', 'AHDC1', 'SCAI', 'MAU2', 'ZNF518A', 'TSGA10', 'ORAOV1', 'C15orf59', 'C1QA', 'PHACTR4', 'RPRD2', 'ZNF318', 'CASC3', 'CCDC9', 'AQR', 'CAMK4', 'FOXD3', 'PCDH10', 'MARCH1', 'SESN2', 'USP53', 'MTERF4', 'KIAA0586', 'MARCH2', 'STOML1', 'CERCAM', 'PPAT', 'DCUN1D2', 'DCUN1D3', 'DCUN1D4', 'DCUN1D5', 'ARRDC4', 'SPIN1', 'PRPSAP2', 'CLN8', 'CDK3', 'KLHL3', 'WNK3', 'DPP3', 'FAM117B', 'RPS19BP1', 'TULP3', 'KCMF1', 'RAB3GAP2', 'UBB', 'VKORC1', 'KIAA1524', 'ACOX1', 'EHHADH', 'DECR2', 'PECR', 'CRAT', 'ACOT8', 'LONP2', 'DHRS4', 'RPGRIP1L', 'CCDC117', 'TTC9C', 'CHORDC1', 'EDRF1', 'CDC37L1', 'LTC4S', 'ALOX5AP', 'LIPE', 'ZMAT2', 'XAGE3', 'PTGDR', 'ANKRD13C', 'JAZF1', 'ABRA', 'ABLIM2', 'ZNF354A', 'ZNF2', 'FIGF', 'BRDT', 'EFEMP1', 'LOXL2', 'TCTEX1D4', 'PPP1R32', 'STARD9', 'SFRP1', 'PPM1L', 'GZMB', 'APOC3', 'FHOD3', 'XYLT1', 'RCN1', 'P3H1', 'SMTN', 'AFAP1', 'MLIP', 'PPM1F', 'SUGP1', 'FRA10AC1', 'ZNF830', 'RNF113A', 'RBM5', 'SNRNP27', 'C17orf85', 'MFAP1', 'CDC40', 'CCDC12', 'PPIL1', 'RBMX2', 'PPIL2', 'CWC22', 'FRG1', 'FAM32A', 'ARGLU1', 'DDIT4', 'ACAD11', 'HSDL2', 'ZADH2', 'PEX2', 'ATG4A', 'AMHR2', 'PSKH2', 'CDK15', 'DYRK4', 'EPHB6', 'MYLK4', 'MYO3B', 'SGK2', 'NEK11', 'STYK1', 'AURKC', 'MAPK15', 'PRKX', 'HIPK4', 'BLK', 'TSSK1B', 'NEK8', 'PDIK1L', 'RPS6KL1', 'CDK18', 'GRK7', 'MAP3K9', 'CAMKV', 'PIM2', 'STK32C', 'MON1B', 'SURF6', 'LTV1', 'NAMPT', 'IFITM3', 'PREX1', 'PTPN22', 'IFIT1B', 'PCSK9', 'CNOT6L', 'TBC1D4', 'MAST3', 'PDZD11', 'REEP1', 'MIER2', 'RCOR2', 'MIER3', 'ELMO2', 'SNX18', 'PIK3AP1', 'GAREML', 'WIPF3', 'ARHGAP12', 'HIC2', 'MTNR1B', 'TMEM33', 'CCDC92', 'DEAF1', 'SPICE1', 'HID1', 'FAM193B', 'CAMKK1', 'PDE3A', 'PLEKHA7', 'TFEB', 'SPEG', 'TXK', 'TNS3', 'TNS4', 'SYNPO2', 'FNBP4', 'CCNB2', 'LDB2', 'PPP1R37', 'PPP1R3B', 'KIF18A', 'CSRNP2', 'PLCL2', 'ZNF512B', 'TMED1', 'GAGE12I', 'TFAP2B', 'CEP85', 'NEDD1', 'SCARA3', 'GRM5', 'METTL18', 'EEF2KMT', 'METTL20', 'METTL21A', 'METTL21B', 'VCPKMT', 'METTL22', 'PPFIBP2', 'MALAT1', 'PTGDS', 'ZWILCH', 'ZNF136', 'PBXIP1', 'CCDC148', 'APLN', 'ARMCX3', 'ICE2', 'NRIP3', 'KRI1', 'HMGN5', 'TM2D1', 'MFF', 'IGFBP2', 'NOXA1', 'NOX1', 'PTGES', 'EPHX2', 'LYRM7', 'URB2', 'ZSWIM7', 'SWSAP1', 'CYP4F2', 'PDR', 'CYP4A11', 'NOL9', 'ACSL1', 'CYB5R1', 'MARC1', 'BHLHE40', 'NARFL', 'DNA2', 'CDKAL1', 'TYW1', 'POLD4', 'HES5', 'ALDOB', 'BBS2', 'BBS7', 'SPAG8', 'ECHS1', 'CAPRIN2', 'CDX1', 'NDOR1', 'SLC12A2', 'CD93', 'SCYL1', 'MT3', 'CD274', 'CEACAM6', 'GCLC', 'GCLM', 'BTG3', 'CHD9', 'NOB1', 'AHI1', 'CCDC22', 'COMMD9', 'SLC12A3', 'AREL1', 'MLC1', 'KCNJ10', 'CINP', 'OST4', 'ATP8A1', 'TMEM30A', 'ATP11A', 'ATP11C', 'COL1A2', 'TICRR', 'RGCC', 'GABPB2', 'ARMC6', 'SDPR', 'UQCRH', 'C8orf74', 'CCDC151', 'FAM9A', 'GSTCD', 'GTPBP2', 'KLHDC4', 'OFCC1', 'SAMD3', 'STX19', 'CDYL2', 'THEMIS', 'DNALI1', 'KIF9', 'OAS1', 'STARD10', 'TMED5', 'SMYD1', 'MYH7B', 'RBM4B', 'ATE1', 'GPATCH2L', 'FGD5', 'ZKSCAN5', 'ZNF436', 'ZNF649', 'ZNF670', 'MNDA', 'NOM1', 'ZNF384', 'ARID3B', 'ZFHX4', 'ZNF536', 'ZNF609', 'PYCRL', 'CCDC57', 'ANKRD54', 'LNP1', 'ACE', 'PTAFR', 'SOST', 'FZD8', 'ITIH2', 'C1QB', 'ADIPOQ', 'NPR1', 'FAM169A', 'TMEM201', 'ZNF280C', 'CXorf56', 'TMEM230', 'PDAP1', 'WDR70', 'CISD2', 'MASTL', 'PGRMC2', 'ARID5B', 'GATAD1', 'BBX', 'FAM60A', 'ZMYND8', 'PWWP2A', 'TNRC18', 'C16orf87', 'ZNF521', 'ZNF687', 'ZNF827', 'PAXBP1', 'GCFC2', 'CAMK1', 'TRIB2', 'TRIM49', 'TMEM259', 'AAMDC', 'CRIP2', 'GSTM3', 'GSTM4', 'GSTO1', 'NANP', 'PPA2', 'PYCR1', 'S100A14', 'TSTA3', 'UROD', 'WDR1', 'ZMPSTE24', 'ALDH3B1', 'TMEM174', 'BATF2', 'DBP', 'AGT', 'ACSF3', 'ATP13A1', 'ATP6V0B', 'C18orf32', 'CYSTM1', 'CEND1', 'ELOVL1', 'ERP29', 'FDFT1', 'HPN', 'MFSD5', 'NUCKS1', 'PAQR6', 'P4HTM', 'PIGG', 'SLC15A4', 'SLC31A2', 'SVOP', 'SYNGR3', 'TSPAN13', 'NDP', 'FZD4', 'DKK1', 'COL3A1', 'COL5A1', 'COL6A1', 'CENPW', 'PLIN1', 'ABHD5', 'ATP4A', 'SYPL1', 'ASB10', 'TRIM72', 'ACSL6', 'PCTP', 'ACOT13', 'RNF135', 'ABCC4', 'PNPLA2', 'IGKC', 'XPO4', 'SAAL1', 'MON2', 'DNAAF5', 'NCDN', 'HEATR3', 'ACOT9', 'SERPINF1', 'ELOVL5', 'PLA2G16', 'ADRA1D', 'RN7SL1', 'TCF21', 'ALDH7A1', 'SULT2A1', 'BCKDK', 'CORO1A', 'OGDHL', 'PCK2', 'CRELD2', 'HEMGN', 'NIPSNAP3A', 'MORC4', 'SOX13', 'NME1-NME2', 'TXN2', 'PLA2G12A', 'FAM110C', 'DAO', 'SEC62', 'GPX4', 'GSS', 'GYS2', 'HRG', 'RASSF7', 'KIAA1522', 'NME6', 'PROSER2', 'ACAT2', 'PTGIR', 'BHLHB9', 'FCGR3A', 'HPGDS', 'CBR1', 'PTGER3', 'NUSAP1', 'ARHGAP33', 'ERCC6L2', 'ZCCHC7', 'ZMYM5', 'C18orf25', 'RSPO2', 'RSPO3', 'RSPO4', 'RAB12', 'PTGS1', 'EGFL7', 'STYX', 'FBXL13', 'TIPARP', 'ZNF330', 'COX6C', 'PLA2G2A', 'LTB4R', 'LRRC1', 'GLCCI1', 'FAM117A', 'ATAD3B', 'SIPA1L2', 'LZTS3', 'C1orf35', 'DIDO1', 'SRPK3', 'PHF3', 'PPP1R3F', 'FAM222B', 'FAM222A', 'FRAT1', 'FASTKD5', 'CABLES1', 'KIAA0195', 'DCLK3', 'RBM34', 'CCDC137', 'LLPH', 'PDCD11', 'RRP15', 'CCDC86', 'CDKL1', 'DUSP9', 'GPATCH8', 'NSG1', 'KRR1', 'FAM192A', 'ZRSR2', 'ARL6IP4', 'SRSF12', 'EDN1', 'AAMP', 'CYP2D6', 'NUCB1', 'GHRL', 'LTB4R2', 'GDF2', 'KCNMA1', 'ANPEP', 'ACP2', 'AGA', 'EMC7', 'POMGNT2', 'KDELC2', 'POGLUT1', 'MAN2B1', 'MAN2B2', 'PCYOX1L', 'POFUT1', 'RNASET2', 'SEC11A', 'UGT8', 'IGSF3', 'NOMO3', 'RASSF3', 'ANKRD26', 'CNTROB', 'DOCK6', 'LRCH1', 'LRCH2', 'LRCH3', 'KIAA1549', 'CPVL', 'KIAA1462', 'STXBP4', 'KIAA1671', 'CCDC85C', 'AMPD2', 'DENND1A', 'DENND4C', 'DOCK11', 'DMTN', 'FAM83B', 'INPP5F', 'CEP170B', 'KIAA0355', 'LUZP1', 'MTMR12', 'NAV1', 'PLEKHA5', 'PPM1H', 'R3HDM1', 'R3HDM2', 'REEP4', 'TANC2', 'TTC28', 'UHRF1BP1L', 'COX1', 'PTGIS', 'SPTSSA', 'LIPG', 'PLA2G6', 'UBTD1', 'C10orf90', 'LOX', 'MEF2B', 'FBXL21', 'GPD2', 'CHGB', 'PCCA', 'PCCB', 'DDX47', 'PABPC3', 'SLC25A24', 'GGT1', 'FAM204A', 'KIFC3', 'KRT33B', 'L3MBTL3', 'RPRD1A', 'PRRC1', 'GOT1', 'DCPS', 'FH', 'ATIC', 'BRK1', 'MYH14', 'CNDP2', 'CORO1B', 'ALDH16A1', 'DERA', 'GFPT1', 'GMPR2', 'GNPDA1', 'GNPDA2', 'PAPSS2', 'IDH1', 'LRRC47', 'MYL12A', 'NANS', 'EFTUD1', 'NUBP1', 'OXSR1', 'PLS3', 'RAB3GAP1', 'PUS1', 'RPRD1B', 'RPL26L1', 'DUS3L', 'SHMT1', 'SWAP70', 'HGH1', 'TUBB8', 'DPP8', 'SCPEP1', 'UQCC1', 'UQCC2', 'NAA50', 'EXO5', 'GNG8', 'TRIM62', 'MIRLET7B', 'MIRLET7I', 'TRIM38', 'TNFAIP8L1', 'IL7R', 'LAMP1', 'CSNK1G1', 'FAIM', 'TIAL1', 'YTHDF3', 'SLFN11', 'RAB13', 'EMG1', 'RBM27', 'RBM26', 'LMAN2', 'TAGLN2', 'KRT75', 'ZFAND2B', 'LIN28B', 'TRIM71', 'RCC2', 'SQLE', 'CACNA1B', 'ASB16', 'ASB11', 'USP29', 'FBXO15', 'CRLS1', 'USP17L2', 'PGAM2', 'HEY1', 'PACS2', 'NMRAL1', 'TAOK1', 'PHKG2', 'PHKA2', 'PHKA1', 'GPR161', 'PALM2-AKAP2', 'EFCAB14', 'PIP4K2A', 'HAGHL', 'C11orf57', 'GPATCH2', 'CCNJ', 'ADRBK2', 'FAM83G', 'ZNF618', 'FAM83H', 'EPM2AIP1', 'DBR1', 'SNX24', 'FAM199X', 'VPS13B', 'FAM110B', 'STOX2', 'FRAT2', 'LPCAT1', 'C7orf50', 'CCDC124', 'SDAD1', 'PASK', 'CBWD2', 'CPS1', 'IQSEC1', 'KLHL29', 'MSI1', 'TRMT1', 'PNRC1', 'GGT7', 'FAM195A', 'FAM195B', 'LSM14B', 'LIN28A', 'DHX57', 'LARP4', 'ZBTB11', 'ELAVL2', 'EMILIN3', 'TRMT2A', 'CDKN2AIPNL', 'LSG1', 'TRIM65', 'NUAK2', 'DCSTAMP', 'PLA2G2D', 'SLC52A2', 'GPR56', 'STAT4', 'GPRC5B', 'ADCY3', 'CD68', 'GNAT2', 'PFKFB3', 'CD70', 'LAMTOR4', 'SLC22A18', 'PARP14', 'RBM38', 'OSBP2', 'OSBPL2', 'OSBPL10', 'PTPRO', 'VIL1', 'ALPL', 'HIST1H2AG', 'XIRP2', 'XIRP1', 'ENTPD1', 'NACC2', 'AREG', 'KCTD15', 'AARSD1', 'NADSYN1', 'DNAAF2', 'STXBP2', 'PHLDB1', 'TMOD4', 'DNAJA4', 'CXorf57', 'RPS10-NUDT3', 'ANKMY2', 'FKBP6', 'ANKRD49', 'TARBP1', 'MYO15A', 'HSF5', 'HSFX1', 'HSFX2', 'HSFY1', 'HSFY2', 'AIF1', 'GABRB1', 'AMT', 'FLYWCH2', 'LCE3A', 'DNAH17', 'P4HA2', 'PDCD2L', 'LRRC6', 'MCM8', 'MCM9', 'MAEL', 'DHX40', 'FUOM', 'DNHD1', 'VWA8', 'SLC34A2', 'PHOSPHO2-KLHL23', 'FAM136A', 'ROM1', 'GPALPP1', 'ATP2B1', 'UNC45B', 'FAM120A', 'CDIPT', 'OTUD3', 'OTUD7A', 'NR2E3', 'HNF4G', 'CRB3', 'ODF2', 'TMEM59', 'WDR43', 'MAK16', 'ELP6', 'FAM168A', 'C16orf72', 'FAM9B', 'CA6', 'NOL4L', 'CEP68', 'DPYD', 'FSD2', 'HTR1B', 'IQCE', 'TTC23L', 'APBB1IP', 'FAM131C', 'GKAP1', 'LAX1', 'MKRN2', 'N6AMT2', 'P4HA3', 'NPAS3', 'MGAT5B', 'PRR20A', 'LDLRAD1', 'EDA', 'BEND5', 'CCDC36', 'CDX4', 'CREB3L1', 'RIMBP3', 'QPRT', 'C16orf45', 'NAPB', 'VAMP5', 'TBX6', 'NMNAT1', 'NCR3', 'PHKB', 'CCNO', 'CEP57', 'ABR', 'MZT1', 'FAM104A', 'MZT2A', 'MZT2B', 'FAM90A1', 'PRICKLE3', 'TUBGCP6', 'FMOD', 'TRIM68', 'EML1', 'ATMIN', 'TRIB1', 'KLHL40', 'LMOD3', 'ZRANB3', 'PRDM6', 'SPRR2A', 'EHF', 'CSH1', 'GFM1', 'COQ4', 'COQ5', 'C9orf16', 'RUSC2', 'CYSLTR1', 'CYSLTR2', 'GPX7', 'PPAP2B', 'FBXO43', 'TRIM58', 'LYZ', 'TPP1', 'CTC1', 'OBFC1', 'WIPI2', 'IL32', 'VMP1', 'SLC30A5', 'SLC30A6', 'RER1', 'UGGT1', 'ZNF704', 'LPIN2', 'ACBD5', 'EML5', 'CACHD1', 'LPIN1', 'FDX1', 'FDX1L', 'ASCC1', 'AEN', 'PDLIM3', 'ACY1', 'KRT31', 'SOX5', 'C1orf50', 'ANKRD40', 'ALAS1', 'CATSPER1', 'BFSP2', 'GOLGA8F', 'ATPAF2', 'NUDT12', 'IQGAP3', 'AP5B1', 'CCBL1', 'GRAMD1C', 'C4orf46', 'SGSM1', 'POC5', 'CHRNG', 'KRTAP10-7', 'KRTAP10-9', 'KRTAP10-8', 'KRTAP10-3', 'AAGAB', 'RSRP1', 'COL8A1', 'COX8A', 'DPYSL3', 'GCM2', 'ZNF750', 'ZBTB5', 'SEPT12', 'DPYSL5', 'ERP27', 'FBP2', 'QRICH1', 'GAGE1', 'LHFPL5', 'CCDC88C', 'KRT38', 'SCNM1', 'ALKBH3', 'GSTA2', 'GSTA4', 'GSTM5', 'GTF2H2C_2', 'ZNF385C', 'C6orf226', 'LCE1B', 'KRTAP4-11', 'PARVG', 'IMPA2', 'KIF2A', 'SPOPL', 'KRTAP5-9', 'KRT13', 'KRT4', 'KRT40', 'KRT71', 'KRT6C', 'KRT79', 'LENG1', 'KRT83', 'DUSP13', 'PBX3', 'TIGD5', 'MAGEA8', 'BEX5', 'MAGEA9', 'MAGEB4', 'SMCP', 'KRTAP10-5', 'MPP2', 'PNP', 'NPM2', 'SYNE4', 'ODC1', 'OAZ3', 'KRTAP4-2', 'TMEM218', 'ZNF366', 'PYGB', 'PLEKHB1', 'RBMY1A1', 'ESRP1', 'FAM111B', 'SNX32', 'SNAP47', 'SULT1A1', 'SULT2B1', 'TARSL2', 'CABP5', 'FERD3L', 'NEUROG3', 'DNAJC27', 'SYCE1', 'GDPD5', 'ZSCAN21', 'PGBD1', 'ZNF483', 'ZNF396', 'ZKSCAN1', 'RTN4IP1', 'FAM134C', 'HIST1H4L', 'RAD54L', 'TET2', 'MORN4', 'FAM161A', 'SSNA1', 'CCDC146', 'LHX6', 'LHX8', 'EFHC2', 'CCDC114', 'RPP25L', 'RMDN2', 'PLEKHH2', 'FAM189A2', 'ZNF264', 'SPA17', 'MIA3', 'ATP6V1E2', 'FAM133A', 'SECISBP2L', 'NUPL1', 'ZBTB24', 'ZNF398', 'RELL2', 'SLC23A1', 'CTDSP2', 'PRR16', 'ARMC7', 'CCDC102B', 'ISCA2', 'HDDC3', 'RUFY4', 'MOXD1', 'TMEM25', 'KRTAP5-6', 'NDRG4', 'SYT16', 'CRTAC1', 'LGALS9B', 'ZXDC', 'RABL2A', 'ANXA10', 'C4orf19', 'DDX19B', 'FAM127C', 'SEPT3', 'TEKT4', 'SETD5', 'C19orf66', 'DDAH2', 'ZNF627', 'RRP7A', 'PBX4', 'FAM92A1', 'NDUFAF4', 'NGDN', 'ZMAT1', 'PNMA5', 'CCDC153', 'STAP1', 'RSPH14', 'MIPOL1', 'APOBEC3C', 'C11orf54', 'C1orf189', 'TMEM31', 'DEF6', 'HOMEZ', 'AMDHD2', 'ZC2HC1A', 'GATSL3', 'ABI3', 'ZKSCAN4', 'CRLF3', 'C1orf109', 'CUTA', 'YIPF1', 'YIPF6', 'NUP35', 'BCAS3', 'ZSCAN22', 'MOCOS', 'KRTAP9-2', 'CCDC24', 'CSGALNACT2', 'SPRYD7', 'FNDC3B', 'ZNF34', 'PHYKPL', 'C4orf33', 'CDRT4', 'CCDC103', 'SPATA24', 'CSPP1', 'ZBTB49', 'NYAP2', 'C14orf93', 'FAM167A', 'GPBP1', 'CCNJL', 'HMBOX1', 'AP1S3', 'KATNBL1', 'DZIP1L', 'RPF1', 'NRBP2', 'SETDB2', 'ARL14EP', 'KRTAP3-2', 'TMEM79', 'KRTAP10-1', 'RAB2B', 'FAM114A1', 'FATE1', 'SYNPR', 'ZNF439', 'PRKCDBP', 'ZNF440', 'ZNF786', 'C1orf174', 'C6orf165', 'ZNF497', 'ZNF433', 'LCE4A', 'BEND7', 'ZDHHC22', 'LCE2A', 'LCE2D', 'KRTAP12-2', 'KRTAP10-11', 'POC1B', 'KDM4C', 'HINT2', 'TMOD2', 'MTX2', 'ZC3H3', 'RBM6', 'KIAA0020', 'BMS1', 'ZNF106', 'ESF1', 'TSPAN5', 'ADAM10', 'TSPAN15', 'TBX3', 'PTF1A', 'POU2F3', 'NOTCH3', 'BCL9L', 'RHNO1', 'IP6K1', 'DNAI2', 'MTM1', 'ABLIM3', 'NOL11', 'HAND1', 'CNP', 'GPM6A', 'RAB39B', 'DNAH11', 'KLK8', 'ARFGAP3', 'FAM135B', 'GOLPH3L', 'SLC25A31', 'USP32', 'SLC9A9', 'NEIL2', 'BRSK1', 'GJA4', 'DOK4', 'WLS', 'DNAJB8', 'C17orf49', 'CXCR5', 'ACAP1', 'ABCF1', 'RPF2', 'CXADR', 'STIL', 'TP53INP2', 'FAM208A', 'SLTM', 'COX2', 'PON2', 'RAB18', 'NANOS2', 'NANOS3', 'EMC3', 'EMC10', 'EMC6', 'ESYT2', 'TXNDC16', 'SELK', 'EMC4', 'SHC4', 'WASF3', 'ANKRD13B', 'ANKRD13D', 'ARL13B', 'SOBP', 'MDN1', 'SMCHD1', 'CSNK1A1L', 'GSAP', 'ZMYM1', 'ARHGEF26', 'CCNI', 'IFI30', 'TWF1', 'CCNYL1', 'RPS6KC1', 'DENND6A', 'STK40', 'DNAJC15', 'TIMM23', 'UNC5B', 'PPT1', 'DBH', 'VGF', 'LUZP4', 'TMEM129', 'PPP1R1A', 'CLCN1', 'EGFLAM', 'RBM19', 'GGNBP2', 'SIGLEC9', 'CCDC93', 'C16orf62', 'RORC', 'NTMT1', 'MAGEA10', 'QSER1', 'FOXJ2', 'FAM216A', 'POC1A', 'PPM1K', 'BCKDHB', 'BCKDHA', 'FAM189B', 'ACKR3', 'VSX1', 'ZNF444', 'GRPEL2', 'DAAM1', 'NSA2', 'TMED7', 'ULK3', 'ANGEL1', 'GSTA5', 'C11orf74', 'IFT122', 'C3orf17', 'PRELID1', 'IDI2', 'MED12L', 'MIS18BP1', 'PRRG4', 'DRICH1', 'ROPN1L', 'CCDC43', 'HLA-DPB1', 'DIRAS3', 'SLC12A6', 'PGAM4', 'BPGM', 'STX10', 'TMEM51', 'TSPAN3', 'RNF149', 'ZNF511', 'TMCO6', 'C4BPB', 'MCUR1', 'CLDND1', 'CLIC4', 'CLIC5', 'C1orf111', 'CTIF', 'NLE1', 'SPIN2B', 'ADCY9', 'BNIP1', 'ZSCAN16', 'ZSCAN29', 'CACTIN', 'MORC2', 'EPHB4', 'MBD6', 'MBD5', 'HCCS', 'PHF23', 'IFT140', 'WDR35', 'WDR19', 'IFT43', 'RASL12', 'PDZD8', 'TSSC4', 'GPATCH1', 'DHX35', 'ZNF219', 'CTDSPL', 'GLUD2', 'KIF18B', 'NDUFA3', 'NDUFB3', 'PSMG4', 'C21orf33', 'RPS4Y1', 'RPS4Y2', 'SGCZ', 'SGCB', 'WDR37', 'ARMC1', 'ATP1B3', 'RBM11', 'NOL6', 'RSPH9', 'CROCC', 'WBSCR22', 'POLR2M', 'ASCC3', 'AP5M1', 'ROGDI', 'DMXL1', 'EYA4', 'TRNAU1AP', 'PRPF39', 'SOGA1', 'CEP128', 'ZMAT3', 'TIMMDC1', 'CEP120', 'FOXR1', 'RPL7L1', 'SPTY2D1', 'KNOP1', 'RRP8', 'NVL', 'URB1', 'GPATCH4', 'SENP5', 'FAM160A1', 'KNSTRN', 'FAM114A2', 'LZTFL1', 'TTC8', 'BBS9', 'BBS5', 'TDP1', 'WRB', 'ANKHD1', 'SLC38A9', 'TEX264', 'TMEM231', 'TCTN2', 'B9D1', 'B9D2', 'MKS1', 'UPRT', 'UCKL1', 'WBP2NL', 'MYO18A', 'MYADM', 'TWISTNB', 'CCDC84', 'CCDC94', 'RAB8B', 'LYRM5', 'LRRC16A', 'KIAA1211', 'DCTN6', 'RANBP6', 'FAM160B1', 'ZC3H8', 'CNOT11', 'CXorf21', 'FOXR2', 'GPN2', 'RPUSD3', 'PRPS1L1', 'SOX14', 'SOX21', 'CACNB3', 'AKR1C2', 'AKR1C4', 'AKR1C3', 'AKR1C1', 'SRFBP1', 'DUSP11', 'SLC29A1', 'EP400NL', 'PPP1R9A', 'C20orf27', 'MIOS', 'WDR59', 'SLC25A18', 'FAM207A', 'DDX18', 'ANKRD55', 'IFT74', 'PTAR1', 'RABGGTA', 'C7orf43', 'CCDC132', 'TSSC1', 'CDC123', 'C8orf82', 'ANGEL2', 'NBAS', 'BOD1', 'BOD1L1', 'DGCR2', 'DCLK1', 'GPANK1', 'TTC19', 'ASCC2', 'OSBPL1A', 'CGGBP1', 'SPATA20', 'PRR11', 'GFPT2', 'TMOD1', 'MYO5C', 'TXNDC15', 'DHTKD1', 'MRPS36', 'IDH3G', 'PPP1R21', 'NT5E', 'KIFC1', 'RNGTT', 'TEN1', 'ZNF268', 'OGFOD3', 'ITPRIP', 'C17orf59', 'NDUFAF5', 'RARS2', 'AARS2', 'POMK', 'XYLT2', 'POMGNT1', 'PKDCC', 'KDSR', 'LETMD1', 'ZDHHC6', 'CYB5D2', 'VMA21', 'CCDC115', 'ATXN7L1', 'NKTR', 'SDF2', 'PPP2R3C', 'ABHD10', 'NHSL2', 'PALM2', 'ANK3', 'HSP90AA4P', 'RBPMS2', 'ATP6V1C2', 'LHX1', 'GHDC', 'CALR3', 'RTN2', 'ATL3', 'PRAF2', 'SERPINB4', 'BCL7B', 'B3GNT2', 'FAM3A', 'LHX9', 'MRPS33', 'TMEM43', 'CCDC138', 'DDI1', 'UQCRQ', 'TTC30B', 'TTC30A', 'IFT80', 'IFT22', 'C12orf66', 'SZT2', 'KCNA6', 'DOLK', 'OAZ1', 'TMEM131', 'ZUFSP', 'C4orf3', 'DEGS1', 'PDCL3', 'GATSL2', 'GOLPH3', 'FAM20B', 'DCAF4L2', 'CLUH', 'ERGIC2', 'SFXN5', 'PIPSL', 'GID4', 'ZMYND19', 'YPEL5', 'C9orf41', 'SPZ1', 'ANKRD50', 'C15orf39', 'MICU2', 'MICU1', 'PLEKHO2', 'TEKT2', 'C16orf58', 'HS2ST1', 'ZNF829', 'C3orf58', 'FGD6', 'DOCK3', 'DOCK5', 'ETV7', 'SPAG5', 'ODF2L', 'PIBF1', 'MRPS18C', 'PPP3CC', 'WNT9B', 'ARHGAP25', 'ARHGAP8', 'CTAGE5', 'OSGIN1', 'ZRSR1', 'ANKRD9', 'SUCO', 'TSNARE1', 'VPS13A', 'VPS13C', 'ACN9', 'NDUFAB1', 'EID2B', 'HIST1H2BJ', 'IMMP1L', 'LYRM4', 'NFS1', 'LYRM2', 'SCAF1', 'VMAC', 'CDNF', 'MANF', 'DSCR3', 'FAM45A', 'KIF26B', 'NAP1L5', 'RBM24', 'TUSC5', 'NPHP3', 'TTC39B', 'STARD3', 'ACBD4', 'FAM73B', 'CEP89', 'SCAPER', 'AUNIP', 'LDLRAD4', 'C3orf62', 'DNAI1', 'EPPIN', 'LTF', 'KCND3', 'DYX1C1', 'PRKG2', 'WTIP', 'TMEM109', 'ISCU', 'HSCB', 'HSPA12A', 'FRMD5', 'KIAA1467', 'NRCAM', 'SLC20A1', 'PPP1R3A', 'RASSF10', 'KANSL2', 'UBE2Q2', 'USP30', 'ECE1', 'ADCYAP1R1', 'WWC3', 'PRRG2', 'PDP2', 'RAB41', 'TET1', 'TINCR', 'KIDINS220', 'FAM171A1', 'PLXNA4', 'NOL10', 'ABAT', 'ABT1', 'AKR1A1', 'ALDH4A1', 'APOA1BP', 'ARFGAP2', 'PROSC', 'ARL8B', 'C6orf211', 'ARPC4-TTLL3', 'PTGR1', 'ATP1A3', 'ATP5L', 'ATP5E', 'ATP5I', 'GLRX5', 'BOLA3', 'APMAP', 'ACAA1', 'CCDC97', 'DDX3Y', 'RAP2C', 'CHCHD2', 'TMEM189-UBE2V1', 'CLGN', 'CLTB', 'COQ6', 'COQ3', 'ADCK3', 'COX6B1', 'CRTAP', 'CTNNA2', 'CYB5B', 'DDX55', 'DPH2', 'DPH1', 'SBDS', 'EXOC6B', 'FAHD1', 'PUS10', 'FAM206A', 'HADH', 'OAT', 'GTF2H2C', 'HN1', 'HSPA14', 'IFT52', 'ISYNA1', 'WDR46', 'KRT16', 'KRT82', 'LDHAL6A', 'MCCC1', 'MOGS', 'CYTB', 'NDUFA6', 'UTP20', 'NUDT9', 'NUP188', 'PC', 'PITPNB', 'PLS1', 'ZNRD1', 'MND1', 'PSMC3IP', 'TM9SF4', 'SMC1B', 'RNPEP', 'SDHC', 'SAR1A', 'SEC63', 'PUS7', 'TMX1', 'TAGLN3', 'HRSP12', 'NIT2', 'TPP2', 'SKIV2L', 'UROS', 'FTSJ1', 'ZC3H13', 'ZFPL1', 'YME1L1', 'LRRC49', 'CREB3L3', 'REXO1', 'RSAD2', 'FAP', 'ADA', 'DPP4', 'THY1', 'DNAJC30', 'RIC8B', 'SPATS2L', 'UTP6', 'ZNF512', 'DDX51', 'RCL1', 'WDR75', 'SPATS2', 'ZCCHC3', 'DDX10', 'RRP1', 'RFX7', 'VSTM2L', 'DAPP1', 'PLEKHS1', 'TMEM128', 'TSPAN2', 'OLIG1', 'RBP7', 'WBSCR27', 'ZNF767P', 'C9orf43', 'DCAF12L1', 'CRYBA2', 'FRS3', 'CT45A5', 'CARD16', 'MAGEE2', 'SLC34A1', 'IL24', 'NAT2', 'FAM84B', 'CASZ1', 'ST14', 'RHPN1', 'TMEM214', 'NDC1', 'KIAA0753', 'MAP7D3', 'GTSE1', 'MAP7D2', 'HIST2H2AA4', 'PHF2', 'DLGAP5', 'ZNF362', 'CMAS', 'CMTR1', 'GON4L', 'DDX49', 'CCDC71L', 'NFATC2IP', 'RLF', 'SRBD1', 'DNAJC17', 'CCDC25', 'SPAG7', 'H2AFY2', 'UBN2', 'MORC3', 'HMGB3', 'CEP162', 'CFAP97', 'PRPF38B', 'CC2D2A', 'LCA5', 'TBC1D31', 'CCDC77', 'TPGS1', 'NEK4', 'SCLT1', 'KIZ', 'ANK2', 'FOPNL', 'SDCCAG8', 'CCDC18', 'CAMSAP1', 'CC2D1A', 'CCDC66', 'NCKAP5L', 'C11orf49', 'C2CD3', 'CAMSAP2', 'CEP57L1', 'CKAP2L', 'LRRCC1', 'TANC1', 'TTLL4', 'TTLL5', 'R3HCC1L', 'ALG9', 'LMF2', 'NUS1', 'TCTN3', 'CEP104', 'CEP295', 'GEN1', 'PLEKHG1', 'RTTN', 'TMEM209', 'C3orf14', 'CNTRL', 'CAMSAP3', 'MICAL3', 'TMEM237', 'MAP7D1', 'CEP41', 'DCDC2', 'DCLK2', 'GAS2L3', 'TCTEX1D2', 'WDR60', 'ANKS6', 'MTR', 'TCTN1', 'TMEM17', 'ALG3', 'GYPA', 'SLC35C2', 'SLC30A2', 'SYNGR1', 'SCLY', 'LRRC8E', 'TMEM70', 'NDUFA11', 'SCO1', 'NDUFS5', 'FOXRED1', 'COX7A2L', 'MCU', 'APOO', 'HRNR', 'ADD3', 'SLC33A1', 'NEFM', 'CHST15', 'CBR3', 'GOLT1B', 'CD97', 'TMEM63B', 'CTSC', 'CLCN7', 'CPM', 'HEXB', 'MYH11', 'NHS', 'PCYT1A', 'POLG2', 'POLG', 'PRSS1', 'SDHAF2', 'ZSCAN5A', 'ZNFX1', 'RNMT', 'ENTHD2', 'KIAA1107', 'MRPL33', 'APOBEC3B', 'KIAA0430', 'KIAA0100', 'ARHGAP11A', 'ARHGEF17', 'FAM13A', 'KRBOX4', 'FARP1', 'GBA2', 'RAB31', 'KIF3C', 'FNDC3A', 'N4BP3', 'KANK1', 'CLEC16A', 'VPS8', 'ZNF629', 'SPECC1L', 'PRKD3', 'ATL2', 'PLEKHG3', 'SZRD1', 'GOLIM4', 'MRPL30', 'MRPL35', 'HEATR5B', 'FAM120C', 'TBCCD1', 'ZNF331', 'AP1AR', 'KIF21A', 'RUFY2', 'FAM178A', 'FIGNL1', 'C1orf112', 'C12orf4', 'SLC39A10', 'NHSL1', 'BAHCC1', 'INF2', 'PAPOLG', 'C12orf43', 'MRPL34', 'SOWAHC', 'KIF24', 'ZC3H14', 'SLC35E1', 'ANP32E', 'ISCA1', 'RAB34', 'CEP78', 'POLR3GL', 'SPIRE2', 'MUM1', 'MYO19', 'SAMD1', 'YIF1B', 'CHURC1', 'NEXN', 'SPECC1', 'SCAMP4', 'MB21D1', 'EVI5L', 'COMTD1', 'MISP', 'C19orf47', 'CMBL', 'FBXL16', 'SGOL2', 'SGK223', 'ZFP1', 'PWWP2B', 'CC2D1B', 'TRIML2', 'TCP11L2', 'RNF214', 'C9orf142', 'RBMXL1', 'POM121C', 'C17orf96', 'DEPDC5', 'CREB3L4', 'FGF8', 'FGF5', 'EFHC1', 'LGR5', 'ERF', 'RNF217', 'NFIL3', 'FOSB', 'NKX6-1', 'RITA1', 'TCF24', 'FBXW12', 'RNF207', 'FOXD4', 'FOXD4L1', 'FOXF1', 'FOXJ1', 'TBC1D32', 'CFAP20', 'RFX2', 'KANSL3', 'CNEP1R1', 'FBXO24', 'DACT1', 'GJA5', 'GJC1', 'FZD5', 'FOXL1', 'TFR2', 'SIRT5', 'NMT1', 'SNX8', 'ESRRB', 'MACROD1', 'SP7', 'ALDH3A1', 'FOXQ1', 'ASXL3', 'HIST1H2AM', 'HIST1H2BE', 'HIST1H2BI', 'HIST1H4K', 'HIST1H4C', 'CHD6', 'PRR12', 'HTN3', 'PAQR3', 'ZC3H12D', 'FBXO36', 'EPDR1', 'KMT2E', 'USP35', 'IRGM', 'CERKL', 'PPP1R26', 'RHOU', 'RHOV', 'RNF170', 'CCPG1', 'FNIP2', 'SLC22A11', 'WDR45B', 'RAB3B', 'TBC1D30', 'ABCG1', 'CPEB1', 'HECTD2', 'MIRLET7A1', 'MIR363', 'TTC26', 'FAM91A1', 'FGGY', 'EDEM3', 'FANK1', 'NLRP7', 'EXD2', 'DEFB4A', 'HERC6', 'CACNA1H', 'C17orf89', 'IVD', 'COQ9', 'COQ7', 'C7orf55', 'CHCHD10', 'SLMO2', 'COX7C', 'APOOL', 'PPTC7', 'RNASEH1', 'SLC30A9', 'PTPMT1', 'FUNDC2', 'COA3', 'ADCK4', 'C15orf48', 'USMG5', 'COX7A2', 'COX6A1', 'C20orf24', 'TRMT2B', 'CECR5', 'ADCK2', 'ATAD1', 'CISD3', 'COQ2', 'LACTB', 'PREPL', 'TRIM14', 'NLGN3', 'CYP11A1', 'ACOT2', 'TFF3', 'KISS1R', 'UBIAD1', 'ARC', 'UGT2B7', 'STH', 'GPX3', 'C11orf84', 'DCDC5', 'ASPG', 'CIDEA', 'CIDEC', 'PPAP2C', 'PPAP2A', 'TBRG4', 'CYP2C8', 'PLIN5', 'PLIN2', 'NGB', 'RCSD1', 'C21orf59', 'TMEM258', 'C4orf32', 'SPATA5', 'AGAP1', 'C4orf27', 'HMGN4', 'DUSP7', 'ATOH1', 'VANGL2', 'CLEC1B', 'TSC22D2', 'ZBTB3', 'FUNDC1', 'UBE3B', 'RHBDD1', 'MLKL', 'FCHO1', 'FAIM2', 'CACUL1', 'SDIM1', 'CD24', 'PREX2', 'FAT1', 'DDIAS', 'PHLDB3', 'G0S2', 'FGF14', 'SCN8A', 'MGST2', 'PTGFR', 'PDP1', 'TMEM106B', 'DUSP18', 'SLITRK3', 'MICB', 'PTPN20B', 'SLC39A7', 'CTDSPL2', 'DUPD1', 'DUSP2', 'SIX2', 'MTMR14', 'MTMR1', 'MTMR10', 'SBF2', 'ATPIF1', 'PDPR', 'HIST1H2BD', 'PPM1J', 'PPM1M', 'CNNM1', 'PTPDC1', 'PTPRN2', 'MOSPD2', 'FAM172A', 'TNS1', 'TPTE', 'TPTE2', 'DUSP5', 'GPRIN3', 'SNX19', 'TMEM57', 'SSH3', 'DUSP12', 'DUSP21', 'DUSP22', 'ARL10', 'SEPSECS', 'CSNK1G3', 'PFKFB4', 'AP3M2', 'CKMT2', 'PAPSS1', 'C15orf57', 'RTKN2', 'SNX30', 'TFCP2L1', 'HKDC1', 'HIST1H2BO', 'SNTG2', 'CASKIN1', 'RWDD4', 'USH1G', 'C21orf91', 'ADSSL1', 'METTL2A', 'METTL2B', 'LRRC28', 'SAR1B', 'TMEM199', 'TTC21B', 'RCCD1', 'KDM8', 'CNKSR3', 'ARHGAP39', 'EIF1AY', 'DPH3', 'BFSP1', 'CYHR1', 'HMGB1P1', 'INTU', 'CDR2L', 'TEX28', 'TMCC3', 'TIMM10B', 'SOWAHA', 'POGK', 'PRR20E', 'RGPD8', 'RAB6B', 'DIRAS1', 'FAM71F2', 'MSANTD4', 'SAMD13', 'C11orf31', 'LCP1', 'CORO6', 'MAOA', 'MAOB', 'NUDT16L1', 'NUDT16', 'TH', 'SAPCD2', 'CST1', 'CST4', 'C1orf106', 'ZNF703', 'RNASEL', 'PRR36', 'IQCC', 'CCDC40', 'ZDBF2', 'ACOT12', 'TMEM206', 'LYSMD1', 'TSPYL6', 'UCK2', 'RIT1', 'HPCAL4', 'NECAB1', 'SS18L2', 'ZNF658', 'ZSCAN18', 'DIRAS2', 'ZNHIT6', 'IKBIP', 'CMTR2', 'CFAP36', 'LRRC58', 'HIST1H1T', 'ZNF620', 'SFMBT2', 'TUBD1', 'HSP90AB4P', 'RIBC1', 'MTX3', 'ZNF721', 'KLHL6', 'C3orf38', 'SNRNP48', 'ZNF595', 'TUBG2', 'SNRNP35', 'COMMD3-BMI1', 'TBL1Y', 'NUDT8', 'ENOPH1', 'ZNF195', 'ZNF845', 'COA1', 'WDFY1', 'ZNF624', 'MTG2', 'AURKAIP1', 'JPH1', 'ARHGAP36', 'RSBN1L', 'RSBN1', 'C1orf226', 'PDK4', 'SMAP2', 'RUFY3', 'TUSC3', 'ZNF273', 'XPR1', 'ZNF320', 'SLC7A1', 'SAMD11', 'PUS7L', 'C21orf2', 'RIPPLY1', 'TMPRSS11B', 'PHF21B', 'PPP1R16B', 'FAM103A1', 'ZNF783', 'NDUFAF7', 'RNASE1', 'PGK2', 'NUDT19', 'D2HGDH', 'C1orf122', 'MTG1', 'AUH', 'AKIRIN1', 'TMA16', 'ZNF267', 'PLA2G10', 'ZNF503', 'CCDC172', 'GPC4', 'JMJD4', 'TOE1', 'METTL7A', 'ZNF92', 'ZNF354C', 'PLCD3', 'NRROS', 'CNPY3', 'CARS2', 'KHNYN', 'ZNF708', 'PHACTR2', 'CCDC109B', 'GFM2', 'ZNRF4', 'GRAMD1A', 'PDE3B', 'TMUB2', 'TNFRSF19', 'NAA30', 'NOL7', 'ZNF33B', 'ZNF18', 'ZNF564', 'MTFR1', 'NARS2', 'GPATCH11', 'SIGLECL1', 'C3orf52', 'RASL10B', 'ZFYVE27', 'ZNF738', 'C5orf34', 'TTC5', 'ANKRD46', 'BCAT2', 'MTRF1L', 'PXYLP1', 'PARP12', 'PXK', 'C19orf52', 'C17orf80', 'KIAA1143', 'RABL3', 'ZNF785', 'CPT2', 'CNNM2', 'SCFD2', 'TMCC2', 'SCN3B', 'AVIL', 'SMPD2', 'GXYLT1', 'DEFA5', 'ISG20L2', 'SLC6A15', 'SLC39A1', 'NAA40', 'EDEM2', 'TXNDC11', 'ZNF324B', 'LAMP3', 'NDUFC2', 'ZNF701', 'TMEM5', 'ZCRB1', 'TTC31', 'CNN2', 'ZNF77', 'MLEC', 'FAM188A', 'ZBTB42', 'CALN1', 'MTHFD2', 'AHNAK2', 'CCDC28B', 'LCMT2', 'ZNF669', 'YBEY', 'CLEC2D', 'VWCE', 'VSIG8', 'PDXDC1', 'TBC1D22B', 'SLC9A6', 'ODF4', 'OTC', 'ZNF445', 'FUCA2', 'NELL1', 'ZNF71', 'C12orf49', 'NCEH1', 'PNPLA6', 'FAM171A2', 'MGST3', 'PPM1E', 'ZNF766', 'IBA57', 'ZNF574', 'ARV1', 'CYB5A', 'PRKRIP1', 'ZNF593', 'SLC27A3', 'COL18A1', 'CCDC59', 'ZNF394', 'PPAN-P2RY11', 'LARP1B', 'MDK', 'WFDC2', 'FKBP7', 'MARCH9', 'C15orf27', 'ZNF432', 'ZNF84', 'CHST14', 'SEC61A2', 'SLC27A4', 'RPS10P5', 'SPTLC2', 'GPX8', 'MAN1B1', 'DNAJC16', 'FKBP10', 'CAPN15', 'ACTL8', 'USP40', 'MYL1', 'C1orf27', 'PROM1', 'MYO16', 'USP51', 'HTR1A', 'FLRT1', 'GLIPR1', 'SFRP2', 'KAL1', 'ANKS3', 'RMND5B', 'INPP5E', 'RAB28', 'C15orf26', 'DDHD1', 'PDE5A', 'UNC119B', 'MB21D2', 'TMEM120A', 'TMEM120B', 'PPIP5K2', 'AGMAT', 'DFNB31', 'SMDT1', 'ACAP2', 'KIAA0556', 'GRASP', 'PARPBP', 'HELQ', 'LPAR1', 'PDZRN3', 'TRIM16', 'TANGO6', 'SLC7A6OS', 'PREP', 'C11orf98', 'ARL4D', 'CMSS1', 'GPRC5A', 'FAM35A', 'SERINC5', 'DANCR', 'TRIM22', 'CALML5', 'ORF1', 'ZC3H7A', 'LINC01139', 'GPNMB', 'PDLIM2', 'TNFAIP8', 'RNF157', 'ATRN', 'SMPD3', 'ADCY1', 'RSC1A1', 'MFHAS1', 'MARVELD2', 'RHBDF2', 'IPMK', 'MTF1', 'ADRA1A', 'WDR81', 'IL1RL2', 'HTR2A', 'DLEU2', 'KDM3B', 'CHAT', 'VWFP1', 'PCBP2-OT1', 'SLC2A8', 'MMP3', 'HORMAD1', 'FERMT3', 'BAALC', 'KCNE2', 'PRSS50', 'MST1', 'FBXO16', 'DUX4', 'FAM63B', 'FAM63A', 'BLVRA', 'AQP2', 'MTSS1', 'RGMB', 'ABCC11', 'LAMB3', 'FLG2', 'KPRP', 'GGCT', 'KRT7', 'TMEM40', 'KRT80', 'CPNE1', 'PIWIL2', 'PHLDA2', 'KIAA1715', 'ST7', 'NMRK2', 'KLB', 'DPP9', 'HLF', 'ALKBH4', 'CLEC14A', 'MMRN2', 'MSRB1', 'CPEB2', 'KCTD12', 'CPNE3', 'PREB', 'OSBPL7', 'C19orf68', 'ZNF292', 'ZNF518B', 'GALNT8', 'LGALS7B', 'POF1B', 'TGM3', 'L3MBTL4', 'LOC81691', 'SKIDA1', 'HELB', 'ZNF211', 'ZNF296', 'ADRA2B', 'ANKEF1', 'FAM168B', 'ZCCHC2', 'WBP5', 'TGFB2', 'MADD', 'HSD17B11', 'HIST1H2AH', 'SMCO3', 'TTC33', 'HAGH', 'TRIM40', 'EVA1A', 'SESN1', 'TCF7', 'PLEKHA6', 'MICAL2', 'C19orf80', 'SLAIN1', 'TRIM48', 'SOAT2', 'AGRN', 'WDR41', 'RAB39A', 'WNT4', 'NOVA1', 'MTFR2', 'CWF19L1', 'FAM50A', 'DCST1', 'NWD2', 'SHROOM1', 'C2orf47', 'HIGD1A', 'ME2', 'ZNF696', 'ZNF319', 'ZNF275', 'PIP', 'HIST1H2BH', 'CTAG2', 'C22orf29', 'GAD1', 'TEKT1', 'DYDC1', 'SDC3', 'KRTAP2-4', 'AMMECR1', 'PGAP2', 'GRAMD3', 'CD99L2', 'ZFY', 'ZNF688', 'FAM188B', 'HAVCR1', 'GJD2', 'FRMD4B', 'GIPC2', 'GLS2', 'FTCD', 'NMNAT2', 'C9orf114', 'DPH7', 'CHRNA7', 'RAB29', 'ZSCAN4', 'MTAP', 'FGF11', 'TIMD4', 'PTX3', 'MGARP', 'CYSRT1', 'CSPG4', 'SLC43A3', 'EPSTI1', 'LZIC', 'ABHD17C', 'C10orf67', 'YBX2', 'ITGAX', 'IL13RA2', 'RNF183', 'AGTPBP1', 'HYAL2', 'DONSON', 'TLE6', 'CD109', 'MIR451A', 'MON1A', 'CCZ1', 'C5orf51', 'RAB23', 'CLIC3', 'MUC5B', 'CMPK1', 'ALDH1L1', 'SLC12A4', 'SLC30A1', 'PANX1', 'FLVCR1', 'TAOK3', 'SLC2A3', 'SLC12A7', 'EHBP1L1', 'VOPP1', 'B4GALT1', 'PIK3R6', 'DOK7', 'RPL36A-HNRNPH2', 'LDB3', 'ZNF608', 'LRRC25', 'CNIH4', 'KATNAL2', 'SNPH', 'MYH6', 'TSPY1', 'OAS2', 'ISOC2', 'MUC4', 'GUCY1A3', 'DMP1', 'KDM6B', 'KDM7A', 'KCNJ16', 'FMN2', 'FAM220A', 'CCDC134', 'SEP15', 'AFAP1L2', 'RTCA', 'AZGP1', 'CASP14', 'LGALS7', 'HIST2H3PS2', 'ERI1', 'NSUN5', 'SYCP2', 'HORMAD2', 'MIR217', 'LRIG3', 'SLC30A3', 'SLC30A4', 'CMTM6', 'PDLIM4', 'CPNE8', 'LRRC57', 'SLC7A11', 'TMEM2', 'TLDC1', 'NDRG3', 'NDUFAF2', 'SLC1A3', 'PLSCR3', 'C19orf26', 'USP6NL', 'TRPM4', 'RELL1', 'ZDHHC5', 'DEPDC1B', 'SLC26A6', 'ATP13A3', 'EFR3A', 'SLC38A1', 'ZDHHC20', 'EHBP1', 'EPB41L4B', 'SLC20A2', 'STK10', 'CPD', 'PALM', 'SLC7A2', 'SLC19A1', 'SLC39A14', 'CLDN1', 'SLC26A2', 'ROR1', 'ADCY6', 'ANO6', 'DCBLD1', 'STXBP6', 'SLC6A6', 'FLRT3', 'GPR107', 'SLC35A2', 'ABCC5', 'KIAA0319L', 'TMEM87A', 'SLC6A8', 'ZDHHC8', 'ZDHHC13', 'SLC4A2', 'ZFAND1', 'PTPRG', 'TRIM47', 'IGHA1', 'CMC4', 'CCDC58', 'C12orf73', 'SLC25A25', 'ACOT1', 'COA7', 'OMA1', 'SMIM12', 'TACO1', 'HIGD2A', 'TDRKH', 'SPCS3', 'NFXL1', 'C6orf132', 'GPRIN1', 'EFHD1', 'C1orf198', 'RALGAPA2', 'ALKBH5', 'PLEKHM3', 'TMEM55B', 'HPS3', 'TUBAL3', 'LRBA', 'B4GALT3', 'ENTPD6', 'GLA', 'HS6ST2', 'DDX31', 'VPS13D', 'CRYBG3', 'STON1', 'ARHGEF10', 'RALGAPA1', 'RALGAPB', 'FAM135A', 'LEMD2', 'SMPD4', 'KIAA1468', 'NBEA', 'SNX29', 'RPL39', 'LANCL2', 'NOL12', 'ALG1', 'DHCR7', 'CWC27', 'C1orf52', 'LARS2', 'CDK5RAP1', 'TRMT11', 'COX19', 'TMEM126B', 'SFXN2', 'PLGRKT', 'ETAA1', 'NPTN', 'C20orf196', 'GSTZ1', 'ACTL7A', 'MAN2A1', 'SV2B', 'GPR89B', 'IFNLR1', 'NOX4', 'ANKHD1-EIF4EBP3', 'CDCP1', 'DPPA3', 'ATG16L2', 'EPHA5', 'POTEF', 'POTEJ', 'POTEI', 'ATP8B2', 'NOX5', 'CD3G', 'RNF151', 'KCTD16', 'DEF8', 'PLEKHM1', 'FAM134B', 'TMEM9', 'HBA2', 'HLA-DQA1', 'HLA-DQB1', 'SLC17A7', 'SLC17A8', 'SLC32A1', 'ARMC12', 'SPIDR', 'TMEM41B', 'MSTO1', 'RAD51AP2', 'SLC5A3', 'ITFG3', 'SLC39A6', 'SHISA2', 'FAM126A', 'KIAA0754', 'C2CD2L', 'EFR3B', 'PLCH1', 'SLC6A9', 'RFK', 'WDR83OS', 'TMEM208', 'C12orf57', 'AZIN2', 'DAOA', 'ZFYVE21', 'MTRR', 'ZC3H4', 'PRDM16', 'DGCR6L', 'NHLRC2', 'ZDHHC18', 'SCN3A', 'KCNH5', 'RGPD1', 'FAM160B2', 'FAM184A', 'SULT4A1', 'IL1RL1', 'MINA', 'MASP1', 'GJB1', 'SOX1', 'TRIM43', 'HIST1H2AJ', 'VRK3', 'SPR', 'LYPLAL1', 'TXNDC12', 'IDH2', 'TOMM5', 'PTRHD1', 'FAHD2A', 'PTGES2', 'AK3', 'TST', 'DGUOK', 'MGST1', 'COX7B', 'CRYZ', 'HIST1H2BN', 'H2AFV', 'LINC00839', 'KLHL41', 'NRAP', 'EPG5', 'ALDH1A3', 'BECN1P1', 'OVOL2', 'DUXAP9', 'S100A3', 'DDX60', 'C10orf35', 'OASL', 'MS4A4A', 'P2RY6', 'MAB21L2', 'SLC15A3', 'EHD2', 'APOBEC3F', 'TIMM22', 'CNR1', 'GLTSCR1L', 'ACPP', 'MDP1', 'STAB2', 'B4GAT1', 'GHET1', 'INS', 'ZNF428', 'MIEN1', 'ABCC6', 'NSDHL', 'SLC6A19', 'MREG', 'LMBR1L', 'LOC101928405', 'LOC284930', 'DNPEP', 'FAM105A', 'TMX2', 'TMTC3', 'UGGT2', 'EEF1A1P5', 'CPE', 'GOLM1', 'PRIMPOL', 'RNR1', 'LOC102724652', 'TPK1', 'ZSCAN30', 'FAM214B', 'TBC1D23', 'SGSM2', 'SIGMAR1', 'TEX101', 'DPEP3', 'VSIG4', 'TMC8', 'LRRC4', 'TMPRSS2', 'GPR85', 'CXCL14', 'BPIFB1', 'HRH3', 'ZNF93', 'SLC5A8', 'MLYCD', 'ANKS4B', 'SLC7A14', 'SRRM4', 'VEZF1', 'CWF19L2', 'METAP1', 'PRPF18', 'STK19', 'BTBD3', 'FAM65C', 'AIFM2', 'CNTLN', 'C18orf54', 'C6orf222', 'ZC2HC1C', 'MSMO1', 'TRAPPC2B', 'MPC1', 'MPC2', 'C1orf21', 'REP15', 'PAGE1', 'ERMP1', 'C14orf119', 'FNDC8', 'ARL8A', 'NAALAD2', 'SPCS1', 'LSMEM2', 'FAM9C', 'DNAJB13', 'ZSCAN23', 'SMAP1', 'KRT34', 'KRT27', 'GAS2L2', 'ZNF213', 'HSD17B14', 'ZNF710', 'PLEKHN1', 'VGLL3', 'ZNF35', 'SLC7A8', 'HNRNPCL2', 'TMEM205', 'HSD3B7', 'CCDC96', 'KDELR3', 'CT45A1', 'ALG13', 'PCYT1B', 'VKORC1L1', 'TTC23', 'GOLGA6A', 'BRICD5', 'STK32A', 'PKNOX2', 'LRRC73', 'SLIT1', 'FAM221A', 'TSPAN12', 'TMEM106C', 'C22orf15', 'EBF3', 'EBF2', 'BOLA2B', 'HIST1H4B', 'ZBTB34', 'PFKFB1', 'PABPC5', 'SPATA33', 'ZNF639', 'INSC', 'TTC7B', 'ZNF426', 'BAZ2B', 'BANF2', 'ANKK1', 'FAM212A', 'HSPA12B', 'C1QTNF6', 'TMEM106A', 'ZNF655', 'SYCE2', 'MESDC1', 'ACBD6', 'ZNF526', 'PPP3R2', 'MSGN1', 'FIGLA', 'CPNE2', 'THAP4', 'IRGQ', 'GAS8', 'CMTM5', 'PRR5-ARHGAP8', 'ENTHD1', 'RIPPLY3', 'RWDD2B', 'TEX12', 'TMEM56', 'TBRG1', 'ATP5G3', 'SYAP1', 'PGGT1B', 'SPDYE4', 'ZMAT4', 'KRT76', 'KRT74', 'FUT3', 'FAM3B', 'KRT77', 'MSRB3', 'MRPL54', 'EIF4E1B', 'ZNF777', 'SPANXN2', 'ZNF48', 'VWC2', 'UBL4B', 'DACT3', 'HYKK', 'FAM229B', 'MEG3', 'TSPAN8', 'DARS-AS1', 'LRP10', 'GREB1L', 'GREB1', 'CRB1', 'LINC01198', 'SBSN', 'C4A', 'QPCT', 'P2RY2', 'TRIM67', 'TRPM2', 'CELF6', 'SPHK2', 'FOCAD', 'RBFOX3', 'HOXA2', 'SNTG1', 'DOK6', 'SLC14A2', 'IL1R2', 'PVT1', 'LINC01554', 'MIRLET7G', 'MIR1-1', 'MIR9-1', 'MIR18A', 'MIR18B', 'MIR20A', 'MIR29B2', 'MIR138-2', 'MIR140', 'MIR145', 'MIR199A1', 'ADAMTS9-AS2', 'HPD', 'TTC36', 'HMOX1', 'LOC102723729', 'IL13', 'IL13RA1', 'NTAN1', 'LOC100505817', 'GAS5', 'XDH', 'KRT19P3', 'PAPD5', 'ZCCHC14', 'SLITRK1', 'SLC18A3', 'SEC14L1', 'PCAT1', 'PAQR9', 'NEAT1', 'SLC5A7', 'GIP', 'BAI2', 'ARHGAP42', 'ARHGEF35', 'SH3BGRL', 'FAM122B', 'NME2P1', 'GRM2', 'NREP', 'SLC8A1', 'FXYD1', 'BAI3', 'C1QL3', 'KIAA2018', 'LOC102724334', 'HIST2H2BF', 'GPR171', 'POLQ', 'SCN2A', 'OR7A10', 'TTLL1', 'NPY2R', 'G2E3', 'CHRNB3', 'DNAH1', 'HSP90B2P', 'USP9Y', 'CYP21A2', 'OR14C36', 'MRC2', 'MRC1', 'MYH15', 'SPAG17', 'HOXB3', 'ZSWIM2', 'ZGRF1', 'CSMD2', 'CTAGE1', 'C4orf47', 'DNASE1L1', 'ESRP2', 'KIAA1211L', 'DNAAF3', 'HMGN3', 'PCDH11X', 'ITPR2', 'FSIP2', 'PDIA5', 'ERAP2', 'C9orf117', 'GK3P', 'OXER1', 'EFCAB12', 'TAAR3', 'SLCO5A1', 'C9orf171', 'JPH2', 'LOC728637', 'MN1', 'SUN1', 'TFEC', 'PARL', 'DNAJC21', 'IMMP2L', 'EARS2', 'PLEKHG4B', 'ARHGEF39', 'ARHGEF40', 'ARHGAP24', 'SRGAP3', 'FGD2', 'ARHGAP18', 'ARHGAP30', 'IFI6', 'TMEM161A', 'CERS6', 'ADORA1', 'FA2H', 'TTYH1', 'MGLL', 'HTR4', 'SLC22A2', 'GPM6B', 'DYSF', 'MYOM1', 'ADPGK', 'CLIP4', 'CMYA5', 'DGKD', 'MYOM2', 'ACADSB', 'GATC', 'CPEB4', 'FAM98C', 'ATP5J2-PTCD1', 'KIAA0391', 'THEM4', 'FAM193A', 'SECISBP2', 'ZZEF1', 'SYNE3', 'C9orf156', 'LRRC31', 'DUX1', 'DUX4L9', 'ALPP', 'RAB15', 'QPCTL', 'GPR182', 'ABHD12', 'PTDSS2', 'GPR35', 'SYNGR2', 'MYO1F', 'TNNC2', 'PLEKHG4', 'NGEF', 'ARAP2', 'ARHGAP29', 'SULF2', 'SUV420H1', 'SP110', 'MTHFR', 'ZNF316', 'ZNF324', 'ZNF589', 'APEH', 'FTO', 'ARHGEF10L', 'CHN1', 'ECT2L', 'STARD8', 'GK', 'TRABD', 'AK4', 'GATB', 'GUF1', 'MGME1', 'PNPLA8', 'QRSL1', 'THG1L', 'FASTKD3', 'TEX2', 'FAM73A', 'MTRF1', 'ACADM', 'ARG2', 'ALDH6A1', 'MPST', 'HSD17B8', 'WARS2', 'PITRM1', 'ABCB10', 'HIBCH', 'NUBPL', 'ACSS1', 'GPT2', 'MARS2', 'SFXN4', 'NADK2', 'ALDH1L2', 'CLYBL', 'SPRYD4', 'CDS2', 'TMLHE', 'ATL1', 'KIAA0922', 'MXRA7', 'TAPT1', 'AAAS', 'CLMN', 'DHRS13', 'TMX3', 'ABCA3', 'ANO10', 'FRAS1', 'TMEM38B', 'SCD5', 'PTDSS1', 'TMX4', 'AGPAT9', 'TMCO1', 'GRAMD4', 'RFT1', 'BTN3A3', 'AGPAT6', 'APOL2', 'SLC16A3', 'MUC5AC', 'HULC', 'CASC9', 'PAQR4', 'TMEM192', 'SPAG5-AS1', 'CHRNB2', 'CHRNA3', 'CYP19A1', 'CHD2', 'LOC100133669', 'SLC7A11-AS1', 'LRP1B', 'LINC00467', 'STC1', 'SMOC1', 'SLC5A6', 'MSRB2', 'TGFBI', 'ASTN1', 'ZFAND2A', 'HTRA3', 'SCRN1', 'HIST1H2AC', 'RNF208', 'NTF3', 'HOXB8', 'GALNT6', 'LOC100506753', 'NEIL3', 'GBE1', 'NSMF', 'HOTTIP', 'FAM20C', 'KDF1', 'ZNF317', 'CAMTA2', 'ELK3', 'DNAJB3', 'DNAJC24', 'DNAJC25', 'FAM184B', 'DNAJC28', 'DNAJC4', 'DNAJC5B', 'PDE7A', 'DNAJB7', 'LSS', 'LRRC61', 'CHID1', 'APOC2', 'HIST1H2AI', 'ZNF514', 'FAM76B', 'PARP16', 'LXN', 'STK17A', 'CGRRF1', 'MARCH4', 'DNAJC18', 'ENDOD1', 'OLR1', 'ALDH1A2', 'MT1M', 'FBN1', 'LINC00669', 'ABCA2', 'ARSK', 'IDUA', 'PCYOX1', 'GSDMD', 'LINC00624', 'MIR182', 'LINC00452', 'SNHG11', 'SAC3D1', 'CNN3', 'SCIN', 'AGAP3', 'C2CD4C', 'GPR89A', 'B3GAT1', 'AGPAT1', 'DHFRL1', 'EBAG9', 'EPB41L4A', 'AIM1', 'CRACR2A', 'FAM129A', 'GPRC5C', 'HEG1', 'SLC35F2', 'SFT2D3', 'RAB4B', 'TBC1D8', 'LPHN2', 'ARHGEF18', 'PCNXL3', 'SLCO4A1', 'TENM3', 'XXYLT1', 'TMED8', 'C6orf47', 'TBCE', 'CREBL2', 'SP140', 'TEF', 'C4orf22', 'TRPM8', 'SHISA4', 'SLC26A4-AS1', 'ABCG2', 'UCA1', 'LOC441178', 'HTRA4', 'LINC01232', 'VTCN1', 'NPTX1', 'ARX', 'CALML6', 'PAGE4', 'BGLT3', 'FAM47E', 'ANO1', 'CEACAM5', 'ZNF684', 'LRRC20', 'PLEKHA3', 'ZNF284', 'NXN', 'SYDE2', 'ZNF550', 'ATAT1', 'SAA1', 'CDS1', 'C5orf30', 'SPATA18', 'PLEKHH3', 'PANK3', 'URGCP', 'OGFR', 'SEPHS2', 'IGHG2', 'ANKRD20A4', 'H1FOO', 'FAM53B', 'REEP3', 'BROX', 'ARHGAP19', 'SNRK', 'DCAF8L2', 'CTF1', 'IFFO2', 'ACAP3', 'PPP1R14B', 'NOP9', 'RLTPR', 'ISX', 'PLD6', 'IFITM1', 'EPHA6', 'SPDYC', 'TCP11L1', 'CABP2', 'NYNRIN', 'TCEAL5', 'TCEAL3', 'GDAP2', 'ZMYM6', 'H2AFJ', 'MTSS1L', 'ARMCX5', 'EFNA4', 'SRMS', 'PRR7', 'ATP2A3', 'RGPD3', 'CEP112', 'NRSN2', 'SPIN4', 'DBNDD1', 'LMAN2L', 'ZNF776', 'PARP8', 'RBAK', 'TTC14', 'RANBP17', 'SNX13', 'PSD3', 'ZXDB', 'MS4A10', 'VPS9D1', 'MCOLN2', 'MCOLN1', 'FAM50B', 'ZNF718', 'KIF4B', 'IQSEC2', 'OSTC', 'ZNF554', 'CRISP3', 'PCDHGB5', 'LPIN3', 'MAS1', 'DZIP1', 'NAA11', 'PURG', 'TMEM9B', 'KRT78', 'HUNK', 'NACAD', 'METTL9', 'AGBL4', 'NOMO2', 'MKL2', 'CDV3', 'ZNF726', 'ZNF17', 'LOC260334', 'TOR2A', 'TMEM179B', 'ZNF44', 'ZNF805', 'ZNF430', 'ZNF480', 'CLEC4E', 'ZNF799', 'ZNF57', 'ZNF699', 'ZNF124', 'ZNF558', 'ZNF813', 'ZNF780A', 'ZNF184', 'ZNF14', 'ZNF791', 'ZNF587B', 'ZNF485', 'ZNF552', 'ZNF45', 'ZNF611', 'DAK', 'GRK4', 'ATP2C1', 'ZNF543', 'ZFP90', 'ZNF566', 'REEP2', 'ZNF100', 'ZNF235', 'ZNF468', 'ZNF761', 'ZNF302', 'SPPL2B', 'ZNF227', 'RSL24D1', 'ECHDC1', 'ZNF91', 'ZNF383', 'ZNF561', 'KTI12', 'ZNF490', 'ZNF562', 'FLJ44635', 'LINS', 'ZNF354B', 'FAM49B', 'FAM46C', 'NEURL3', 'B3GALT6', 'RMND1', 'TNFAIP8L2', 'ORAI1', 'SLC40A1', 'LHPP', 'AIF1L', 'ITIH4', 'QSOX2', 'TTC13', 'SPINT2', 'PCDH19', 'CTSS', 'MESDC2', 'TTC17', 'MINPP1', 'C19orf70', 'CLEC4D', 'EPCAM', 'ITM2B', 'TMPRSS4', 'COCH', 'LRIG2', 'PLXNA3', 'SEMA6A', 'CHPF2', 'SH3BGRL3', 'OR51B2', 'AIRN', 'PPDPF', 'NXPH2', 'OLFML2B', 'TMIGD2', 'NEURL2', 'MMD', 'ELOF1', 'GSDMA', 'PM20D2', 'SRM', 'LOR', 'DCXR', 'IL4I1', 'TMPRSS13', 'DUS2', 'PON1', 'ANTXR1', 'CNR2', 'CCDC65', 'ZNF185', 'PDE2A', 'T', 'ETV3', 'B3GALNT2', 'MNX1', 'NKX2-4', 'ZBTB40', 'YY2', 'SLC31A1', 'A1BG', 'PIGR', 'MAP6', 'CCL1', 'CCZ1B', 'ZDHHC11', 'IGLL5', 'GIMAP5', 'KIAA1551', 'CCAT1', 'PRAMEF2', 'POTEE', 'TMSB10', 'ATP2B3', 'GRAMD1B', 'DHRS7', 'PABPC4L', 'ZNF555', 'ZNF567', 'ZNF724P', 'TBCA', 'SSH2', 'C17orf53', 'ME1', 'FAM177A1', 'COL9A3', 'COL6A5', 'ATG9B', 'KLHL1', 'ACOT7', 'WDR47', 'ILDR2', 'PLD4', 'TM9SF1', 'PLD5', 'ENKUR', 'C19orf35', 'HECTD4', 'DUT', 'UTP11L', 'LOC101929977', 'LOC100130075', 'HOXC-AS3', 'BDNF-AS', 'TBX20', 'CTH', 'ALDH5A1', 'CAPN11', 'CYP51A1', 'DHRS7B', 'DTYMK', 'EML2', 'EPHX1', 'FDXR', 'HBD', 'PPOX', 'PGS1', 'CCBL2', 'HMBS', 'HMGCS1', 'LTA4H', 'MBNL2', 'PANK4', 'PPWD1', 'TBC1D22A', 'TBC1D24', 'TRMT5', 'TRMU', 'TTC38', 'UAP1L1', 'UGDH', 'GALNT7', 'MGAT2', 'C1GALT1', 'GCNT1', 'B4GALT4', 'TMEM246', 'CANT1', 'TPST1', 'TPST2', 'GLT8D1', 'CASC4', 'BTBD11', 'ZC3H7B', 'SCARF2', 'ARL5B', 'PLEKHM2', 'ARL11', 'ARL14', 'RMDN1', 'CRISP2', 'MSMB', 'C7orf49', 'DCK', 'B3GAT3', 'PDXK', 'ABHD14B', 'RNF141', 'ZXDA', 'CLN5', 'CRIP1', 'BBOX1', 'NAT8', 'SRPX', 'OTUD6A', 'EFHD2', 'C1orf68', 'LYPLA2', 'NNMT', 'NEK3', 'DDX43', 'CAMK2N1', 'FAM92B', 'C2orf54', 'BPIFA1', 'GABRA2', 'ARL4C', 'FOXD1', 'RNF145', 'LINC00941', 'HLA-H', 'DNAH10', 'LMTK3', 'GLO1', 'EPHA10', 'LOC389895', 'IL11', 'CSRP2', 'FADS2', 'GNB1L', 'ITPA', 'AFD1', 'ANXA4', 'MICALL2', 'BDH1', 'WEE2-AS1', 'TRIM64', 'PWARSN', 'NLRP6', 'SIAH3', 'LINC00857', 'ACAD10', 'MEP1B', 'PIM3', 'DFNA5', 'HAL', 'SERPINB12', 'ZG16B', 'NCCRP1', 'TGM1', 'FAM212B', 'PSTK', 'CRNDE', 'HOXA11-AS', 'LINC01537', 'SLC6A20', 'SOX21-AS1', 'RHBDL2', 'LINC00491', 'SAYSD1', 'USP2-AS1', 'LINC01468', 'DLGAP1-AS2', 'CCDC3', 'MOB3C', 'C18orf21', 'MESP1', 'IFI27', 'LINC00629', 'LINC00632', 'TMCO4', 'SLC25A21-AS1', 'ZDHHC15', 'LRP12', 'C19orf33', 'GRIK3', 'SOX2-OT', 'AK6', 'LINC00460', 'MGC16025', 'SAMD9', 'HMGCL', 'LINC00963', 'GPCPD1', 'EFNA3', 'ANKRD35', 'CEMIP', 'KRT73', 'ARPP19', 'RAB3C', 'RAB3D', 'DYRK3', 'GATA5', 'PKLR', 'TSPAN7', 'LOC100132735', 'CTAGE8', 'DNAH2', 'DNAH3', 'DNAH6', 'NKIRAS2', 'DOPEY1', 'EXOG', 'TMA7', 'GALNTL5', 'GIN1', 'ESM1', 'CTSK', 'SEC11B', 'TLR7', 'CCDC74B', 'MYH8', 'TTC21A', 'ST13P4', 'ST13P5', 'TMSB4Y', 'SETSIP', 'KIAA2022', 'IGSF10', 'TKTL1', 'DNAH9', 'LRRC71', 'C19orf10', 'ABCC12', 'PDE10A', 'ANXA2P2', 'CADPS2', 'KIAA1109', 'HYDIN', 'HIST1H4G', 'METTL25', 'DNAH8', 'SYCP1', 'ZSCAN26', 'ANKRD36', 'EIF5AL1', 'FAM186B', 'CFAP70', 'FAM71E2', 'LRRIQ1', 'MYH1', 'MYH13', 'ZNF804A', 'UQCRFS1P1', 'ARRDC5', 'LINC00240', 'LOC101060621', 'MIR24-1', 'MIR223', 'LILRB1', 'TMEM132D', 'H3F3C', 'WDR72', 'FASTKD1', 'MIA2', 'ITGB8', 'SNHG6', 'C12orf5', 'HSD11B1L', 'LINC00113', 'CERS1', 'CHKA', 'IL33', 'FAM196A', 'HNRNPCL3', 'DEFB124', 'CXorf65', 'RDH12', 'GTPBP6', 'MYPOP', 'FAIM3', 'ZSWIM5', 'RGPD2', 'SLC22A14', 'ATAD3C', 'MYBPC2', 'KIAA1407', 'LY6E', 'FBXW10', 'FAM13A-AS1', 'WISP2', 'H19', 'ACSS3', 'RNF112', 'NRON', 'HRH1', 'UFSP1', 'BTN3A2', 'MUC12', 'CAPG', 'STMN4', 'PDSS2', 'PDSS1', 'PGM2L1', 'UBE2NL', 'DNAH5', 'NOXO1', 'LONRF2', 'CLDN2', 'AQP9', 'NFATC3', 'ABHD8', 'TMPRSS11D', 'P2RX2', 'KCNN1', 'GPR4', 'LINC00664', 'LINC00312', 'SBNO2', 'FABP1'))"
      ]
     },
     "execution_count": 4,
     "metadata": {},
     "output_type": "execute_result"
    }
   ],
   "source": [
    "G.nodes"
   ]
  },
  {
   "cell_type": "code",
   "execution_count": null,
   "metadata": {},
   "outputs": [],
   "source": [
    "def calculate_distances(G, importants):\n",
    "    \"\"\" Calculate the shortest distance from each important node to all other nodes, and obtain the minimum value \"\"\"\n",
    "\n",
    "    all_distances_list = []\n",
    "\n",
    "\n",
    "    for important_list in importants:\n",
    "        # if important in G:\n",
    "        all_distances = {}\n",
    "        for important in important_list:\n",
    "            distances = nx.single_source_shortest_path_length(G, important)\n",
    "            all_distances[important] = distances\n",
    "        all_distances_list.append(all_distances)\n",
    "    print('done')\n",
    "\n",
    "    min_distances = {}\n",
    "    # return all_distances\n",
    "\n",
    "    for node in G.nodes:\n",
    "        # if node not in importants:\n",
    "        min_distance = float('inf')\n",
    "        for important in importants:\n",
    "            if important in all_distances and node in all_distances[important]:\n",
    "                min_distance = min(min_distance, all_distances[important][node])\n",
    "        min_distances[node] = min_distance if min_distance != float('inf') else None\n",
    "        # print_progress_bar(len(min_distances), leeee)\n",
    "    return min_distances\n",
    "\n",
    "\n",
    "# ttt = calculate_distances(G, importants)\n",
    "# ttt\n",
    "# min_distances = calculate_distances(G, importants)"
   ]
  },
  {
   "cell_type": "code",
   "execution_count": null,
   "metadata": {},
   "outputs": [],
   "source": [
    "import sys\n",
    "import time\n",
    "\n",
    "def print_progress_bar(iteration, total, prefix='', suffix='', decimals=1, length=50, fill='█', print_end=\"\\r\"):\n",
    "\n",
    "    percent = (\"{0:.\" + str(decimals) + \"f}\").format(100 * (iteration / float(total)))\n",
    "    filled_length = int(length * iteration // total)\n",
    "    bar = fill * filled_length + '-' * (length - filled_length)\n",
    "    print(f'\\r{prefix} |{bar}| {percent}% {suffix}', end=print_end)\n",
    "    # 当完成时打印新行\n",
    "    if iteration == total: \n",
    "        print()"
   ]
  },
  {
   "cell_type": "code",
   "execution_count": null,
   "metadata": {},
   "outputs": [
    {
     "name": "stdout",
     "output_type": "stream",
     "text": [
      " |██████████████████████████████████████████████████| 100.0% \n",
      " |██████████████████████████████████████████████████| 100.0% \n"
     ]
    }
   ],
   "source": [
    "import json\n",
    "def calculate_distances(G, importants):\n",
    "\n",
    "    all_distances = {}\n",
    "\n",
    "    for important in importants:\n",
    "        if important in G:\n",
    "            distances = nx.single_source_shortest_path_length(G, important)\n",
    "            all_distances[important] = distances\n",
    "        print_progress_bar(len(all_distances), len(importants))\n",
    "\n",
    "    min_distances = {}\n",
    "\n",
    "\n",
    "    for node in G.nodes:\n",
    "        if node not in importants:\n",
    "            min_distance = float('inf')\n",
    "            for important in importants:\n",
    "                if important in all_distances and node in all_distances[important]:\n",
    "                    min_distance = min(min_distance, all_distances[important][node])\n",
    "            min_distances[node] = min_distance if min_distance != float('inf') else None\n",
    "        else:\n",
    "            min_distances[node] = 0\n",
    "    return min_distances\n",
    "dis = []\n",
    "for i in range(len(importants)):\n",
    "    min_distances = calculate_distances(G, importants[i])\n",
    "    dis.append(min_distances)\n",
    "    with open('distance_CDH.json', 'w') as f:\n",
    "        json.dump(dis, f)\n",
    "\n",
    "\n"
   ]
  },
  {
   "cell_type": "code",
   "execution_count": 28,
   "metadata": {},
   "outputs": [],
   "source": [
    "with open('manything/distance.json', 'w') as f:\n",
    "    json.dump(dis, f)"
   ]
  },
  {
   "cell_type": "code",
   "execution_count": 10,
   "metadata": {},
   "outputs": [
    {
     "name": "stdout",
     "output_type": "stream",
     "text": [
      "|██--------------------------------------| 5.44% Complete"
     ]
    },
    {
     "ename": "KeyboardInterrupt",
     "evalue": "",
     "output_type": "error",
     "traceback": [
      "\u001b[0;31m---------------------------------------------------------------------------\u001b[0m",
      "\u001b[0;31mKeyboardInterrupt\u001b[0m                         Traceback (most recent call last)",
      "Cell \u001b[0;32mIn[10], line 6\u001b[0m\n\u001b[1;32m      4\u001b[0m leeee \u001b[38;5;241m=\u001b[39m \u001b[38;5;28mlen\u001b[39m(\u001b[38;5;28mlist\u001b[39m(G\u001b[38;5;241m.\u001b[39mnodes))\n\u001b[1;32m      5\u001b[0m \u001b[38;5;28;01mfor\u001b[39;00m node \u001b[38;5;129;01min\u001b[39;00m \u001b[38;5;28mlist\u001b[39m(G\u001b[38;5;241m.\u001b[39mnodes):\n\u001b[0;32m----> 6\u001b[0m     distance[node] \u001b[38;5;241m=\u001b[39m \u001b[43mget_min\u001b[49m\u001b[43m(\u001b[49m\u001b[43mnode\u001b[49m\u001b[43m,\u001b[49m\u001b[43m \u001b[49m\u001b[43mimportants\u001b[49m\u001b[43m[\u001b[49m\u001b[43mi\u001b[49m\u001b[43m]\u001b[49m\u001b[43m,\u001b[49m\u001b[43m \u001b[49m\u001b[43mG\u001b[49m\u001b[43m)\u001b[49m\n\u001b[1;32m      7\u001b[0m     print_progress_bar(\u001b[38;5;28mlen\u001b[39m(distance), leeee)\n\u001b[1;32m      8\u001b[0m distances\u001b[38;5;241m.\u001b[39mappend(distance)\n",
      "Cell \u001b[0;32mIn[2], line 5\u001b[0m, in \u001b[0;36mget_min\u001b[0;34m(source_node, target_nodes, G)\u001b[0m\n\u001b[1;32m      3\u001b[0m \u001b[38;5;28;01mfor\u001b[39;00m target \u001b[38;5;129;01min\u001b[39;00m target_nodes:\n\u001b[1;32m      4\u001b[0m     \u001b[38;5;28;01mif\u001b[39;00m target \u001b[38;5;129;01min\u001b[39;00m G:\n\u001b[0;32m----> 5\u001b[0m         distance \u001b[38;5;241m=\u001b[39m \u001b[43mnx\u001b[49m\u001b[38;5;241;43m.\u001b[39;49m\u001b[43mshortest_path_length\u001b[49m\u001b[43m(\u001b[49m\u001b[43mG\u001b[49m\u001b[43m,\u001b[49m\u001b[43m \u001b[49m\u001b[43msource\u001b[49m\u001b[38;5;241;43m=\u001b[39;49m\u001b[43msource_node\u001b[49m\u001b[43m,\u001b[49m\u001b[43m \u001b[49m\u001b[43mtarget\u001b[49m\u001b[38;5;241;43m=\u001b[39;49m\u001b[43mtarget\u001b[49m\u001b[43m)\u001b[49m\n\u001b[1;32m      6\u001b[0m         shortest_distances[target] \u001b[38;5;241m=\u001b[39m distance\n\u001b[1;32m      8\u001b[0m \u001b[38;5;28;01mif\u001b[39;00m shortest_distances:\n",
      "File \u001b[0;32m~/anaconda3/envs/lyk_mippi/lib/python3.8/site-packages/networkx/classes/backends.py:148\u001b[0m, in \u001b[0;36m_dispatch.<locals>.wrapper\u001b[0;34m(*args, **kwds)\u001b[0m\n\u001b[1;32m    144\u001b[0m         \u001b[38;5;28;01melse\u001b[39;00m:\n\u001b[1;32m    145\u001b[0m             \u001b[38;5;28;01mraise\u001b[39;00m NetworkXNotImplemented(\n\u001b[1;32m    146\u001b[0m                 \u001b[38;5;124mf\u001b[39m\u001b[38;5;124m\"\u001b[39m\u001b[38;5;124m'\u001b[39m\u001b[38;5;132;01m{\u001b[39;00mname\u001b[38;5;132;01m}\u001b[39;00m\u001b[38;5;124m'\u001b[39m\u001b[38;5;124m not implemented by \u001b[39m\u001b[38;5;132;01m{\u001b[39;00mplugin_name\u001b[38;5;132;01m}\u001b[39;00m\u001b[38;5;124m\"\u001b[39m\n\u001b[1;32m    147\u001b[0m             )\n\u001b[0;32m--> 148\u001b[0m \u001b[38;5;28;01mreturn\u001b[39;00m \u001b[43mfunc\u001b[49m\u001b[43m(\u001b[49m\u001b[38;5;241;43m*\u001b[39;49m\u001b[43margs\u001b[49m\u001b[43m,\u001b[49m\u001b[43m \u001b[49m\u001b[38;5;241;43m*\u001b[39;49m\u001b[38;5;241;43m*\u001b[39;49m\u001b[43mkwds\u001b[49m\u001b[43m)\u001b[49m\n",
      "File \u001b[0;32m~/anaconda3/envs/lyk_mippi/lib/python3.8/site-packages/networkx/algorithms/shortest_paths/generic.py:314\u001b[0m, in \u001b[0;36mshortest_path_length\u001b[0;34m(G, source, target, weight, method)\u001b[0m\n\u001b[1;32m    311\u001b[0m \u001b[38;5;28;01melse\u001b[39;00m:\n\u001b[1;32m    312\u001b[0m     \u001b[38;5;66;03m# Find shortest source-target path.\u001b[39;00m\n\u001b[1;32m    313\u001b[0m     \u001b[38;5;28;01mif\u001b[39;00m method \u001b[38;5;241m==\u001b[39m \u001b[38;5;124m\"\u001b[39m\u001b[38;5;124munweighted\u001b[39m\u001b[38;5;124m\"\u001b[39m:\n\u001b[0;32m--> 314\u001b[0m         p \u001b[38;5;241m=\u001b[39m \u001b[43mnx\u001b[49m\u001b[38;5;241;43m.\u001b[39;49m\u001b[43mbidirectional_shortest_path\u001b[49m\u001b[43m(\u001b[49m\u001b[43mG\u001b[49m\u001b[43m,\u001b[49m\u001b[43m \u001b[49m\u001b[43msource\u001b[49m\u001b[43m,\u001b[49m\u001b[43m \u001b[49m\u001b[43mtarget\u001b[49m\u001b[43m)\u001b[49m\n\u001b[1;32m    315\u001b[0m         paths \u001b[38;5;241m=\u001b[39m \u001b[38;5;28mlen\u001b[39m(p) \u001b[38;5;241m-\u001b[39m \u001b[38;5;241m1\u001b[39m\n\u001b[1;32m    316\u001b[0m     \u001b[38;5;28;01melif\u001b[39;00m method \u001b[38;5;241m==\u001b[39m \u001b[38;5;124m\"\u001b[39m\u001b[38;5;124mdijkstra\u001b[39m\u001b[38;5;124m\"\u001b[39m:\n",
      "File \u001b[0;32m~/anaconda3/envs/lyk_mippi/lib/python3.8/site-packages/networkx/algorithms/shortest_paths/unweighted.py:240\u001b[0m, in \u001b[0;36mbidirectional_shortest_path\u001b[0;34m(G, source, target)\u001b[0m\n\u001b[1;32m    237\u001b[0m     \u001b[38;5;28;01mraise\u001b[39;00m nx\u001b[38;5;241m.\u001b[39mNodeNotFound(msg)\n\u001b[1;32m    239\u001b[0m \u001b[38;5;66;03m# call helper to do the real work\u001b[39;00m\n\u001b[0;32m--> 240\u001b[0m results \u001b[38;5;241m=\u001b[39m \u001b[43m_bidirectional_pred_succ\u001b[49m\u001b[43m(\u001b[49m\u001b[43mG\u001b[49m\u001b[43m,\u001b[49m\u001b[43m \u001b[49m\u001b[43msource\u001b[49m\u001b[43m,\u001b[49m\u001b[43m \u001b[49m\u001b[43mtarget\u001b[49m\u001b[43m)\u001b[49m\n\u001b[1;32m    241\u001b[0m pred, succ, w \u001b[38;5;241m=\u001b[39m results\n\u001b[1;32m    243\u001b[0m \u001b[38;5;66;03m# build path from pred+w+succ\u001b[39;00m\n",
      "File \u001b[0;32m~/anaconda3/envs/lyk_mippi/lib/python3.8/site-packages/networkx/algorithms/shortest_paths/unweighted.py:291\u001b[0m, in \u001b[0;36m_bidirectional_pred_succ\u001b[0;34m(G, source, target)\u001b[0m\n\u001b[1;32m    289\u001b[0m forward_fringe \u001b[38;5;241m=\u001b[39m []\n\u001b[1;32m    290\u001b[0m \u001b[38;5;28;01mfor\u001b[39;00m v \u001b[38;5;129;01min\u001b[39;00m this_level:\n\u001b[0;32m--> 291\u001b[0m     \u001b[38;5;28;01mfor\u001b[39;00m w \u001b[38;5;129;01min\u001b[39;00m Gsucc[v]:\n\u001b[1;32m    292\u001b[0m         \u001b[38;5;28;01mif\u001b[39;00m w \u001b[38;5;129;01mnot\u001b[39;00m \u001b[38;5;129;01min\u001b[39;00m pred:\n\u001b[1;32m    293\u001b[0m             forward_fringe\u001b[38;5;241m.\u001b[39mappend(w)\n",
      "\u001b[0;31mKeyboardInterrupt\u001b[0m: "
     ]
    }
   ],
   "source": [
    "distances = []\n",
    "for i in range(len(importants)):\n",
    "    distance = {}\n",
    "    leeee = len(list(G.nodes))\n",
    "    for node in list(G.nodes):\n",
    "        distance[node] = get_min(node, importants[i], G)\n",
    "        print_progress_bar(len(distance), leeee)\n",
    "    distances.append(distance)\n",
    "    print(i)"
   ]
  },
  {
   "cell_type": "code",
   "execution_count": 9,
   "metadata": {},
   "outputs": [],
   "source": [
    "import sys\n",
    "def print_progress_bar(iteration, total, length=40):\n",
    "    percent = (iteration / total) * 100\n",
    "    filled_length = int(length * iteration // total)\n",
    "    bar = '█' * filled_length + '-' * (length - filled_length)\n",
    "    sys.stdout.write(f'\\r|{bar}| {percent:.2f}% Complete')\n",
    "    sys.stdout.flush()"
   ]
  }
 ],
 "metadata": {
  "kernelspec": {
   "display_name": "Python 3 (ipykernel)",
   "language": "python",
   "name": "python3"
  },
  "language_info": {
   "codemirror_mode": {
    "name": "ipython",
    "version": 3
   },
   "file_extension": ".py",
   "mimetype": "text/x-python",
   "name": "python",
   "nbconvert_exporter": "python",
   "pygments_lexer": "ipython3",
   "version": "3.8.12"
  }
 },
 "nbformat": 4,
 "nbformat_minor": 4
}
